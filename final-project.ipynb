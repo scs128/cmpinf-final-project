{
 "cells": [
  {
   "cell_type": "markdown",
   "metadata": {},
   "source": [
    "**FINAL PROJECT**"
   ]
  },
  {
   "cell_type": "markdown",
   "metadata": {},
   "source": [
    "Ok, first we are going to get everything set up by importing the useful libraries (pandas, numpy, and matplot)."
   ]
  },
  {
   "cell_type": "code",
   "execution_count": 1,
   "metadata": {},
   "outputs": [],
   "source": [
    "import pandas as pd\n",
    "import numpy as np\n",
    "%matplotlib inline\n",
    "import matplotlib.pyplot as plt"
   ]
  },
  {
   "cell_type": "markdown",
   "metadata": {},
   "source": [
    "Awesome!\n",
    "\n",
    "Now, lets read in the data set for playing fields around Pittsburgh and take a look."
   ]
  },
  {
   "cell_type": "code",
   "execution_count": 2,
   "metadata": {},
   "outputs": [
    {
     "data": {
      "text/html": [
       "<div>\n",
       "<style scoped>\n",
       "    .dataframe tbody tr th:only-of-type {\n",
       "        vertical-align: middle;\n",
       "    }\n",
       "\n",
       "    .dataframe tbody tr th {\n",
       "        vertical-align: top;\n",
       "    }\n",
       "\n",
       "    .dataframe thead th {\n",
       "        text-align: right;\n",
       "    }\n",
       "</style>\n",
       "<table border=\"1\" class=\"dataframe\">\n",
       "  <thead>\n",
       "    <tr style=\"text-align: right;\">\n",
       "      <th></th>\n",
       "      <th>id</th>\n",
       "      <th>name</th>\n",
       "      <th>has_lights</th>\n",
       "      <th>park</th>\n",
       "      <th>field_usage</th>\n",
       "      <th>goal_post</th>\n",
       "      <th>infield_type</th>\n",
       "      <th>left_field_distance</th>\n",
       "      <th>center_field_distance</th>\n",
       "      <th>right_field_distance</th>\n",
       "      <th>...</th>\n",
       "      <th>neighborhood</th>\n",
       "      <th>council_district</th>\n",
       "      <th>ward</th>\n",
       "      <th>tract</th>\n",
       "      <th>public_works_division</th>\n",
       "      <th>pli_division</th>\n",
       "      <th>police_zone</th>\n",
       "      <th>fire_zone</th>\n",
       "      <th>latitude</th>\n",
       "      <th>longitude</th>\n",
       "    </tr>\n",
       "  </thead>\n",
       "  <tbody>\n",
       "    <tr>\n",
       "      <th>0</th>\n",
       "      <td>1914615260</td>\n",
       "      <td>Arlington Field 1</td>\n",
       "      <td>t</td>\n",
       "      <td>Arlington Park</td>\n",
       "      <td>Diamond Only</td>\n",
       "      <td>0</td>\n",
       "      <td>Skinned</td>\n",
       "      <td>160.0</td>\n",
       "      <td>230.0</td>\n",
       "      <td>290.0</td>\n",
       "      <td>...</td>\n",
       "      <td>South Side Slopes</td>\n",
       "      <td>3</td>\n",
       "      <td>16</td>\n",
       "      <td>42003160800</td>\n",
       "      <td>3</td>\n",
       "      <td>16</td>\n",
       "      <td>3</td>\n",
       "      <td>4-22</td>\n",
       "      <td>40.418314</td>\n",
       "      <td>-79.975007</td>\n",
       "    </tr>\n",
       "    <tr>\n",
       "      <th>1</th>\n",
       "      <td>1151740179</td>\n",
       "      <td>Armstrong</td>\n",
       "      <td>f</td>\n",
       "      <td>Armstrong Park</td>\n",
       "      <td>Diamond and Rectangular</td>\n",
       "      <td>0</td>\n",
       "      <td>Skinned</td>\n",
       "      <td>240.0</td>\n",
       "      <td>163.0</td>\n",
       "      <td>122.0</td>\n",
       "      <td>...</td>\n",
       "      <td>South Side Flats</td>\n",
       "      <td>3</td>\n",
       "      <td>17</td>\n",
       "      <td>42003170200</td>\n",
       "      <td>3</td>\n",
       "      <td>17</td>\n",
       "      <td>3</td>\n",
       "      <td>4-24</td>\n",
       "      <td>40.428074</td>\n",
       "      <td>-79.985662</td>\n",
       "    </tr>\n",
       "    <tr>\n",
       "      <th>2</th>\n",
       "      <td>971009139</td>\n",
       "      <td>Bandbox</td>\n",
       "      <td>f</td>\n",
       "      <td>Arsenal Park</td>\n",
       "      <td>Diamond Only</td>\n",
       "      <td>0</td>\n",
       "      <td>Skinned</td>\n",
       "      <td>135.0</td>\n",
       "      <td>200.0</td>\n",
       "      <td>150.0</td>\n",
       "      <td>...</td>\n",
       "      <td>Lower Lawrenceville</td>\n",
       "      <td>7</td>\n",
       "      <td>6</td>\n",
       "      <td>42003060300</td>\n",
       "      <td>2</td>\n",
       "      <td>6</td>\n",
       "      <td>2</td>\n",
       "      <td>3-3</td>\n",
       "      <td>40.466331</td>\n",
       "      <td>-79.961299</td>\n",
       "    </tr>\n",
       "    <tr>\n",
       "      <th>3</th>\n",
       "      <td>1581124728</td>\n",
       "      <td>Banksville</td>\n",
       "      <td>f</td>\n",
       "      <td>Banksville Park</td>\n",
       "      <td>Diamond Only</td>\n",
       "      <td>0</td>\n",
       "      <td>Skinned</td>\n",
       "      <td>304.0</td>\n",
       "      <td>354.0</td>\n",
       "      <td>373.0</td>\n",
       "      <td>...</td>\n",
       "      <td>Banksville</td>\n",
       "      <td>2</td>\n",
       "      <td>20</td>\n",
       "      <td>42003202300</td>\n",
       "      <td>5</td>\n",
       "      <td>20</td>\n",
       "      <td>6</td>\n",
       "      <td>4-9</td>\n",
       "      <td>40.413923</td>\n",
       "      <td>-80.039940</td>\n",
       "    </tr>\n",
       "    <tr>\n",
       "      <th>4</th>\n",
       "      <td>1052125703</td>\n",
       "      <td>Banksville School</td>\n",
       "      <td>t</td>\n",
       "      <td>Banksville School Park</td>\n",
       "      <td>Diamond Only</td>\n",
       "      <td>0</td>\n",
       "      <td>Skinned</td>\n",
       "      <td>180.0</td>\n",
       "      <td>175.0</td>\n",
       "      <td>185.0</td>\n",
       "      <td>...</td>\n",
       "      <td>Banksville</td>\n",
       "      <td>2</td>\n",
       "      <td>20</td>\n",
       "      <td>42003202300</td>\n",
       "      <td>5</td>\n",
       "      <td>20</td>\n",
       "      <td>6</td>\n",
       "      <td>4-9</td>\n",
       "      <td>40.407059</td>\n",
       "      <td>-80.037870</td>\n",
       "    </tr>\n",
       "  </tbody>\n",
       "</table>\n",
       "<p>5 rows × 21 columns</p>\n",
       "</div>"
      ],
      "text/plain": [
       "           id               name has_lights                    park  \\\n",
       "0  1914615260  Arlington Field 1          t          Arlington Park   \n",
       "1  1151740179          Armstrong          f          Armstrong Park   \n",
       "2   971009139            Bandbox          f            Arsenal Park   \n",
       "3  1581124728         Banksville          f         Banksville Park   \n",
       "4  1052125703  Banksville School          t  Banksville School Park   \n",
       "\n",
       "               field_usage  goal_post infield_type  left_field_distance  \\\n",
       "0             Diamond Only          0      Skinned                160.0   \n",
       "1  Diamond and Rectangular          0      Skinned                240.0   \n",
       "2             Diamond Only          0      Skinned                135.0   \n",
       "3             Diamond Only          0      Skinned                304.0   \n",
       "4             Diamond Only          0      Skinned                180.0   \n",
       "\n",
       "   center_field_distance  right_field_distance  ...         neighborhood  \\\n",
       "0                  230.0                 290.0  ...    South Side Slopes   \n",
       "1                  163.0                 122.0  ...     South Side Flats   \n",
       "2                  200.0                 150.0  ...  Lower Lawrenceville   \n",
       "3                  354.0                 373.0  ...           Banksville   \n",
       "4                  175.0                 185.0  ...           Banksville   \n",
       "\n",
       "  council_district  ward        tract  public_works_division  pli_division  \\\n",
       "0                3    16  42003160800                      3            16   \n",
       "1                3    17  42003170200                      3            17   \n",
       "2                7     6  42003060300                      2             6   \n",
       "3                2    20  42003202300                      5            20   \n",
       "4                2    20  42003202300                      5            20   \n",
       "\n",
       "   police_zone  fire_zone   latitude  longitude  \n",
       "0            3       4-22  40.418314 -79.975007  \n",
       "1            3       4-24  40.428074 -79.985662  \n",
       "2            2        3-3  40.466331 -79.961299  \n",
       "3            6        4-9  40.413923 -80.039940  \n",
       "4            6        4-9  40.407059 -80.037870  \n",
       "\n",
       "[5 rows x 21 columns]"
      ]
     },
     "execution_count": 2,
     "metadata": {},
     "output_type": "execute_result"
    }
   ],
   "source": [
    "playing_fields = pd.read_csv(\"https://data.wprdc.org/datastore/dump/6af89346-b971-41d5-af09-49cfdb4dfe23\")\n",
    "playing_fields.head()"
   ]
  },
  {
   "cell_type": "markdown",
   "metadata": {},
   "source": [
    "Ok everything looks good.\n",
    "\n",
    "Before we do anything else, why don't we get a better picture of the neighborhoods we are dealing with here."
   ]
  },
  {
   "cell_type": "code",
   "execution_count": 3,
   "metadata": {},
   "outputs": [
    {
     "data": {
      "text/plain": [
       "array(['South Side Slopes', 'South Side Flats', 'Lower Lawrenceville',\n",
       "       'Banksville', 'Allentown', 'Brighton Heights', 'Hazelwood',\n",
       "       'Lincoln-Lemington-Belmar', 'Windgap', 'Troy Hill',\n",
       "       'South Oakland', 'Brookline', 'Arlington', 'Mount Washington',\n",
       "       'Crafton Heights', 'East Hills', 'East Liberty', 'Highland Park',\n",
       "       'Squirrel Hill South', 'Upper Lawrenceville', 'Fineview',\n",
       "       'Regent Square', 'Garfield', 'Perry South', 'Perry North',\n",
       "       'Elliott', 'Beechview', 'Morningside', 'Central Lawrenceville',\n",
       "       'Bedford Dwellings', 'Terrace Village', 'Larimer', 'Beltzhoover',\n",
       "       'Greenfield', 'Manchester', 'Allegheny Center', 'Central Oakland',\n",
       "       'Lincoln Place', 'Sheraden', 'Shadyside', 'Spring Garden',\n",
       "       'Oakwood', 'Stanton Heights', 'Carrick', 'Marshall-Shadeland',\n",
       "       'Spring Hill-City View', 'West End', 'Polish Hill', 'Westwood',\n",
       "       'Squirrel Hill North', 'Homewood South'], dtype=object)"
      ]
     },
     "execution_count": 3,
     "metadata": {},
     "output_type": "execute_result"
    }
   ],
   "source": [
    "playing_fields[\"neighborhood\"].unique()"
   ]
  },
  {
   "cell_type": "markdown",
   "metadata": {},
   "source": [
    "That gives us the names of the individual neighborhoods, but what about knowing exactly how many we are working with.\n",
    "\n",
    "We can easily check this with a small change to the previous code"
   ]
  },
  {
   "cell_type": "code",
   "execution_count": 4,
   "metadata": {},
   "outputs": [
    {
     "name": "stdout",
     "output_type": "stream",
     "text": [
      "According to the data set, there are 51 neighborhoods in Pittsburgh\n"
     ]
    }
   ],
   "source": [
    "print(\"According to the data set, there are \" + str(playing_fields[\"neighborhood\"].nunique()) +\n",
    "      \" neighborhoods in Pittsburgh\")"
   ]
  },
  {
   "cell_type": "markdown",
   "metadata": {},
   "source": [
    "Ok, how about how many playing fields we need to consider."
   ]
  },
  {
   "cell_type": "code",
   "execution_count": 5,
   "metadata": {},
   "outputs": [
    {
     "data": {
      "text/plain": [
       "113"
      ]
     },
     "execution_count": 5,
     "metadata": {},
     "output_type": "execute_result"
    }
   ],
   "source": [
    "len(playing_fields)"
   ]
  },
  {
   "cell_type": "markdown",
   "metadata": {},
   "source": [
    "That's actually pretty good, especially considering that a significant amount of the data set covers urban regions, which makes it somewhat more difficult to find the land needed for playing fields.\n",
    "\n",
    "Now, lets breakdown the data set to analyze how the playing fields are distributed by neighborhood"
   ]
  },
  {
   "cell_type": "code",
   "execution_count": 6,
   "metadata": {},
   "outputs": [
    {
     "data": {
      "text/plain": [
       "Brighton Heights            7\n",
       "South Side Slopes           6\n",
       "Brookline                   6\n",
       "Squirrel Hill South         5\n",
       "Carrick                     5\n",
       "Hazelwood                   4\n",
       "Highland Park               4\n",
       "Lower Lawrenceville         4\n",
       "Sheraden                    3\n",
       "Mount Washington            3\n",
       "Shadyside                   3\n",
       "Beltzhoover                 3\n",
       "Troy Hill                   3\n",
       "Beechview                   3\n",
       "Morningside                 3\n",
       "Bedford Dwellings           2\n",
       "Lincoln-Lemington-Belmar    2\n",
       "Perry North                 2\n",
       "Central Lawrenceville       2\n",
       "Elliott                     2\n",
       "Westwood                    2\n",
       "Regent Square               2\n",
       "Manchester                  2\n",
       "Crafton Heights             2\n",
       "Banksville                  2\n",
       "Greenfield                  2\n",
       "South Oakland               2\n",
       "Spring Hill-City View       2\n",
       "South Side Flats            2\n",
       "Allegheny Center            2\n",
       "Terrace Village             1\n",
       "Spring Garden               1\n",
       "Upper Lawrenceville         1\n",
       "Lincoln Place               1\n",
       "Stanton Heights             1\n",
       "Central Oakland             1\n",
       "Allentown                   1\n",
       "Marshall-Shadeland          1\n",
       "Garfield                    1\n",
       "Fineview                    1\n",
       "Arlington                   1\n",
       "Perry South                 1\n",
       "Windgap                     1\n",
       "East Liberty                1\n",
       "Oakwood                     1\n",
       "Polish Hill                 1\n",
       "Squirrel Hill North         1\n",
       "East Hills                  1\n",
       "Larimer                     1\n",
       "West End                    1\n",
       "Homewood South              1\n",
       "Name: neighborhood, dtype: int64"
      ]
     },
     "execution_count": 6,
     "metadata": {},
     "output_type": "execute_result"
    }
   ],
   "source": [
    "playing_fields[\"neighborhood\"].value_counts()"
   ]
  },
  {
   "cell_type": "markdown",
   "metadata": {},
   "source": [
    "This gives us a solid idea of the distribution of playing fields across the various neighborhoods in Pittsburgh, but we can create a visual representation as well to add some more insight."
   ]
  },
  {
   "cell_type": "code",
   "execution_count": 7,
   "metadata": {},
   "outputs": [
    {
     "data": {
      "text/plain": [
       "<matplotlib.axes._subplots.AxesSubplot at 0x7f5529d4e390>"
      ]
     },
     "execution_count": 7,
     "metadata": {},
     "output_type": "execute_result"
    },
    {
     "data": {
      "image/png": "[encoded data removed]",
      "text/plain": [
       "<Figure size 432x288 with 1 Axes>"
      ]
     },
     "metadata": {
      "needs_background": "light"
     },
     "output_type": "display_data"
    }
   ],
   "source": [
    "playing_fields[\"neighborhood\"].value_counts().plot(kind=\"bar\")"
   ]
  },
  {
   "cell_type": "markdown",
   "metadata": {},
   "source": [
    "From both representations of the data, we see that there isn't a ton of variability in the amount of playing fields per neighborhood; however, there are definitely a few neighborhoods that stand out at the top, for instance Brighton Heights leading the pack with seven.\n",
    "\n",
    "Lets take a closer look at the top four."
   ]
  },
  {
   "cell_type": "code",
   "execution_count": 8,
   "metadata": {},
   "outputs": [
    {
     "data": {
      "text/plain": [
       "<matplotlib.axes._subplots.AxesSubplot at 0x7f55274ffa58>"
      ]
     },
     "execution_count": 8,
     "metadata": {},
     "output_type": "execute_result"
    },
    {
     "data": {
      "image/png": "[encoded data removed]",
      "text/plain": [
       "<Figure size 432x288 with 1 Axes>"
      ]
     },
     "metadata": {
      "needs_background": "light"
     },
     "output_type": "display_data"
    }
   ],
   "source": [
    "playing_fields[\"neighborhood\"].value_counts().head().plot(kind=\"bar\")"
   ]
  },
  {
   "cell_type": "markdown",
   "metadata": {},
   "source": [
    "Perfect, we have our top four comprised of Brighton Heights, South Side Slopes, Brookline, Squirrel Hill South, and Carrick. We could simply end our investigation here, but the data has a few quirks that we should consider.\n",
    "\n",
    "As we look through the data set, it seems designed to consider mainly baseball fields, with individual field locations classified by the shape(s) of the field(s). Lets examine what types of fields we are working with. "
   ]
  },
  {
   "cell_type": "code",
   "execution_count": 9,
   "metadata": {},
   "outputs": [
    {
     "data": {
      "text/plain": [
       "array(['Diamond Only', 'Diamond and Rectangular', 'Rectangular Only'],\n",
       "      dtype=object)"
      ]
     },
     "execution_count": 9,
     "metadata": {},
     "output_type": "execute_result"
    }
   ],
   "source": [
    "playing_fields[\"field_usage\"].unique()"
   ]
  },
  {
   "cell_type": "markdown",
   "metadata": {},
   "source": [
    "So there are diamond and rectangular fields, as well as locations with both. Another problem is that, for locations with both diamond and rectangular fields, the data set provides no information on the total amount of fields at the locations. \n",
    "\n",
    "Something else to consider is that the bias in the data set towards baseball fields has left it impossible to gauge the size of rectangular fields, as the size of the fields is only indicated by the distance from home plate to left, center, and right field respectively. Obviously, this complicates things as their is no way to measure exactly how much land each neighborhood has dedicated to playing fields.\n",
    "\n",
    "Furthermore, the data set also contains a \"has_lights\" field that stipulates whether or not the field has lights, giving us another factor to consider. Playing fields with lights are arguably more valuable than those without, as they can be used for greater periods of time. \n",
    "\n",
    "So, how are we going to take these factors into account."
   ]
  }
 ],
 "metadata": {
  "kernelspec": {
   "display_name": "Python 3",
   "language": "python",
   "name": "python3"
  },
  "language_info": {
   "codemirror_mode": {
    "name": "ipython",
    "version": 3
   },
   "file_extension": ".py",
   "mimetype": "text/x-python",
   "name": "python",
   "nbconvert_exporter": "python",
   "pygments_lexer": "ipython3",
   "version": "3.6.7"
  }
 },
 "nbformat": 4,
 "nbformat_minor": 4
}
