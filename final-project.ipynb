{
 "cells": [
  {
   "cell_type": "markdown",
   "metadata": {},
   "source": [
    "# FINAL PROJECT\n",
    "\n"
   ]
  },
  {
   "cell_type": "markdown",
   "metadata": {},
   "source": [
    "Ok, first we are going to get everything set up by importing the useful libraries (pandas, numpy, and matplot)."
   ]
  },
  {
   "cell_type": "code",
   "execution_count": 207,
   "metadata": {},
   "outputs": [],
   "source": [
    "import pandas as pd\n",
    "import numpy as np\n",
    "%matplotlib inline\n",
    "import matplotlib.pyplot as plt"
   ]
  },
  {
   "cell_type": "markdown",
   "metadata": {},
   "source": [
    "Awesome!\n",
    "\n",
    "The first metric we will be analyzing is playing fields.\n",
    "\n",
    "## Playing Fields\n",
    "\n",
    "![playing fields](https://www.usu.edu/campusrec/images/ALF%20for%20tv%20small.jpg)\n",
    "\n",
    "Now, lets read in the data set for playing fields around Pittsburgh and take a look."
   ]
  },
  {
   "cell_type": "code",
   "execution_count": 208,
   "metadata": {},
   "outputs": [
    {
     "data": {
      "text/html": [
       "<div>\n",
       "<style scoped>\n",
       "    .dataframe tbody tr th:only-of-type {\n",
       "        vertical-align: middle;\n",
       "    }\n",
       "\n",
       "    .dataframe tbody tr th {\n",
       "        vertical-align: top;\n",
       "    }\n",
       "\n",
       "    .dataframe thead th {\n",
       "        text-align: right;\n",
       "    }\n",
       "</style>\n",
       "<table border=\"1\" class=\"dataframe\">\n",
       "  <thead>\n",
       "    <tr style=\"text-align: right;\">\n",
       "      <th></th>\n",
       "      <th>id</th>\n",
       "      <th>name</th>\n",
       "      <th>has_lights</th>\n",
       "      <th>park</th>\n",
       "      <th>field_usage</th>\n",
       "      <th>goal_post</th>\n",
       "      <th>infield_type</th>\n",
       "      <th>left_field_distance</th>\n",
       "      <th>center_field_distance</th>\n",
       "      <th>right_field_distance</th>\n",
       "      <th>...</th>\n",
       "      <th>neighborhood</th>\n",
       "      <th>council_district</th>\n",
       "      <th>ward</th>\n",
       "      <th>tract</th>\n",
       "      <th>public_works_division</th>\n",
       "      <th>pli_division</th>\n",
       "      <th>police_zone</th>\n",
       "      <th>fire_zone</th>\n",
       "      <th>latitude</th>\n",
       "      <th>longitude</th>\n",
       "    </tr>\n",
       "  </thead>\n",
       "  <tbody>\n",
       "    <tr>\n",
       "      <th>0</th>\n",
       "      <td>1914615260</td>\n",
       "      <td>Arlington Field 1</td>\n",
       "      <td>t</td>\n",
       "      <td>Arlington Park</td>\n",
       "      <td>Diamond Only</td>\n",
       "      <td>0</td>\n",
       "      <td>Skinned</td>\n",
       "      <td>160.0</td>\n",
       "      <td>230.0</td>\n",
       "      <td>290.0</td>\n",
       "      <td>...</td>\n",
       "      <td>South Side Slopes</td>\n",
       "      <td>3</td>\n",
       "      <td>16</td>\n",
       "      <td>42003160800</td>\n",
       "      <td>3</td>\n",
       "      <td>16</td>\n",
       "      <td>3</td>\n",
       "      <td>4-22</td>\n",
       "      <td>40.418314</td>\n",
       "      <td>-79.975007</td>\n",
       "    </tr>\n",
       "    <tr>\n",
       "      <th>1</th>\n",
       "      <td>1151740179</td>\n",
       "      <td>Armstrong</td>\n",
       "      <td>f</td>\n",
       "      <td>Armstrong Park</td>\n",
       "      <td>Diamond and Rectangular</td>\n",
       "      <td>0</td>\n",
       "      <td>Skinned</td>\n",
       "      <td>240.0</td>\n",
       "      <td>163.0</td>\n",
       "      <td>122.0</td>\n",
       "      <td>...</td>\n",
       "      <td>South Side Flats</td>\n",
       "      <td>3</td>\n",
       "      <td>17</td>\n",
       "      <td>42003170200</td>\n",
       "      <td>3</td>\n",
       "      <td>17</td>\n",
       "      <td>3</td>\n",
       "      <td>4-24</td>\n",
       "      <td>40.428074</td>\n",
       "      <td>-79.985662</td>\n",
       "    </tr>\n",
       "    <tr>\n",
       "      <th>2</th>\n",
       "      <td>971009139</td>\n",
       "      <td>Bandbox</td>\n",
       "      <td>f</td>\n",
       "      <td>Arsenal Park</td>\n",
       "      <td>Diamond Only</td>\n",
       "      <td>0</td>\n",
       "      <td>Skinned</td>\n",
       "      <td>135.0</td>\n",
       "      <td>200.0</td>\n",
       "      <td>150.0</td>\n",
       "      <td>...</td>\n",
       "      <td>Lower Lawrenceville</td>\n",
       "      <td>7</td>\n",
       "      <td>6</td>\n",
       "      <td>42003060300</td>\n",
       "      <td>2</td>\n",
       "      <td>6</td>\n",
       "      <td>2</td>\n",
       "      <td>3-3</td>\n",
       "      <td>40.466331</td>\n",
       "      <td>-79.961299</td>\n",
       "    </tr>\n",
       "    <tr>\n",
       "      <th>3</th>\n",
       "      <td>1581124728</td>\n",
       "      <td>Banksville</td>\n",
       "      <td>f</td>\n",
       "      <td>Banksville Park</td>\n",
       "      <td>Diamond Only</td>\n",
       "      <td>0</td>\n",
       "      <td>Skinned</td>\n",
       "      <td>304.0</td>\n",
       "      <td>354.0</td>\n",
       "      <td>373.0</td>\n",
       "      <td>...</td>\n",
       "      <td>Banksville</td>\n",
       "      <td>2</td>\n",
       "      <td>20</td>\n",
       "      <td>42003202300</td>\n",
       "      <td>5</td>\n",
       "      <td>20</td>\n",
       "      <td>6</td>\n",
       "      <td>4-9</td>\n",
       "      <td>40.413923</td>\n",
       "      <td>-80.039940</td>\n",
       "    </tr>\n",
       "    <tr>\n",
       "      <th>4</th>\n",
       "      <td>1052125703</td>\n",
       "      <td>Banksville School</td>\n",
       "      <td>t</td>\n",
       "      <td>Banksville School Park</td>\n",
       "      <td>Diamond Only</td>\n",
       "      <td>0</td>\n",
       "      <td>Skinned</td>\n",
       "      <td>180.0</td>\n",
       "      <td>175.0</td>\n",
       "      <td>185.0</td>\n",
       "      <td>...</td>\n",
       "      <td>Banksville</td>\n",
       "      <td>2</td>\n",
       "      <td>20</td>\n",
       "      <td>42003202300</td>\n",
       "      <td>5</td>\n",
       "      <td>20</td>\n",
       "      <td>6</td>\n",
       "      <td>4-9</td>\n",
       "      <td>40.407059</td>\n",
       "      <td>-80.037870</td>\n",
       "    </tr>\n",
       "  </tbody>\n",
       "</table>\n",
       "<p>5 rows × 21 columns</p>\n",
       "</div>"
      ],
      "text/plain": [
       "           id               name has_lights                    park  \\\n",
       "0  1914615260  Arlington Field 1          t          Arlington Park   \n",
       "1  1151740179          Armstrong          f          Armstrong Park   \n",
       "2   971009139            Bandbox          f            Arsenal Park   \n",
       "3  1581124728         Banksville          f         Banksville Park   \n",
       "4  1052125703  Banksville School          t  Banksville School Park   \n",
       "\n",
       "               field_usage  goal_post infield_type  left_field_distance  \\\n",
       "0             Diamond Only          0      Skinned                160.0   \n",
       "1  Diamond and Rectangular          0      Skinned                240.0   \n",
       "2             Diamond Only          0      Skinned                135.0   \n",
       "3             Diamond Only          0      Skinned                304.0   \n",
       "4             Diamond Only          0      Skinned                180.0   \n",
       "\n",
       "   center_field_distance  right_field_distance    ...      \\\n",
       "0                  230.0                 290.0    ...       \n",
       "1                  163.0                 122.0    ...       \n",
       "2                  200.0                 150.0    ...       \n",
       "3                  354.0                 373.0    ...       \n",
       "4                  175.0                 185.0    ...       \n",
       "\n",
       "          neighborhood council_district  ward        tract  \\\n",
       "0    South Side Slopes                3    16  42003160800   \n",
       "1     South Side Flats                3    17  42003170200   \n",
       "2  Lower Lawrenceville                7     6  42003060300   \n",
       "3           Banksville                2    20  42003202300   \n",
       "4           Banksville                2    20  42003202300   \n",
       "\n",
       "   public_works_division  pli_division  police_zone  fire_zone   latitude  \\\n",
       "0                      3            16            3       4-22  40.418314   \n",
       "1                      3            17            3       4-24  40.428074   \n",
       "2                      2             6            2        3-3  40.466331   \n",
       "3                      5            20            6        4-9  40.413923   \n",
       "4                      5            20            6        4-9  40.407059   \n",
       "\n",
       "   longitude  \n",
       "0 -79.975007  \n",
       "1 -79.985662  \n",
       "2 -79.961299  \n",
       "3 -80.039940  \n",
       "4 -80.037870  \n",
       "\n",
       "[5 rows x 21 columns]"
      ]
     },
     "execution_count": 208,
     "metadata": {},
     "output_type": "execute_result"
    }
   ],
   "source": [
    "playing_fields = pd.read_csv(\"https://data.wprdc.org/datastore/dump/6af89346-b971-41d5-af09-49cfdb4dfe23\")\n",
    "playing_fields.head()"
   ]
  },
  {
   "cell_type": "markdown",
   "metadata": {},
   "source": [
    "Ok everything looks good.\n",
    "\n",
    "Before we do anything else, why don't we get a better picture of the neighborhoods we are dealing with here."
   ]
  },
  {
   "cell_type": "code",
   "execution_count": 209,
   "metadata": {},
   "outputs": [
    {
     "data": {
      "text/plain": [
       "array(['South Side Slopes', 'South Side Flats', 'Lower Lawrenceville',\n",
       "       'Banksville', 'Allentown', 'Brighton Heights', 'Hazelwood',\n",
       "       'Lincoln-Lemington-Belmar', 'Windgap', 'Troy Hill',\n",
       "       'South Oakland', 'Brookline', 'Arlington', 'Mount Washington',\n",
       "       'Crafton Heights', 'East Hills', 'East Liberty', 'Highland Park',\n",
       "       'Squirrel Hill South', 'Upper Lawrenceville', 'Fineview',\n",
       "       'Regent Square', 'Garfield', 'Perry South', 'Perry North',\n",
       "       'Elliott', 'Beechview', 'Morningside', 'Central Lawrenceville',\n",
       "       'Bedford Dwellings', 'Terrace Village', 'Larimer', 'Beltzhoover',\n",
       "       'Greenfield', 'Manchester', 'Allegheny Center', 'Central Oakland',\n",
       "       'Lincoln Place', 'Sheraden', 'Shadyside', 'Spring Garden',\n",
       "       'Oakwood', 'Stanton Heights', 'Carrick', 'Marshall-Shadeland',\n",
       "       'Spring Hill-City View', 'West End', 'Polish Hill', 'Westwood',\n",
       "       'Squirrel Hill North', 'Homewood South'], dtype=object)"
      ]
     },
     "execution_count": 209,
     "metadata": {},
     "output_type": "execute_result"
    }
   ],
   "source": [
    "playing_fields[\"neighborhood\"].unique()"
   ]
  },
  {
   "cell_type": "markdown",
   "metadata": {},
   "source": [
    "That gives us the names of the individual neighborhoods, but what about knowing exactly how many we are working with.\n",
    "\n",
    "We can easily check this with a small change to the previous code"
   ]
  },
  {
   "cell_type": "code",
   "execution_count": 210,
   "metadata": {},
   "outputs": [
    {
     "data": {
      "text/plain": [
       "51"
      ]
     },
     "execution_count": 210,
     "metadata": {},
     "output_type": "execute_result"
    }
   ],
   "source": [
    "playing_fields[\"neighborhood\"].nunique()"
   ]
  },
  {
   "cell_type": "markdown",
   "metadata": {},
   "source": [
    "Ok, how about how many playing fields we need to consider."
   ]
  },
  {
   "cell_type": "code",
   "execution_count": 211,
   "metadata": {},
   "outputs": [
    {
     "data": {
      "text/plain": [
       "113"
      ]
     },
     "execution_count": 211,
     "metadata": {},
     "output_type": "execute_result"
    }
   ],
   "source": [
    "len(playing_fields)"
   ]
  },
  {
   "cell_type": "markdown",
   "metadata": {},
   "source": [
    "That's actually pretty good, especially considering that a significant amount of the data set covers urban regions, which makes it somewhat more difficult to find the land needed for playing fields.\n",
    "\n",
    "Now, lets breakdown the data set to analyze how the playing fields are distributed by neighborhood"
   ]
  },
  {
   "cell_type": "code",
   "execution_count": 212,
   "metadata": {},
   "outputs": [
    {
     "data": {
      "text/plain": [
       "Brighton Heights            7\n",
       "South Side Slopes           6\n",
       "Brookline                   6\n",
       "Squirrel Hill South         5\n",
       "Carrick                     5\n",
       "Hazelwood                   4\n",
       "Lower Lawrenceville         4\n",
       "Highland Park               4\n",
       "Mount Washington            3\n",
       "Beechview                   3\n",
       "Sheraden                    3\n",
       "Troy Hill                   3\n",
       "Beltzhoover                 3\n",
       "Shadyside                   3\n",
       "Morningside                 3\n",
       "Crafton Heights             2\n",
       "Banksville                  2\n",
       "Spring Hill-City View       2\n",
       "Lincoln-Lemington-Belmar    2\n",
       "Manchester                  2\n",
       "South Oakland               2\n",
       "Elliott                     2\n",
       "Greenfield                  2\n",
       "Central Lawrenceville       2\n",
       "South Side Flats            2\n",
       "Regent Square               2\n",
       "Bedford Dwellings           2\n",
       "Perry North                 2\n",
       "Allegheny Center            2\n",
       "Westwood                    2\n",
       "East Liberty                1\n",
       "Polish Hill                 1\n",
       "Homewood South              1\n",
       "Oakwood                     1\n",
       "Perry South                 1\n",
       "East Hills                  1\n",
       "West End                    1\n",
       "Terrace Village             1\n",
       "Squirrel Hill North         1\n",
       "Lincoln Place               1\n",
       "Fineview                    1\n",
       "Central Oakland             1\n",
       "Spring Garden               1\n",
       "Marshall-Shadeland          1\n",
       "Upper Lawrenceville         1\n",
       "Garfield                    1\n",
       "Windgap                     1\n",
       "Allentown                   1\n",
       "Arlington                   1\n",
       "Stanton Heights             1\n",
       "Larimer                     1\n",
       "Name: neighborhood, dtype: int64"
      ]
     },
     "execution_count": 212,
     "metadata": {},
     "output_type": "execute_result"
    }
   ],
   "source": [
    "playing_fields[\"neighborhood\"].value_counts()"
   ]
  },
  {
   "cell_type": "markdown",
   "metadata": {},
   "source": [
    "This gives us a solid idea of the distribution of playing fields across the various neighborhoods in Pittsburgh, but we can create a visual representation as well to add some more insight."
   ]
  },
  {
   "cell_type": "code",
   "execution_count": 213,
   "metadata": {},
   "outputs": [
    {
     "data": {
      "text/plain": [
       "<matplotlib.axes._subplots.AxesSubplot at 0x7fd71097f160>"
      ]
     },
     "execution_count": 213,
     "metadata": {},
     "output_type": "execute_result"
    },
    {
     "data": {
      "image/png": "[encoded data removed]",
      "text/plain": [
       "<Figure size 432x288 with 1 Axes>"
      ]
     },
     "metadata": {
      "needs_background": "light"
     },
     "output_type": "display_data"
    }
   ],
   "source": [
    "playing_fields[\"neighborhood\"].value_counts().plot(kind=\"bar\")"
   ]
  },
  {
   "cell_type": "markdown",
   "metadata": {},
   "source": [
    "From both representations of the data, we see that there isn't a ton of variability in the amount of playing fields per neighborhood; however, there are definitely a few neighborhoods that stand out at the top, for instance Brighton Heights leading the pack with seven.\n",
    "\n",
    "Lets take a closer look at the top five."
   ]
  },
  {
   "cell_type": "code",
   "execution_count": 214,
   "metadata": {},
   "outputs": [
    {
     "data": {
      "text/plain": [
       "<matplotlib.axes._subplots.AxesSubplot at 0x7fd71096f0f0>"
      ]
     },
     "execution_count": 214,
     "metadata": {},
     "output_type": "execute_result"
    },
    {
     "data": {
      "image/png": "[encoded data removed]",
      "text/plain": [
       "<Figure size 432x288 with 1 Axes>"
      ]
     },
     "metadata": {
      "needs_background": "light"
     },
     "output_type": "display_data"
    }
   ],
   "source": [
    "playing_fields[\"neighborhood\"].value_counts().head().plot(kind=\"bar\")"
   ]
  },
  {
   "cell_type": "markdown",
   "metadata": {},
   "source": [
    "Perfect, we have our top five comprised of Brighton Heights, South Side Slopes, Brookline, Squirrel Hill South, and Carrick. We could simply end our investigation here, but the data has a few quirks that we should consider.\n",
    "\n",
    "As we look through the data set, it seems designed to consider mainly baseball fields, with individual field locations classified by the shape(s)/usage of the field(s). Lets examine what types of fields we are working with. "
   ]
  },
  {
   "cell_type": "code",
   "execution_count": 215,
   "metadata": {},
   "outputs": [
    {
     "data": {
      "text/plain": [
       "array(['Diamond Only', 'Diamond and Rectangular', 'Rectangular Only'],\n",
       "      dtype=object)"
      ]
     },
     "execution_count": 215,
     "metadata": {},
     "output_type": "execute_result"
    }
   ],
   "source": [
    "playing_fields[\"field_usage\"].unique()"
   ]
  },
  {
   "cell_type": "markdown",
   "metadata": {},
   "source": [
    "So, there are fields used only for the diamond, rectangular fields that lack a diamond, and locations that are multi-purpose, offering both a rectangular field and a diamond. For these multi-purpose locations, the data set does not specify whether their mixed usage is because there are multiple fields at the location or that the singular field has all of the equipment and lines to be used for all kinds of activities. We will be assuming the later, that each piece of data corresponds to one field only, in order to avoid the complexities that accompany the other option.  \n",
    "\n",
    "Something else to consider is that the data set's design has left it impossible to gauge the size of rectangular fields, as the size of the fields is only indicated by the distance from home plate to left, center, and right field respectively. Obviously, this complicates things as their is no way to measure exactly how much land each neighborhood has dedicated to playing fields.\n",
    "\n",
    "Furthermore, the data set also contains a \"has_lights\" field that stipulates whether or not the field has lights, giving us another factor to consider. Playing fields with lights are arguably more valuable than those without, as they can be used for greater periods of time. \n",
    "\n",
    "So, how are we going to take these factors into account. By default, we will give all playing fields a value of 1. Fields that are multi-purpose will recieve an additional half-point on top of that. We will be giving fields with lights an additional .25 as well to account for the additional use they offer that fields without lights lack.  \n",
    "\n",
    "So, lets apply this to the data by generating two subsets of the original data that encompass multi-purpose fields and fields with lights"
   ]
  },
  {
   "cell_type": "code",
   "execution_count": 216,
   "metadata": {},
   "outputs": [
    {
     "data": {
      "text/plain": [
       "Morningside              3\n",
       "Highland Park            2\n",
       "Westwood                 2\n",
       "Brookline                2\n",
       "Central Lawrenceville    2\n",
       "South Side Flats         1\n",
       "Polish Hill              1\n",
       "Lower Lawrenceville      1\n",
       "Terrace Village          1\n",
       "West End                 1\n",
       "Elliott                  1\n",
       "Sheraden                 1\n",
       "Homewood South           1\n",
       "Allegheny Center         1\n",
       "Beltzhoover              1\n",
       "Name: neighborhood, dtype: int64"
      ]
     },
     "execution_count": 216,
     "metadata": {},
     "output_type": "execute_result"
    }
   ],
   "source": [
    "both_options = playing_fields[\"field_usage\"] == \"Diamond and Rectangular\"\n",
    "multi_purpose = playing_fields[both_options]\n",
    "multi_purpose[\"neighborhood\"].value_counts()"
   ]
  },
  {
   "cell_type": "markdown",
   "metadata": {},
   "source": [
    "This represents the number of fields in each neighborhood that are multi-purpose, meaning they have both a diamond and a rectangular field.\n",
    "\n",
    "We will factor this into the final equation to determine the best neighborhood in Pittsburgh.\n",
    "\n",
    "Here are some visuals for the data."
   ]
  },
  {
   "cell_type": "code",
   "execution_count": 217,
   "metadata": {},
   "outputs": [
    {
     "data": {
      "text/plain": [
       "<matplotlib.axes._subplots.AxesSubplot at 0x7fd710838cf8>"
      ]
     },
     "execution_count": 217,
     "metadata": {},
     "output_type": "execute_result"
    },
    {
     "data": {
      "image/png": "[encoded data removed]",
      "text/plain": [
       "<Figure size 432x288 with 1 Axes>"
      ]
     },
     "metadata": {
      "needs_background": "light"
     },
     "output_type": "display_data"
    }
   ],
   "source": [
    "multi_purpose[\"neighborhood\"].value_counts().plot(kind=\"bar\")"
   ]
  },
  {
   "cell_type": "code",
   "execution_count": 218,
   "metadata": {},
   "outputs": [
    {
     "data": {
      "text/plain": [
       "<matplotlib.axes._subplots.AxesSubplot at 0x7fd7107fd1d0>"
      ]
     },
     "execution_count": 218,
     "metadata": {},
     "output_type": "execute_result"
    },
    {
     "data": {
      "image/png": "[encoded data removed]",
      "text/plain": [
       "<Figure size 432x288 with 1 Axes>"
      ]
     },
     "metadata": {
      "needs_background": "light"
     },
     "output_type": "display_data"
    }
   ],
   "source": [
    "multi_purpose[\"neighborhood\"].value_counts().head().plot(kind=\"bar\")"
   ]
  },
  {
   "cell_type": "code",
   "execution_count": 219,
   "metadata": {},
   "outputs": [
    {
     "data": {
      "text/plain": [
       "South Side Slopes           4\n",
       "Carrick                     3\n",
       "Morningside                 3\n",
       "Brookline                   3\n",
       "Troy Hill                   3\n",
       "Mount Washington            3\n",
       "Greenfield                  2\n",
       "Crafton Heights             2\n",
       "Squirrel Hill South         2\n",
       "Lower Lawrenceville         2\n",
       "Bedford Dwellings           2\n",
       "Elliott                     2\n",
       "Westwood                    2\n",
       "Central Lawrenceville       2\n",
       "Beechview                   2\n",
       "Manchester                  1\n",
       "Homewood South              1\n",
       "Perry South                 1\n",
       "Sheraden                    1\n",
       "Shadyside                   1\n",
       "Perry North                 1\n",
       "Beltzhoover                 1\n",
       "Terrace Village             1\n",
       "Fineview                    1\n",
       "Banksville                  1\n",
       "Spring Hill-City View       1\n",
       "Hazelwood                   1\n",
       "South Oakland               1\n",
       "Windgap                     1\n",
       "Garfield                    1\n",
       "Lincoln-Lemington-Belmar    1\n",
       "Polish Hill                 1\n",
       "Name: neighborhood, dtype: int64"
      ]
     },
     "execution_count": 219,
     "metadata": {},
     "output_type": "execute_result"
    }
   ],
   "source": [
    "has_lights = playing_fields[\"has_lights\"] == \"t\"\n",
    "fields_with_lights = playing_fields[has_lights]\n",
    "fields_with_lights[\"neighborhood\"].value_counts()"
   ]
  },
  {
   "cell_type": "markdown",
   "metadata": {},
   "source": [
    "This represents the number of fields in each neighborhood that have lights.\n",
    "\n",
    "We will factor this into the final equation to determine the best neighborhood in Pittsburgh.\n",
    "\n",
    "Here are some visuals for the data."
   ]
  },
  {
   "cell_type": "code",
   "execution_count": 220,
   "metadata": {},
   "outputs": [
    {
     "data": {
      "text/plain": [
       "<matplotlib.axes._subplots.AxesSubplot at 0x7fd71071f8d0>"
      ]
     },
     "execution_count": 220,
     "metadata": {},
     "output_type": "execute_result"
    },
    {
     "data": {
      "image/png": "[encoded data removed]",
      "text/plain": [
       "<Figure size 432x288 with 1 Axes>"
      ]
     },
     "metadata": {
      "needs_background": "light"
     },
     "output_type": "display_data"
    }
   ],
   "source": [
    "fields_with_lights[\"neighborhood\"].value_counts().plot(kind=\"bar\")"
   ]
  },
  {
   "cell_type": "code",
   "execution_count": 221,
   "metadata": {},
   "outputs": [
    {
     "data": {
      "text/plain": [
       "<matplotlib.axes._subplots.AxesSubplot at 0x7fd710baa470>"
      ]
     },
     "execution_count": 221,
     "metadata": {},
     "output_type": "execute_result"
    },
    {
     "data": {
      "image/png": "[encoded data removed]",
      "text/plain": [
       "<Figure size 432x288 with 1 Axes>"
      ]
     },
     "metadata": {
      "needs_background": "light"
     },
     "output_type": "display_data"
    }
   ],
   "source": [
    "fields_with_lights[\"neighborhood\"].value_counts().head().plot(kind=\"bar\")"
   ]
  },
  {
   "cell_type": "markdown",
   "metadata": {},
   "source": [
    "Now lets step away from the playing fields and begin to look at playgrounds in Pittsburgh.\n",
    "\n",
    "## Playgrounds\n",
    "\n",
    "Let's real quick import the data set."
   ]
  },
  {
   "cell_type": "code",
   "execution_count": 222,
   "metadata": {},
   "outputs": [
    {
     "data": {
      "text/html": [
       "<div>\n",
       "<style scoped>\n",
       "    .dataframe tbody tr th:only-of-type {\n",
       "        vertical-align: middle;\n",
       "    }\n",
       "\n",
       "    .dataframe tbody tr th {\n",
       "        vertical-align: top;\n",
       "    }\n",
       "\n",
       "    .dataframe thead th {\n",
       "        text-align: right;\n",
       "    }\n",
       "</style>\n",
       "<table border=\"1\" class=\"dataframe\">\n",
       "  <thead>\n",
       "    <tr style=\"text-align: right;\">\n",
       "      <th></th>\n",
       "      <th>id</th>\n",
       "      <th>name</th>\n",
       "      <th>type</th>\n",
       "      <th>maintenance_responsibility</th>\n",
       "      <th>park</th>\n",
       "      <th>street</th>\n",
       "      <th>image</th>\n",
       "      <th>neighborhood</th>\n",
       "      <th>council_district</th>\n",
       "      <th>ward</th>\n",
       "      <th>tract</th>\n",
       "      <th>public_works_division</th>\n",
       "      <th>pli_division</th>\n",
       "      <th>police_zone</th>\n",
       "      <th>fire_zone</th>\n",
       "      <th>latitude</th>\n",
       "      <th>longitude</th>\n",
       "    </tr>\n",
       "  </thead>\n",
       "  <tbody>\n",
       "    <tr>\n",
       "      <th>0</th>\n",
       "      <td>731501774</td>\n",
       "      <td>Able Long Playground</td>\n",
       "      <td>NaN</td>\n",
       "      <td>Parks - Western</td>\n",
       "      <td>Able Long Park</td>\n",
       "      <td>COAST AVE</td>\n",
       "      <td>https://tools.wprdc.org/images/pittsburgh/play...</td>\n",
       "      <td>Beechview</td>\n",
       "      <td>4</td>\n",
       "      <td>19</td>\n",
       "      <td>42003192000</td>\n",
       "      <td>5</td>\n",
       "      <td>19</td>\n",
       "      <td>6</td>\n",
       "      <td>4-28</td>\n",
       "      <td>40.408365</td>\n",
       "      <td>-80.028445</td>\n",
       "    </tr>\n",
       "    <tr>\n",
       "      <th>1</th>\n",
       "      <td>1461276747</td>\n",
       "      <td>Albert Graham Playground</td>\n",
       "      <td>NaN</td>\n",
       "      <td>Parks - Schenley</td>\n",
       "      <td>Albert Turk Graham Park</td>\n",
       "      <td>FORESIDE PL</td>\n",
       "      <td>https://tools.wprdc.org/images/pittsburgh/play...</td>\n",
       "      <td>Crawford-Roberts</td>\n",
       "      <td>6</td>\n",
       "      <td>3</td>\n",
       "      <td>42003030500</td>\n",
       "      <td>3</td>\n",
       "      <td>3</td>\n",
       "      <td>2</td>\n",
       "      <td>2-1</td>\n",
       "      <td>40.440519</td>\n",
       "      <td>-79.984137</td>\n",
       "    </tr>\n",
       "    <tr>\n",
       "      <th>2</th>\n",
       "      <td>1860709784</td>\n",
       "      <td>Alpine Playground</td>\n",
       "      <td>NaN</td>\n",
       "      <td>Parks - Northern</td>\n",
       "      <td>Alpine Gardens Park</td>\n",
       "      <td>ALPINE AVE</td>\n",
       "      <td>https://tools.wprdc.org/images/pittsburgh/play...</td>\n",
       "      <td>Central Northside</td>\n",
       "      <td>6</td>\n",
       "      <td>25</td>\n",
       "      <td>42003250300</td>\n",
       "      <td>1</td>\n",
       "      <td>25</td>\n",
       "      <td>1</td>\n",
       "      <td>1-21</td>\n",
       "      <td>40.457707</td>\n",
       "      <td>-80.012952</td>\n",
       "    </tr>\n",
       "    <tr>\n",
       "      <th>3</th>\n",
       "      <td>1770671485</td>\n",
       "      <td>Alton Playground</td>\n",
       "      <td>NaN</td>\n",
       "      <td>Parks - Western</td>\n",
       "      <td>Alton Park</td>\n",
       "      <td>ANDICK WAY</td>\n",
       "      <td>https://tools.wprdc.org/images/pittsburgh/play...</td>\n",
       "      <td>Beechview</td>\n",
       "      <td>4</td>\n",
       "      <td>19</td>\n",
       "      <td>42003191600</td>\n",
       "      <td>5</td>\n",
       "      <td>19</td>\n",
       "      <td>6</td>\n",
       "      <td>4-28</td>\n",
       "      <td>40.414137</td>\n",
       "      <td>-80.021831</td>\n",
       "    </tr>\n",
       "    <tr>\n",
       "      <th>4</th>\n",
       "      <td>18942817</td>\n",
       "      <td>Ammon Playground</td>\n",
       "      <td>NaN</td>\n",
       "      <td>Parks - Schenley</td>\n",
       "      <td>Ammon Park</td>\n",
       "      <td>MEMORY LN</td>\n",
       "      <td>https://tools.wprdc.org/images/pittsburgh/play...</td>\n",
       "      <td>Bedford Dwellings</td>\n",
       "      <td>6</td>\n",
       "      <td>5</td>\n",
       "      <td>42003050900</td>\n",
       "      <td>3</td>\n",
       "      <td>5</td>\n",
       "      <td>2</td>\n",
       "      <td>2-5</td>\n",
       "      <td>40.449037</td>\n",
       "      <td>-79.978064</td>\n",
       "    </tr>\n",
       "  </tbody>\n",
       "</table>\n",
       "</div>"
      ],
      "text/plain": [
       "           id                      name  type maintenance_responsibility  \\\n",
       "0   731501774      Able Long Playground   NaN            Parks - Western   \n",
       "1  1461276747  Albert Graham Playground   NaN           Parks - Schenley   \n",
       "2  1860709784         Alpine Playground   NaN           Parks - Northern   \n",
       "3  1770671485          Alton Playground   NaN            Parks - Western   \n",
       "4    18942817          Ammon Playground   NaN           Parks - Schenley   \n",
       "\n",
       "                      park       street  \\\n",
       "0           Able Long Park    COAST AVE   \n",
       "1  Albert Turk Graham Park  FORESIDE PL   \n",
       "2      Alpine Gardens Park   ALPINE AVE   \n",
       "3               Alton Park   ANDICK WAY   \n",
       "4               Ammon Park    MEMORY LN   \n",
       "\n",
       "                                               image       neighborhood  \\\n",
       "0  https://tools.wprdc.org/images/pittsburgh/play...          Beechview   \n",
       "1  https://tools.wprdc.org/images/pittsburgh/play...   Crawford-Roberts   \n",
       "2  https://tools.wprdc.org/images/pittsburgh/play...  Central Northside   \n",
       "3  https://tools.wprdc.org/images/pittsburgh/play...          Beechview   \n",
       "4  https://tools.wprdc.org/images/pittsburgh/play...  Bedford Dwellings   \n",
       "\n",
       "   council_district  ward        tract  public_works_division  pli_division  \\\n",
       "0                 4    19  42003192000                      5            19   \n",
       "1                 6     3  42003030500                      3             3   \n",
       "2                 6    25  42003250300                      1            25   \n",
       "3                 4    19  42003191600                      5            19   \n",
       "4                 6     5  42003050900                      3             5   \n",
       "\n",
       "   police_zone fire_zone   latitude  longitude  \n",
       "0            6      4-28  40.408365 -80.028445  \n",
       "1            2       2-1  40.440519 -79.984137  \n",
       "2            1      1-21  40.457707 -80.012952  \n",
       "3            6      4-28  40.414137 -80.021831  \n",
       "4            2       2-5  40.449037 -79.978064  "
      ]
     },
     "execution_count": 222,
     "metadata": {},
     "output_type": "execute_result"
    }
   ],
   "source": [
    "playgrounds = pd.read_csv(\"https://data.wprdc.org/datastore/dump/47350364-44a8-4d15-b6e0-5f79ddff9367\")\n",
    "playgrounds.head()"
   ]
  },
  {
   "cell_type": "markdown",
   "metadata": {},
   "source": [
    "How many neighborhoods have playgrounds in Pittsburgh?"
   ]
  },
  {
   "cell_type": "code",
   "execution_count": 223,
   "metadata": {},
   "outputs": [
    {
     "data": {
      "text/plain": [
       "array(['Beechview', 'Crawford-Roberts', 'Central Northside',\n",
       "       'Bedford Dwellings', 'South Side Slopes', 'South Side Flats',\n",
       "       'Lower Lawrenceville', 'Banksville', 'Homewood North', 'Bon Air',\n",
       "       'Central Oakland', 'Brighton Heights', 'Brookline', 'Hazelwood',\n",
       "       'Squirrel Hill South', 'Spring Garden', 'Lincoln-Lemington-Belmar',\n",
       "       'Windgap', 'Troy Hill', 'Westwood', 'Perry South', 'Homewood West',\n",
       "       'Allegheny Center', 'Strip District', 'Stanton Heights',\n",
       "       'Crafton Heights', 'West Oakland', 'East Carnegie',\n",
       "       'Duquesne Heights', 'East Liberty', 'Esplen', 'Fairywood',\n",
       "       'Highland Park', 'Upper Lawrenceville', 'Fineview',\n",
       "       'Regent Square', 'Garfield', 'Greenfield', 'South Oakland',\n",
       "       'Allentown', 'Hays', 'Elliott', 'Morningside', 'Terrace Village',\n",
       "       'Larimer', 'Carrick', 'Central Lawrenceville', 'Lincoln Place',\n",
       "       'Manchester', 'Marshall-Shadeland', 'Sheraden', 'Beltzhoover',\n",
       "       'Shadyside', 'Mount Washington', 'Oakwood', 'Bloomfield',\n",
       "       'Perry North', 'Upper Hill', 'New Homestead',\n",
       "       'Spring Hill-City View', 'Swisshelm Park', 'Bluff', 'Middle Hill',\n",
       "       'West End', 'Polish Hill', 'Point Breeze North',\n",
       "       'Squirrel Hill North'], dtype=object)"
      ]
     },
     "execution_count": 223,
     "metadata": {},
     "output_type": "execute_result"
    }
   ],
   "source": [
    "playgrounds[\"neighborhood\"].unique()"
   ]
  },
  {
   "cell_type": "markdown",
   "metadata": {},
   "source": [
    "That looks like quite a bit more than when we were looking at the playing fields. How many neighborhoods do we have here."
   ]
  },
  {
   "cell_type": "code",
   "execution_count": 224,
   "metadata": {},
   "outputs": [
    {
     "data": {
      "text/plain": [
       "67"
      ]
     },
     "execution_count": 224,
     "metadata": {},
     "output_type": "execute_result"
    }
   ],
   "source": [
    "playgrounds[\"neighborhood\"].nunique()"
   ]
  },
  {
   "cell_type": "markdown",
   "metadata": {},
   "source": [
    "There's 16 more neighborhoods here! We'll have to account for that later when deciding which neighborhood is the best for your kids.\n",
    "\n",
    "Now how many parks do we have exactly?"
   ]
  },
  {
   "cell_type": "code",
   "execution_count": 225,
   "metadata": {},
   "outputs": [
    {
     "data": {
      "text/plain": [
       "121"
      ]
     },
     "execution_count": 225,
     "metadata": {},
     "output_type": "execute_result"
    }
   ],
   "source": [
    "len(playgrounds)"
   ]
  },
  {
   "cell_type": "markdown",
   "metadata": {},
   "source": [
    "That's a fair amount of playgrounds, just some quick math would recommend just under an average of 2 playgrounds per neighborhood.\n",
    "\n",
    "Why don't we see how many playgrounds each neighborhood actually has?"
   ]
  },
  {
   "cell_type": "code",
   "execution_count": 226,
   "metadata": {},
   "outputs": [
    {
     "data": {
      "text/plain": [
       "Squirrel Hill South         8\n",
       "South Side Slopes           5\n",
       "Beechview                   5\n",
       "Sheraden                    4\n",
       "Highland Park               4\n",
       "Allegheny Center            4\n",
       "Mount Washington            3\n",
       "Hazelwood                   3\n",
       "South Oakland               3\n",
       "Elliott                     3\n",
       "Beltzhoover                 3\n",
       "Crawford-Roberts            3\n",
       "Carrick                     3\n",
       "Garfield                    2\n",
       "Manchester                  2\n",
       "Central Northside           2\n",
       "Bloomfield                  2\n",
       "East Liberty                2\n",
       "Lincoln Place               2\n",
       "Marshall-Shadeland          2\n",
       "Lincoln-Lemington-Belmar    2\n",
       "Troy Hill                   2\n",
       "Brighton Heights            2\n",
       "Crafton Heights             2\n",
       "Greenfield                  2\n",
       "Upper Lawrenceville         2\n",
       "South Side Flats            2\n",
       "Morningside                 2\n",
       "Brookline                   2\n",
       "Terrace Village             1\n",
       "                           ..\n",
       "Perry North                 1\n",
       "Esplen                      1\n",
       "Bluff                       1\n",
       "Spring Hill-City View       1\n",
       "New Homestead               1\n",
       "Perry South                 1\n",
       "Fairywood                   1\n",
       "Upper Hill                  1\n",
       "Squirrel Hill North         1\n",
       "Allentown                   1\n",
       "West Oakland                1\n",
       "Polish Hill                 1\n",
       "Spring Garden               1\n",
       "Swisshelm Park              1\n",
       "Middle Hill                 1\n",
       "Bedford Dwellings           1\n",
       "Strip District              1\n",
       "Larimer                     1\n",
       "Regent Square               1\n",
       "Homewood West               1\n",
       "Stanton Heights             1\n",
       "Hays                        1\n",
       "Fineview                    1\n",
       "Westwood                    1\n",
       "Lower Lawrenceville         1\n",
       "Homewood North              1\n",
       "Banksville                  1\n",
       "Point Breeze North          1\n",
       "Shadyside                   1\n",
       "Bon Air                     1\n",
       "Name: neighborhood, Length: 67, dtype: int64"
      ]
     },
     "execution_count": 226,
     "metadata": {},
     "output_type": "execute_result"
    }
   ],
   "source": [
    "playgrounds[\"neighborhood\"].value_counts()"
   ]
  },
  {
   "cell_type": "markdown",
   "metadata": {},
   "source": [
    "How about we make that more visual."
   ]
  },
  {
   "cell_type": "code",
   "execution_count": 227,
   "metadata": {},
   "outputs": [
    {
     "data": {
      "text/plain": [
       "<matplotlib.axes._subplots.AxesSubplot at 0x7fd710609550>"
      ]
     },
     "execution_count": 227,
     "metadata": {},
     "output_type": "execute_result"
    },
    {
     "data": {
      "image/png": "[encoded data removed]",
      "text/plain": [
       "<Figure size 432x288 with 1 Axes>"
      ]
     },
     "metadata": {
      "needs_background": "light"
     },
     "output_type": "display_data"
    }
   ],
   "source": [
    "playgrounds[\"neighborhood\"].value_counts().head().plot(kind=\"bar\")"
   ]
  },
  {
   "cell_type": "markdown",
   "metadata": {},
   "source": [
    "Wow! Immediately we see Squirrel Hill South with the most but a large margin, sitting on top with 8 playgrounds. Followed by Beechview and South Side Slopes tied with 5. So its safe to say Squirrel Hill South is the best neighborhood in terms of playgrounds, right?\n",
    "\n",
    "Not necessarily, a big aspect of playground is having thing for everyone. Luckily for us, we have another dataset on playground equipment and whether they are ADA accessible. For those who don't know the ADA is the American with Disabilities Act, and sets guidelines on the accessibilty requirements of public and commercial land in order to prohibit discrimination against the disabled.\n",
    "\n",
    "For example Chartiers Playground contains ADA accessible swings:\n",
    "![ ](https://tools.wprdc.org/images/pittsburgh/playgrounds/Chartiers_Playground.jpg)\n",
    "\n",
    "Now with this in mind lets pop our new database into pandas and run some of the same code one it."
   ]
  },
  {
   "cell_type": "code",
   "execution_count": 228,
   "metadata": {},
   "outputs": [
    {
     "data": {
      "text/html": [
       "<div>\n",
       "<style scoped>\n",
       "    .dataframe tbody tr th:only-of-type {\n",
       "        vertical-align: middle;\n",
       "    }\n",
       "\n",
       "    .dataframe tbody tr th {\n",
       "        vertical-align: top;\n",
       "    }\n",
       "\n",
       "    .dataframe thead th {\n",
       "        text-align: right;\n",
       "    }\n",
       "</style>\n",
       "<table border=\"1\" class=\"dataframe\">\n",
       "  <thead>\n",
       "    <tr style=\"text-align: right;\">\n",
       "      <th></th>\n",
       "      <th>id</th>\n",
       "      <th>name</th>\n",
       "      <th>equipment_type</th>\n",
       "      <th>manufacturer</th>\n",
       "      <th>safety_surface_type</th>\n",
       "      <th>ada_accessible</th>\n",
       "      <th>street_number</th>\n",
       "      <th>street</th>\n",
       "      <th>neighborhood</th>\n",
       "      <th>council_district</th>\n",
       "      <th>ward</th>\n",
       "      <th>tract</th>\n",
       "      <th>public_works_division</th>\n",
       "      <th>pli_division</th>\n",
       "      <th>police_zone</th>\n",
       "      <th>fire_zone</th>\n",
       "      <th>latitude</th>\n",
       "      <th>longitude</th>\n",
       "    </tr>\n",
       "  </thead>\n",
       "  <tbody>\n",
       "    <tr>\n",
       "      <th>0</th>\n",
       "      <td>1780722587</td>\n",
       "      <td>Able Long Playground</td>\n",
       "      <td>Play Area 2 to 5</td>\n",
       "      <td>Little Tykes</td>\n",
       "      <td>Pour in Place</td>\n",
       "      <td>f</td>\n",
       "      <td>211.0</td>\n",
       "      <td>Coast Ave</td>\n",
       "      <td>Beechview</td>\n",
       "      <td>4</td>\n",
       "      <td>19</td>\n",
       "      <td>42003192000</td>\n",
       "      <td>5</td>\n",
       "      <td>19</td>\n",
       "      <td>6</td>\n",
       "      <td>4-28</td>\n",
       "      <td>40.408381</td>\n",
       "      <td>-80.028520</td>\n",
       "    </tr>\n",
       "    <tr>\n",
       "      <th>1</th>\n",
       "      <td>702514290</td>\n",
       "      <td>North Ave. Playground</td>\n",
       "      <td>Play Area 2 to 5</td>\n",
       "      <td>Playworld</td>\n",
       "      <td>SofSurfaces</td>\n",
       "      <td>f</td>\n",
       "      <td>377.0</td>\n",
       "      <td>W North Ave</td>\n",
       "      <td>Allegheny Center</td>\n",
       "      <td>1</td>\n",
       "      <td>22</td>\n",
       "      <td>42003562700</td>\n",
       "      <td>1</td>\n",
       "      <td>22</td>\n",
       "      <td>1</td>\n",
       "      <td>1-7</td>\n",
       "      <td>40.454526</td>\n",
       "      <td>-80.010188</td>\n",
       "    </tr>\n",
       "    <tr>\n",
       "      <th>2</th>\n",
       "      <td>1267038491</td>\n",
       "      <td>Vietnam Veteran's Playground</td>\n",
       "      <td>Slide</td>\n",
       "      <td>Little Tykes</td>\n",
       "      <td>SofSurfaces</td>\n",
       "      <td>f</td>\n",
       "      <td>108.0</td>\n",
       "      <td>Panther Hollow Rd</td>\n",
       "      <td>Squirrel Hill South</td>\n",
       "      <td>5</td>\n",
       "      <td>14</td>\n",
       "      <td>42003980500</td>\n",
       "      <td>3</td>\n",
       "      <td>14</td>\n",
       "      <td>4</td>\n",
       "      <td>2-8</td>\n",
       "      <td>40.434185</td>\n",
       "      <td>-79.944323</td>\n",
       "    </tr>\n",
       "    <tr>\n",
       "      <th>3</th>\n",
       "      <td>14898932</td>\n",
       "      <td>Schenley Overlook Playground</td>\n",
       "      <td>Swing 2 Bays</td>\n",
       "      <td>Little Tykes</td>\n",
       "      <td>SofSurfaces</td>\n",
       "      <td>t</td>\n",
       "      <td>NaN</td>\n",
       "      <td>Overlook Dr</td>\n",
       "      <td>Squirrel Hill South</td>\n",
       "      <td>5</td>\n",
       "      <td>14</td>\n",
       "      <td>42003980500</td>\n",
       "      <td>3</td>\n",
       "      <td>14</td>\n",
       "      <td>4</td>\n",
       "      <td>2-8</td>\n",
       "      <td>40.432130</td>\n",
       "      <td>-79.947774</td>\n",
       "    </tr>\n",
       "    <tr>\n",
       "      <th>4</th>\n",
       "      <td>204832406</td>\n",
       "      <td>Schenley Overlook Playground</td>\n",
       "      <td>Slide</td>\n",
       "      <td>Little Tykes</td>\n",
       "      <td>SofSurfaces</td>\n",
       "      <td>f</td>\n",
       "      <td>NaN</td>\n",
       "      <td>Overlook Dr</td>\n",
       "      <td>Squirrel Hill South</td>\n",
       "      <td>5</td>\n",
       "      <td>14</td>\n",
       "      <td>42003980500</td>\n",
       "      <td>3</td>\n",
       "      <td>14</td>\n",
       "      <td>4</td>\n",
       "      <td>2-8</td>\n",
       "      <td>40.432215</td>\n",
       "      <td>-79.947817</td>\n",
       "    </tr>\n",
       "  </tbody>\n",
       "</table>\n",
       "</div>"
      ],
      "text/plain": [
       "           id                          name    equipment_type  manufacturer  \\\n",
       "0  1780722587          Able Long Playground  Play Area 2 to 5  Little Tykes   \n",
       "1   702514290         North Ave. Playground  Play Area 2 to 5     Playworld   \n",
       "2  1267038491  Vietnam Veteran's Playground             Slide  Little Tykes   \n",
       "3    14898932  Schenley Overlook Playground      Swing 2 Bays  Little Tykes   \n",
       "4   204832406  Schenley Overlook Playground             Slide  Little Tykes   \n",
       "\n",
       "  safety_surface_type ada_accessible  street_number             street  \\\n",
       "0       Pour in Place              f          211.0          Coast Ave   \n",
       "1         SofSurfaces              f          377.0        W North Ave   \n",
       "2         SofSurfaces              f          108.0  Panther Hollow Rd   \n",
       "3         SofSurfaces              t            NaN        Overlook Dr   \n",
       "4         SofSurfaces              f            NaN        Overlook Dr   \n",
       "\n",
       "          neighborhood  council_district  ward        tract  \\\n",
       "0            Beechview                 4    19  42003192000   \n",
       "1     Allegheny Center                 1    22  42003562700   \n",
       "2  Squirrel Hill South                 5    14  42003980500   \n",
       "3  Squirrel Hill South                 5    14  42003980500   \n",
       "4  Squirrel Hill South                 5    14  42003980500   \n",
       "\n",
       "   public_works_division  pli_division  police_zone fire_zone   latitude  \\\n",
       "0                      5            19            6      4-28  40.408381   \n",
       "1                      1            22            1       1-7  40.454526   \n",
       "2                      3            14            4       2-8  40.434185   \n",
       "3                      3            14            4       2-8  40.432130   \n",
       "4                      3            14            4       2-8  40.432215   \n",
       "\n",
       "   longitude  \n",
       "0 -80.028520  \n",
       "1 -80.010188  \n",
       "2 -79.944323  \n",
       "3 -79.947774  \n",
       "4 -79.947817  "
      ]
     },
     "execution_count": 228,
     "metadata": {},
     "output_type": "execute_result"
    }
   ],
   "source": [
    "playground_equipment = pd.read_csv(\"https://data.wprdc.org/datastore/dump/e39ef76e-0a11-47c8-a86f-a37f55db7a2b\")\n",
    "playground_equipment.head()"
   ]
  },
  {
   "cell_type": "code",
   "execution_count": 229,
   "metadata": {},
   "outputs": [
    {
     "data": {
      "text/plain": [
       "array(['Beechview', 'Allegheny Center', 'Squirrel Hill South', 'Windgap',\n",
       "       'Perry South', 'Crafton Heights', 'Fineview', 'Terrace Village',\n",
       "       'Hazelwood', 'Lincoln Place', 'Sheraden', 'Brookline', 'Oakwood',\n",
       "       'New Homestead', 'South Side Slopes', 'Upper Hill',\n",
       "       'Brighton Heights', 'Allentown', 'East Liberty', 'Highland Park',\n",
       "       'Central Northside', 'Bloomfield', 'Mount Washington', 'Shadyside',\n",
       "       'Westwood', 'Hays', 'Polish Hill', 'Central Oakland',\n",
       "       'Lincoln-Lemington-Belmar', 'Esplen', 'Greenfield',\n",
       "       'Crawford-Roberts', 'Bedford Dwellings', 'Marshall-Shadeland',\n",
       "       'Beltzhoover', 'West Oakland', 'Elliott', 'Spring Garden',\n",
       "       'Homewood West', 'Strip District', 'Stanton Heights',\n",
       "       'East Carnegie', 'Upper Lawrenceville', 'South Oakland',\n",
       "       'Morningside', 'South Side Flats', 'Central Lawrenceville',\n",
       "       'Manchester', 'Garfield', 'Lower Lawrenceville', 'Carrick',\n",
       "       'Spring Hill-City View', 'Bluff', 'Middle Hill', 'Banksville',\n",
       "       'West End', 'Point Breeze North', 'Troy Hill', 'Larimer',\n",
       "       'Duquesne Heights', 'Homewood North', 'Swisshelm Park', 'Bon Air',\n",
       "       'Regent Square', 'Fairywood', 'Perry North'], dtype=object)"
      ]
     },
     "execution_count": 229,
     "metadata": {},
     "output_type": "execute_result"
    }
   ],
   "source": [
    "playground_equipment[\"neighborhood\"].unique()"
   ]
  },
  {
   "cell_type": "code",
   "execution_count": 230,
   "metadata": {},
   "outputs": [
    {
     "data": {
      "text/plain": [
       "66"
      ]
     },
     "execution_count": 230,
     "metadata": {},
     "output_type": "execute_result"
    }
   ],
   "source": [
    "playground_equipment[\"neighborhood\"].nunique()"
   ]
  },
  {
   "cell_type": "markdown",
   "metadata": {},
   "source": [
    "Uh oh, it seems we have one less neighborhood. That's okay, we'll assume that playground has no ADA accessible equipement when we get to the end."
   ]
  },
  {
   "cell_type": "code",
   "execution_count": 231,
   "metadata": {},
   "outputs": [
    {
     "data": {
      "text/plain": [
       "Squirrel Hill South         32\n",
       "Beechview                   21\n",
       "Allegheny Center            15\n",
       "South Side Slopes           14\n",
       "Sheraden                    13\n",
       "Hazelwood                   13\n",
       "Mount Washington            10\n",
       "Highland Park               10\n",
       "Regent Square                9\n",
       "Garfield                     9\n",
       "Lincoln Place                9\n",
       "East Liberty                 8\n",
       "Fineview                     8\n",
       "Brighton Heights             8\n",
       "Carrick                      7\n",
       "Brookline                    7\n",
       "Beltzhoover                  7\n",
       "Bloomfield                   7\n",
       "Greenfield                   7\n",
       "Manchester                   7\n",
       "Elliott                      7\n",
       "Troy Hill                    7\n",
       "South Oakland                7\n",
       "Lincoln-Lemington-Belmar     6\n",
       "Banksville                   6\n",
       "Swisshelm Park               6\n",
       "Perry North                  6\n",
       "Crawford-Roberts             6\n",
       "Crafton Heights              5\n",
       "Marshall-Shadeland           5\n",
       "                            ..\n",
       "Oakwood                      4\n",
       "Homewood West                4\n",
       "Terrace Village              4\n",
       "Duquesne Heights             4\n",
       "Polish Hill                  4\n",
       "Central Northside            4\n",
       "Allentown                    4\n",
       "Fairywood                    4\n",
       "Upper Lawrenceville          4\n",
       "West End                     3\n",
       "Perry South                  3\n",
       "Spring Hill-City View        3\n",
       "Bon Air                      3\n",
       "Point Breeze North           3\n",
       "Hays                         3\n",
       "Central Lawrenceville        3\n",
       "Homewood North               3\n",
       "Stanton Heights              3\n",
       "Larimer                      3\n",
       "Bedford Dwellings            3\n",
       "Spring Garden                3\n",
       "Middle Hill                  3\n",
       "Lower Lawrenceville          2\n",
       "Esplen                       2\n",
       "Central Oakland              2\n",
       "Bluff                        2\n",
       "Westwood                     2\n",
       "East Carnegie                2\n",
       "Strip District               1\n",
       "West Oakland                 1\n",
       "Name: neighborhood, Length: 66, dtype: int64"
      ]
     },
     "execution_count": 231,
     "metadata": {},
     "output_type": "execute_result"
    }
   ],
   "source": [
    "playground_equipment[\"neighborhood\"].value_counts()"
   ]
  },
  {
   "cell_type": "code",
   "execution_count": 232,
   "metadata": {},
   "outputs": [
    {
     "data": {
      "text/plain": [
       "<matplotlib.axes._subplots.AxesSubplot at 0x7fd710575a20>"
      ]
     },
     "execution_count": 232,
     "metadata": {},
     "output_type": "execute_result"
    },
    {
     "data": {
      "image/png": "[encoded data removed]",
      "text/plain": [
       "<Figure size 432x288 with 1 Axes>"
      ]
     },
     "metadata": {
      "needs_background": "light"
     },
     "output_type": "display_data"
    }
   ],
   "source": [
    "playground_equipment[\"neighborhood\"].value_counts().head().plot(kind=\"bar\")"
   ]
  },
  {
   "cell_type": "markdown",
   "metadata": {},
   "source": [
    "So now we've arrived with a new graph featuring similar faces from the earlier graph. We still see Squirrel Hill South dominating the competition though. However, we have not filtered out the ADA accessible yet. So lets do that."
   ]
  },
  {
   "cell_type": "code",
   "execution_count": 233,
   "metadata": {},
   "outputs": [
    {
     "data": {
      "text/html": [
       "<div>\n",
       "<style scoped>\n",
       "    .dataframe tbody tr th:only-of-type {\n",
       "        vertical-align: middle;\n",
       "    }\n",
       "\n",
       "    .dataframe tbody tr th {\n",
       "        vertical-align: top;\n",
       "    }\n",
       "\n",
       "    .dataframe thead th {\n",
       "        text-align: right;\n",
       "    }\n",
       "</style>\n",
       "<table border=\"1\" class=\"dataframe\">\n",
       "  <thead>\n",
       "    <tr style=\"text-align: right;\">\n",
       "      <th></th>\n",
       "      <th>id</th>\n",
       "      <th>name</th>\n",
       "      <th>equipment_type</th>\n",
       "      <th>manufacturer</th>\n",
       "      <th>safety_surface_type</th>\n",
       "      <th>ada_accessible</th>\n",
       "      <th>street_number</th>\n",
       "      <th>street</th>\n",
       "      <th>neighborhood</th>\n",
       "      <th>council_district</th>\n",
       "      <th>ward</th>\n",
       "      <th>tract</th>\n",
       "      <th>public_works_division</th>\n",
       "      <th>pli_division</th>\n",
       "      <th>police_zone</th>\n",
       "      <th>fire_zone</th>\n",
       "      <th>latitude</th>\n",
       "      <th>longitude</th>\n",
       "    </tr>\n",
       "  </thead>\n",
       "  <tbody>\n",
       "    <tr>\n",
       "      <th>3</th>\n",
       "      <td>14898932</td>\n",
       "      <td>Schenley Overlook Playground</td>\n",
       "      <td>Swing 2 Bays</td>\n",
       "      <td>Little Tykes</td>\n",
       "      <td>SofSurfaces</td>\n",
       "      <td>t</td>\n",
       "      <td>NaN</td>\n",
       "      <td>Overlook Dr</td>\n",
       "      <td>Squirrel Hill South</td>\n",
       "      <td>5</td>\n",
       "      <td>14</td>\n",
       "      <td>42003980500</td>\n",
       "      <td>3</td>\n",
       "      <td>14</td>\n",
       "      <td>4</td>\n",
       "      <td>2-8</td>\n",
       "      <td>40.432130</td>\n",
       "      <td>-79.947774</td>\n",
       "    </tr>\n",
       "    <tr>\n",
       "      <th>6</th>\n",
       "      <td>1387089430</td>\n",
       "      <td>Chartiers Playground</td>\n",
       "      <td>Swing 2 Bays</td>\n",
       "      <td>Little Tykes</td>\n",
       "      <td>SofSurfaces</td>\n",
       "      <td>t</td>\n",
       "      <td>3783.0</td>\n",
       "      <td>Chartiers Ave</td>\n",
       "      <td>Windgap</td>\n",
       "      <td>2</td>\n",
       "      <td>28</td>\n",
       "      <td>42003563000</td>\n",
       "      <td>5</td>\n",
       "      <td>28</td>\n",
       "      <td>6</td>\n",
       "      <td>1-16</td>\n",
       "      <td>40.457218</td>\n",
       "      <td>-80.075070</td>\n",
       "    </tr>\n",
       "    <tr>\n",
       "      <th>10</th>\n",
       "      <td>1811257536</td>\n",
       "      <td>Cross and Strauss Playground</td>\n",
       "      <td>Swing 2 Bays</td>\n",
       "      <td>Little Tykes</td>\n",
       "      <td>Pour in Place</td>\n",
       "      <td>t</td>\n",
       "      <td>NaN</td>\n",
       "      <td>Cross St</td>\n",
       "      <td>Perry South</td>\n",
       "      <td>6</td>\n",
       "      <td>26</td>\n",
       "      <td>42003261400</td>\n",
       "      <td>1</td>\n",
       "      <td>26</td>\n",
       "      <td>1</td>\n",
       "      <td>1-12</td>\n",
       "      <td>40.465189</td>\n",
       "      <td>-80.020173</td>\n",
       "    </tr>\n",
       "    <tr>\n",
       "      <th>15</th>\n",
       "      <td>490747758</td>\n",
       "      <td>Dunbar Playground</td>\n",
       "      <td>Swing 2 Bays</td>\n",
       "      <td>Playworld</td>\n",
       "      <td>Pour in Place</td>\n",
       "      <td>t</td>\n",
       "      <td>1201.0</td>\n",
       "      <td>Clairhaven St</td>\n",
       "      <td>Crafton Heights</td>\n",
       "      <td>2</td>\n",
       "      <td>28</td>\n",
       "      <td>42003281500</td>\n",
       "      <td>5</td>\n",
       "      <td>28</td>\n",
       "      <td>6</td>\n",
       "      <td>1-18</td>\n",
       "      <td>40.439321</td>\n",
       "      <td>-80.051894</td>\n",
       "    </tr>\n",
       "    <tr>\n",
       "      <th>18</th>\n",
       "      <td>595152426</td>\n",
       "      <td>Fineview Playground</td>\n",
       "      <td>Swing 2 Bays</td>\n",
       "      <td>Playworld</td>\n",
       "      <td>Greenpark Breakfall</td>\n",
       "      <td>t</td>\n",
       "      <td>NaN</td>\n",
       "      <td>Fineview Ave</td>\n",
       "      <td>Fineview</td>\n",
       "      <td>1</td>\n",
       "      <td>25</td>\n",
       "      <td>42003250900</td>\n",
       "      <td>1</td>\n",
       "      <td>25</td>\n",
       "      <td>1</td>\n",
       "      <td>1-10</td>\n",
       "      <td>40.461713</td>\n",
       "      <td>-80.003621</td>\n",
       "    </tr>\n",
       "  </tbody>\n",
       "</table>\n",
       "</div>"
      ],
      "text/plain": [
       "            id                          name equipment_type  manufacturer  \\\n",
       "3     14898932  Schenley Overlook Playground   Swing 2 Bays  Little Tykes   \n",
       "6   1387089430          Chartiers Playground   Swing 2 Bays  Little Tykes   \n",
       "10  1811257536  Cross and Strauss Playground   Swing 2 Bays  Little Tykes   \n",
       "15   490747758             Dunbar Playground   Swing 2 Bays     Playworld   \n",
       "18   595152426           Fineview Playground   Swing 2 Bays     Playworld   \n",
       "\n",
       "    safety_surface_type ada_accessible  street_number         street  \\\n",
       "3           SofSurfaces              t            NaN    Overlook Dr   \n",
       "6           SofSurfaces              t         3783.0  Chartiers Ave   \n",
       "10        Pour in Place              t            NaN       Cross St   \n",
       "15        Pour in Place              t         1201.0  Clairhaven St   \n",
       "18  Greenpark Breakfall              t            NaN   Fineview Ave   \n",
       "\n",
       "           neighborhood  council_district  ward        tract  \\\n",
       "3   Squirrel Hill South                 5    14  42003980500   \n",
       "6               Windgap                 2    28  42003563000   \n",
       "10          Perry South                 6    26  42003261400   \n",
       "15      Crafton Heights                 2    28  42003281500   \n",
       "18             Fineview                 1    25  42003250900   \n",
       "\n",
       "    public_works_division  pli_division  police_zone fire_zone   latitude  \\\n",
       "3                       3            14            4       2-8  40.432130   \n",
       "6                       5            28            6      1-16  40.457218   \n",
       "10                      1            26            1      1-12  40.465189   \n",
       "15                      5            28            6      1-18  40.439321   \n",
       "18                      1            25            1      1-10  40.461713   \n",
       "\n",
       "    longitude  \n",
       "3  -79.947774  \n",
       "6  -80.075070  \n",
       "10 -80.020173  \n",
       "15 -80.051894  \n",
       "18 -80.003621  "
      ]
     },
     "execution_count": 233,
     "metadata": {},
     "output_type": "execute_result"
    }
   ],
   "source": [
    "accessible = playground_equipment[\"ada_accessible\"] == \"t\"\n",
    "accessible_playgrounds = playground_equipment[accessible]\n",
    "\n",
    "accessible_playgrounds.head()"
   ]
  },
  {
   "cell_type": "code",
   "execution_count": 234,
   "metadata": {},
   "outputs": [
    {
     "data": {
      "text/plain": [
       "Squirrel Hill South         7\n",
       "South Side Slopes           4\n",
       "Beechview                   4\n",
       "Mount Washington            3\n",
       "Sheraden                    3\n",
       "Elliott                     3\n",
       "Highland Park               3\n",
       "Brighton Heights            2\n",
       "Fineview                    2\n",
       "Lincoln-Lemington-Belmar    2\n",
       "South Side Flats            2\n",
       "Carrick                     2\n",
       "Hazelwood                   2\n",
       "Beltzhoover                 2\n",
       "Greenfield                  2\n",
       "Bloomfield                  2\n",
       "Manchester                  2\n",
       "Morningside                 2\n",
       "East Liberty                2\n",
       "Crawford-Roberts            2\n",
       "Duquesne Heights            1\n",
       "Homewood West               1\n",
       "Windgap                     1\n",
       "Marshall-Shadeland          1\n",
       "South Oakland               1\n",
       "Central Lawrenceville       1\n",
       "Spring Hill-City View       1\n",
       "West End                    1\n",
       "Upper Hill                  1\n",
       "Lincoln Place               1\n",
       "Perry South                 1\n",
       "New Homestead               1\n",
       "Point Breeze North          1\n",
       "Terrace Village             1\n",
       "Stanton Heights             1\n",
       "Shadyside                   1\n",
       "Upper Lawrenceville         1\n",
       "Banksville                  1\n",
       "Homewood North              1\n",
       "Garfield                    1\n",
       "Troy Hill                   1\n",
       "Allentown                   1\n",
       "Oakwood                     1\n",
       "Allegheny Center            1\n",
       "Polish Hill                 1\n",
       "Regent Square               1\n",
       "Spring Garden               1\n",
       "Perry North                 1\n",
       "Swisshelm Park              1\n",
       "Bedford Dwellings           1\n",
       "Bluff                       1\n",
       "Fairywood                   1\n",
       "Crafton Heights             1\n",
       "Middle Hill                 1\n",
       "East Carnegie               1\n",
       "Lower Lawrenceville         1\n",
       "Bon Air                     1\n",
       "Name: neighborhood, dtype: int64"
      ]
     },
     "execution_count": 234,
     "metadata": {},
     "output_type": "execute_result"
    }
   ],
   "source": [
    "accessible_playgrounds[\"neighborhood\"].value_counts()"
   ]
  },
  {
   "cell_type": "code",
   "execution_count": 235,
   "metadata": {},
   "outputs": [
    {
     "data": {
      "text/plain": [
       "<matplotlib.axes._subplots.AxesSubplot at 0x7fd71054f9b0>"
      ]
     },
     "execution_count": 235,
     "metadata": {},
     "output_type": "execute_result"
    },
    {
     "data": {
      "image/png": "[encoded data removed]",
      "text/plain": [
       "<Figure size 432x288 with 1 Axes>"
      ]
     },
     "metadata": {
      "needs_background": "light"
     },
     "output_type": "display_data"
    }
   ],
   "source": [
    "accessible_playgrounds[\"neighborhood\"].value_counts().head().plot(kind=\"bar\")"
   ]
  },
  {
   "cell_type": "markdown",
   "metadata": {},
   "source": [
    "Even within ADA accessible playground equipment Squirrel Hill South remains on top, surprisingly we also see South Side Slopes return to its spot tied with Beechview in second after if dropped initially while looking at total playground equipment. Squirrel Hill South's numbers within each category will definitely earn it the top spot for playgrounds.\n",
    "\n",
    "## Pools\n",
    "\n",
    "When admiring your Childhood it's hard to  neglect the beauty and fun that Spray Parks and pools offered. As such, we can't possibly look at the best neighborhood and not take a look at the water based fun that can be found in many of the neighborhoods of Pittburgh."
   ]
  },
  {
   "cell_type": "code",
   "execution_count": 236,
   "metadata": {},
   "outputs": [
    {
     "data": {
      "text/html": [
       "<div>\n",
       "<style scoped>\n",
       "    .dataframe tbody tr th:only-of-type {\n",
       "        vertical-align: middle;\n",
       "    }\n",
       "\n",
       "    .dataframe tbody tr th {\n",
       "        vertical-align: top;\n",
       "    }\n",
       "\n",
       "    .dataframe thead th {\n",
       "        text-align: right;\n",
       "    }\n",
       "</style>\n",
       "<table border=\"1\" class=\"dataframe\">\n",
       "  <thead>\n",
       "    <tr style=\"text-align: right;\">\n",
       "      <th></th>\n",
       "      <th>id</th>\n",
       "      <th>name</th>\n",
       "      <th>type</th>\n",
       "      <th>retired</th>\n",
       "      <th>water_source</th>\n",
       "      <th>capacity</th>\n",
       "      <th>image</th>\n",
       "      <th>neighborhood</th>\n",
       "      <th>council_district</th>\n",
       "      <th>ward</th>\n",
       "      <th>tract</th>\n",
       "      <th>public_works_division</th>\n",
       "      <th>pli_division</th>\n",
       "      <th>police_zone</th>\n",
       "      <th>fire_zone</th>\n",
       "      <th>latitude</th>\n",
       "      <th>longitude</th>\n",
       "    </tr>\n",
       "  </thead>\n",
       "  <tbody>\n",
       "    <tr>\n",
       "      <th>0</th>\n",
       "      <td>899591542</td>\n",
       "      <td>Ammon</td>\n",
       "      <td>Pool</td>\n",
       "      <td>NaN</td>\n",
       "      <td>Pittsburgh Water and Sewer Authority</td>\n",
       "      <td>538000.0</td>\n",
       "      <td>https://tools.wprdc.org/images/pittsburgh/pool...</td>\n",
       "      <td>Bedford Dwellings</td>\n",
       "      <td>6</td>\n",
       "      <td>5</td>\n",
       "      <td>42003050900</td>\n",
       "      <td>3</td>\n",
       "      <td>5</td>\n",
       "      <td>2</td>\n",
       "      <td>2-5</td>\n",
       "      <td>40.448720</td>\n",
       "      <td>-79.978325</td>\n",
       "    </tr>\n",
       "    <tr>\n",
       "      <th>1</th>\n",
       "      <td>1003800828</td>\n",
       "      <td>Banksville</td>\n",
       "      <td>Pool</td>\n",
       "      <td>NaN</td>\n",
       "      <td>Pennsylvania American Water</td>\n",
       "      <td>166320.0</td>\n",
       "      <td>https://tools.wprdc.org/images/pittsburgh/pool...</td>\n",
       "      <td>Banksville</td>\n",
       "      <td>2</td>\n",
       "      <td>20</td>\n",
       "      <td>42003202300</td>\n",
       "      <td>5</td>\n",
       "      <td>20</td>\n",
       "      <td>6</td>\n",
       "      <td>4-9</td>\n",
       "      <td>40.414758</td>\n",
       "      <td>-80.040551</td>\n",
       "    </tr>\n",
       "    <tr>\n",
       "      <th>2</th>\n",
       "      <td>1688544652</td>\n",
       "      <td>Beechview Spray Park</td>\n",
       "      <td>Spray Park</td>\n",
       "      <td>NaN</td>\n",
       "      <td>Pennsylvania American Water</td>\n",
       "      <td>NaN</td>\n",
       "      <td>https://tools.wprdc.org/images/pittsburgh/pool...</td>\n",
       "      <td>Beechview</td>\n",
       "      <td>4</td>\n",
       "      <td>19</td>\n",
       "      <td>42003191600</td>\n",
       "      <td>5</td>\n",
       "      <td>19</td>\n",
       "      <td>6</td>\n",
       "      <td>4-28</td>\n",
       "      <td>40.414989</td>\n",
       "      <td>-80.019170</td>\n",
       "    </tr>\n",
       "    <tr>\n",
       "      <th>3</th>\n",
       "      <td>1533382756</td>\n",
       "      <td>Bloomfield</td>\n",
       "      <td>Pool</td>\n",
       "      <td>NaN</td>\n",
       "      <td>Pittsburgh Water and Sewer Authority</td>\n",
       "      <td>335000.0</td>\n",
       "      <td>https://tools.wprdc.org/images/pittsburgh/pool...</td>\n",
       "      <td>Bloomfield</td>\n",
       "      <td>7</td>\n",
       "      <td>8</td>\n",
       "      <td>42003080200</td>\n",
       "      <td>2</td>\n",
       "      <td>8</td>\n",
       "      <td>5</td>\n",
       "      <td>3-1</td>\n",
       "      <td>40.461989</td>\n",
       "      <td>-79.953310</td>\n",
       "    </tr>\n",
       "    <tr>\n",
       "      <th>4</th>\n",
       "      <td>1287441950</td>\n",
       "      <td>Burgwin Spray Park</td>\n",
       "      <td>Spray Park</td>\n",
       "      <td>NaN</td>\n",
       "      <td>Pittsburgh Water and Sewer Authority</td>\n",
       "      <td>NaN</td>\n",
       "      <td>https://tools.wprdc.org/images/pittsburgh/pool...</td>\n",
       "      <td>Hazelwood</td>\n",
       "      <td>5</td>\n",
       "      <td>15</td>\n",
       "      <td>42003562300</td>\n",
       "      <td>3</td>\n",
       "      <td>15</td>\n",
       "      <td>4</td>\n",
       "      <td>2-13</td>\n",
       "      <td>40.405065</td>\n",
       "      <td>-79.936896</td>\n",
       "    </tr>\n",
       "  </tbody>\n",
       "</table>\n",
       "</div>"
      ],
      "text/plain": [
       "           id                  name        type  retired  \\\n",
       "0   899591542                 Ammon        Pool      NaN   \n",
       "1  1003800828            Banksville        Pool      NaN   \n",
       "2  1688544652  Beechview Spray Park  Spray Park      NaN   \n",
       "3  1533382756            Bloomfield        Pool      NaN   \n",
       "4  1287441950    Burgwin Spray Park  Spray Park      NaN   \n",
       "\n",
       "                           water_source  capacity  \\\n",
       "0  Pittsburgh Water and Sewer Authority  538000.0   \n",
       "1           Pennsylvania American Water  166320.0   \n",
       "2           Pennsylvania American Water       NaN   \n",
       "3  Pittsburgh Water and Sewer Authority  335000.0   \n",
       "4  Pittsburgh Water and Sewer Authority       NaN   \n",
       "\n",
       "                                               image       neighborhood  \\\n",
       "0  https://tools.wprdc.org/images/pittsburgh/pool...  Bedford Dwellings   \n",
       "1  https://tools.wprdc.org/images/pittsburgh/pool...         Banksville   \n",
       "2  https://tools.wprdc.org/images/pittsburgh/pool...          Beechview   \n",
       "3  https://tools.wprdc.org/images/pittsburgh/pool...         Bloomfield   \n",
       "4  https://tools.wprdc.org/images/pittsburgh/pool...          Hazelwood   \n",
       "\n",
       "   council_district  ward        tract  public_works_division  pli_division  \\\n",
       "0                 6     5  42003050900                      3             5   \n",
       "1                 2    20  42003202300                      5            20   \n",
       "2                 4    19  42003191600                      5            19   \n",
       "3                 7     8  42003080200                      2             8   \n",
       "4                 5    15  42003562300                      3            15   \n",
       "\n",
       "   police_zone fire_zone   latitude  longitude  \n",
       "0            2       2-5  40.448720 -79.978325  \n",
       "1            6       4-9  40.414758 -80.040551  \n",
       "2            6      4-28  40.414989 -80.019170  \n",
       "3            5       3-1  40.461989 -79.953310  \n",
       "4            4      2-13  40.405065 -79.936896  "
      ]
     },
     "execution_count": 236,
     "metadata": {},
     "output_type": "execute_result"
    }
   ],
   "source": [
    "pitt_pools = pd.read_csv(\"https://data.wprdc.org/datastore/dump/5cc254fe-2cbd-4912-9f44-2f95f0beea9a\")\n",
    "pitt_pools.head()"
   ]
  },
  {
   "cell_type": "markdown",
   "metadata": {},
   "source": [
    "_____________________________________________________________________________________\n",
    "    ***************************************************************************"
   ]
  },
  {
   "cell_type": "markdown",
   "metadata": {},
   "source": [
    "Nice, the data set looks promising so far. After all everyone likes a good pool. that being said, there is a column called neighborhood but let us take a closer look at what neighbors are actually fun and contain a pool/spray park."
   ]
  },
  {
   "cell_type": "markdown",
   "metadata": {},
   "source": [
    "    *********************************************************************************\n",
    "_________________________________________________________________________________________"
   ]
  },
  {
   "cell_type": "code",
   "execution_count": 237,
   "metadata": {},
   "outputs": [
    {
     "data": {
      "text/plain": [
       "array(['Bedford Dwellings', 'Banksville', 'Beechview', 'Bloomfield',\n",
       "       'Hazelwood', 'Troy Hill', 'East Hills', 'Highland Park',\n",
       "       'Homewood South', 'Brighton Heights', 'Greenfield',\n",
       "       'Lincoln Place', 'Shadyside', 'Brookline', 'South Side Flats',\n",
       "       'Carrick', 'Mount Washington', 'Perry North',\n",
       "       'Squirrel Hill South', 'Sheraden', 'Allegheny Center',\n",
       "       'Beltzhoover', 'Polish Hill', 'Westwood', 'South Side Slopes',\n",
       "       'Lincoln-Lemington-Belmar'], dtype=object)"
      ]
     },
     "execution_count": 237,
     "metadata": {},
     "output_type": "execute_result"
    }
   ],
   "source": [
    "pitt_pools[\"neighborhood\"].unique()"
   ]
  },
  {
   "cell_type": "markdown",
   "metadata": {},
   "source": [
    "Not going to lie, that makes me dizzy just looking at it. If only there was a way to look\n",
    "at the exact number of neighborhoods invloved... ahh but ofcourse that is the whole point\n",
    "of python. Let us make use of those labs and search for the exact number."
   ]
  },
  {
   "cell_type": "code",
   "execution_count": 238,
   "metadata": {},
   "outputs": [
    {
     "data": {
      "text/plain": [
       "26"
      ]
     },
     "execution_count": 238,
     "metadata": {},
     "output_type": "execute_result"
    }
   ],
   "source": [
    "pitt_pools[\"neighborhood\"].nunique()"
   ]
  },
  {
   "cell_type": "markdown",
   "metadata": {},
   "source": [
    "_____________________________________________________________________________________\n",
    "    ***************************************************************************"
   ]
  },
  {
   "cell_type": "markdown",
   "metadata": {},
   "source": [
    "Not too shabby, I gurantee you that you inner child would have loved to try them all and\n",
    "see which one is the king of pools, but let us do that for you. To further out search\n",
    "we want to see how many pools there are in total."
   ]
  },
  {
   "cell_type": "markdown",
   "metadata": {},
   "source": [
    "    *********************************************************************************\n",
    "_________________________________________________________________________________________"
   ]
  },
  {
   "cell_type": "code",
   "execution_count": 239,
   "metadata": {},
   "outputs": [
    {
     "data": {
      "text/plain": [
       "28"
      ]
     },
     "execution_count": 239,
     "metadata": {},
     "output_type": "execute_result"
    }
   ],
   "source": [
    "len(pitt_pools)"
   ]
  },
  {
   "cell_type": "markdown",
   "metadata": {},
   "source": [
    "_____________________________________________________________________________________\n",
    "    ***************************************************************************"
   ]
  },
  {
   "cell_type": "markdown",
   "metadata": {},
   "source": [
    "26 neighborhoods and 28 pools, something doesn't add up, so let's see what neighborhood(s)\n",
    "have extra pools! Honestly there is no denying that that is a major bonus to our water fun\n",
    "metric."
   ]
  },
  {
   "cell_type": "markdown",
   "metadata": {},
   "source": [
    "    *********************************************************************************\n",
    "_________________________________________________________________________________________"
   ]
  },
  {
   "cell_type": "code",
   "execution_count": 240,
   "metadata": {},
   "outputs": [
    {
     "data": {
      "text/plain": [
       "South Side Flats            2\n",
       "Highland Park               2\n",
       "Beechview                   1\n",
       "Lincoln Place               1\n",
       "Carrick                     1\n",
       "Bedford Dwellings           1\n",
       "Homewood South              1\n",
       "Sheraden                    1\n",
       "Beltzhoover                 1\n",
       "East Hills                  1\n",
       "Perry North                 1\n",
       "Brookline                   1\n",
       "Westwood                    1\n",
       "Bloomfield                  1\n",
       "Polish Hill                 1\n",
       "Allegheny Center            1\n",
       "Brighton Heights            1\n",
       "Mount Washington            1\n",
       "Hazelwood                   1\n",
       "Troy Hill                   1\n",
       "Greenfield                  1\n",
       "Shadyside                   1\n",
       "Banksville                  1\n",
       "Lincoln-Lemington-Belmar    1\n",
       "Squirrel Hill South         1\n",
       "South Side Slopes           1\n",
       "Name: neighborhood, dtype: int64"
      ]
     },
     "execution_count": 240,
     "metadata": {},
     "output_type": "execute_result"
    }
   ],
   "source": [
    "pitt_pools[\"neighborhood\"].value_counts()"
   ]
  },
  {
   "cell_type": "markdown",
   "metadata": {},
   "source": [
    "_____________________________________________________________________________________\n",
    "    ***************************************************************************"
   ]
  },
  {
   "cell_type": "markdown",
   "metadata": {},
   "source": [
    "While that is a very simple list I much prefer a good visual so let's put our trusty data\n",
    "and make a good old bar graph out of it so that we can truly appreciate the neighborhoods\n",
    "with more pools/spray parks!"
   ]
  },
  {
   "cell_type": "markdown",
   "metadata": {},
   "source": [
    "    *********************************************************************************\n",
    "_________________________________________________________________________________________"
   ]
  },
  {
   "cell_type": "code",
   "execution_count": 241,
   "metadata": {},
   "outputs": [
    {
     "data": {
      "text/plain": [
       "<matplotlib.axes._subplots.AxesSubplot at 0x7fd7104a3f60>"
      ]
     },
     "execution_count": 241,
     "metadata": {},
     "output_type": "execute_result"
    },
    {
     "data": {
      "image/png": "[encoded data removed]",
      "text/plain": [
       "<Figure size 432x288 with 1 Axes>"
      ]
     },
     "metadata": {
      "needs_background": "light"
     },
     "output_type": "display_data"
    }
   ],
   "source": [
    "pitt_pools[\"neighborhood\"].value_counts().plot(kind=\"bar\")"
   ]
  },
  {
   "cell_type": "markdown",
   "metadata": {},
   "source": [
    "_____________________________________________________________________________________\n",
    "    ***************************************************************************"
   ]
  },
  {
   "cell_type": "markdown",
   "metadata": {},
   "source": [
    "Granted that there seems to be a general trend with most neighborhood containing 1 with \n",
    "the exception of 2, but let us zoom into this rather hectic graph inorder to look at the\n",
    "top five."
   ]
  },
  {
   "cell_type": "markdown",
   "metadata": {},
   "source": [
    "    *********************************************************************************\n",
    "_________________________________________________________________________________________"
   ]
  },
  {
   "cell_type": "code",
   "execution_count": 242,
   "metadata": {},
   "outputs": [
    {
     "data": {
      "text/plain": [
       "<matplotlib.axes._subplots.AxesSubplot at 0x7fd710492b38>"
      ]
     },
     "execution_count": 242,
     "metadata": {},
     "output_type": "execute_result"
    },
    {
     "data": {
      "image/png": "[encoded data removed]",
      "text/plain": [
       "<Figure size 432x288 with 1 Axes>"
      ]
     },
     "metadata": {
      "needs_background": "light"
     },
     "output_type": "display_data"
    }
   ],
   "source": [
    "pitt_pools[\"neighborhood\"].value_counts().head().plot(kind=\"bar\")"
   ]
  },
  {
   "cell_type": "markdown",
   "metadata": {},
   "source": [
    "_____________________________________________________________________________________\n",
    "    ***************************************************************************"
   ]
  },
  {
   "cell_type": "markdown",
   "metadata": {},
   "source": [
    "While we love keeping very casual and indulging in the fun and games that comes with talking\n",
    "about pools but we can't be total irreponsible adults and neglect to talk about the source of\n",
    "the water. We decide that of the few companies that source water for all the pools in Pittsburgh, Pittsburgh Water and Sewer Authority is the safest for children."
   ]
  },
  {
   "cell_type": "markdown",
   "metadata": {},
   "source": [
    "    *********************************************************************************\n",
    "_________________________________________________________________________________________"
   ]
  },
  {
   "cell_type": "code",
   "execution_count": 243,
   "metadata": {},
   "outputs": [
    {
     "data": {
      "text/html": [
       "<div>\n",
       "<style scoped>\n",
       "    .dataframe tbody tr th:only-of-type {\n",
       "        vertical-align: middle;\n",
       "    }\n",
       "\n",
       "    .dataframe tbody tr th {\n",
       "        vertical-align: top;\n",
       "    }\n",
       "\n",
       "    .dataframe thead th {\n",
       "        text-align: right;\n",
       "    }\n",
       "</style>\n",
       "<table border=\"1\" class=\"dataframe\">\n",
       "  <thead>\n",
       "    <tr style=\"text-align: right;\">\n",
       "      <th></th>\n",
       "      <th>id</th>\n",
       "      <th>name</th>\n",
       "      <th>type</th>\n",
       "      <th>retired</th>\n",
       "      <th>water_source</th>\n",
       "      <th>capacity</th>\n",
       "      <th>image</th>\n",
       "      <th>neighborhood</th>\n",
       "      <th>council_district</th>\n",
       "      <th>ward</th>\n",
       "      <th>tract</th>\n",
       "      <th>public_works_division</th>\n",
       "      <th>pli_division</th>\n",
       "      <th>police_zone</th>\n",
       "      <th>fire_zone</th>\n",
       "      <th>latitude</th>\n",
       "      <th>longitude</th>\n",
       "    </tr>\n",
       "  </thead>\n",
       "  <tbody>\n",
       "    <tr>\n",
       "      <th>0</th>\n",
       "      <td>899591542</td>\n",
       "      <td>Ammon</td>\n",
       "      <td>Pool</td>\n",
       "      <td>NaN</td>\n",
       "      <td>Pittsburgh Water and Sewer Authority</td>\n",
       "      <td>538000.0</td>\n",
       "      <td>https://tools.wprdc.org/images/pittsburgh/pool...</td>\n",
       "      <td>Bedford Dwellings</td>\n",
       "      <td>6</td>\n",
       "      <td>5</td>\n",
       "      <td>42003050900</td>\n",
       "      <td>3</td>\n",
       "      <td>5</td>\n",
       "      <td>2</td>\n",
       "      <td>2-5</td>\n",
       "      <td>40.448720</td>\n",
       "      <td>-79.978325</td>\n",
       "    </tr>\n",
       "    <tr>\n",
       "      <th>3</th>\n",
       "      <td>1533382756</td>\n",
       "      <td>Bloomfield</td>\n",
       "      <td>Pool</td>\n",
       "      <td>NaN</td>\n",
       "      <td>Pittsburgh Water and Sewer Authority</td>\n",
       "      <td>335000.0</td>\n",
       "      <td>https://tools.wprdc.org/images/pittsburgh/pool...</td>\n",
       "      <td>Bloomfield</td>\n",
       "      <td>7</td>\n",
       "      <td>8</td>\n",
       "      <td>42003080200</td>\n",
       "      <td>2</td>\n",
       "      <td>8</td>\n",
       "      <td>5</td>\n",
       "      <td>3-1</td>\n",
       "      <td>40.461989</td>\n",
       "      <td>-79.953310</td>\n",
       "    </tr>\n",
       "    <tr>\n",
       "      <th>4</th>\n",
       "      <td>1287441950</td>\n",
       "      <td>Burgwin Spray Park</td>\n",
       "      <td>Spray Park</td>\n",
       "      <td>NaN</td>\n",
       "      <td>Pittsburgh Water and Sewer Authority</td>\n",
       "      <td>NaN</td>\n",
       "      <td>https://tools.wprdc.org/images/pittsburgh/pool...</td>\n",
       "      <td>Hazelwood</td>\n",
       "      <td>5</td>\n",
       "      <td>15</td>\n",
       "      <td>42003562300</td>\n",
       "      <td>3</td>\n",
       "      <td>15</td>\n",
       "      <td>4</td>\n",
       "      <td>2-13</td>\n",
       "      <td>40.405065</td>\n",
       "      <td>-79.936896</td>\n",
       "    </tr>\n",
       "    <tr>\n",
       "      <th>5</th>\n",
       "      <td>168387727</td>\n",
       "      <td>Cowley Spray Park</td>\n",
       "      <td>Spray Park</td>\n",
       "      <td>NaN</td>\n",
       "      <td>Pittsburgh Water and Sewer Authority</td>\n",
       "      <td>NaN</td>\n",
       "      <td>https://tools.wprdc.org/images/pittsburgh/pool...</td>\n",
       "      <td>Troy Hill</td>\n",
       "      <td>1</td>\n",
       "      <td>24</td>\n",
       "      <td>42003240600</td>\n",
       "      <td>1</td>\n",
       "      <td>24</td>\n",
       "      <td>1</td>\n",
       "      <td>1-2</td>\n",
       "      <td>40.458739</td>\n",
       "      <td>-79.988366</td>\n",
       "    </tr>\n",
       "    <tr>\n",
       "      <th>7</th>\n",
       "      <td>1475037865</td>\n",
       "      <td>Highland - Children</td>\n",
       "      <td>Pool</td>\n",
       "      <td>NaN</td>\n",
       "      <td>Pittsburgh Water and Sewer Authority</td>\n",
       "      <td>NaN</td>\n",
       "      <td>https://tools.wprdc.org/images/pittsburgh/pool...</td>\n",
       "      <td>Highland Park</td>\n",
       "      <td>7</td>\n",
       "      <td>11</td>\n",
       "      <td>42003980100</td>\n",
       "      <td>2</td>\n",
       "      <td>11</td>\n",
       "      <td>5</td>\n",
       "      <td>3-9</td>\n",
       "      <td>40.482011</td>\n",
       "      <td>-79.911280</td>\n",
       "    </tr>\n",
       "  </tbody>\n",
       "</table>\n",
       "</div>"
      ],
      "text/plain": [
       "           id                 name        type  retired  \\\n",
       "0   899591542                Ammon        Pool      NaN   \n",
       "3  1533382756           Bloomfield        Pool      NaN   \n",
       "4  1287441950   Burgwin Spray Park  Spray Park      NaN   \n",
       "5   168387727    Cowley Spray Park  Spray Park      NaN   \n",
       "7  1475037865  Highland - Children        Pool      NaN   \n",
       "\n",
       "                           water_source  capacity  \\\n",
       "0  Pittsburgh Water and Sewer Authority  538000.0   \n",
       "3  Pittsburgh Water and Sewer Authority  335000.0   \n",
       "4  Pittsburgh Water and Sewer Authority       NaN   \n",
       "5  Pittsburgh Water and Sewer Authority       NaN   \n",
       "7  Pittsburgh Water and Sewer Authority       NaN   \n",
       "\n",
       "                                               image       neighborhood  \\\n",
       "0  https://tools.wprdc.org/images/pittsburgh/pool...  Bedford Dwellings   \n",
       "3  https://tools.wprdc.org/images/pittsburgh/pool...         Bloomfield   \n",
       "4  https://tools.wprdc.org/images/pittsburgh/pool...          Hazelwood   \n",
       "5  https://tools.wprdc.org/images/pittsburgh/pool...          Troy Hill   \n",
       "7  https://tools.wprdc.org/images/pittsburgh/pool...      Highland Park   \n",
       "\n",
       "   council_district  ward        tract  public_works_division  pli_division  \\\n",
       "0                 6     5  42003050900                      3             5   \n",
       "3                 7     8  42003080200                      2             8   \n",
       "4                 5    15  42003562300                      3            15   \n",
       "5                 1    24  42003240600                      1            24   \n",
       "7                 7    11  42003980100                      2            11   \n",
       "\n",
       "   police_zone fire_zone   latitude  longitude  \n",
       "0            2       2-5  40.448720 -79.978325  \n",
       "3            5       3-1  40.461989 -79.953310  \n",
       "4            4      2-13  40.405065 -79.936896  \n",
       "5            1       1-2  40.458739 -79.988366  \n",
       "7            5       3-9  40.482011 -79.911280  "
      ]
     },
     "execution_count": 243,
     "metadata": {},
     "output_type": "execute_result"
    }
   ],
   "source": [
    "best_company = pitt_pools[\"water_source\"] == \"Pittsburgh Water and Sewer Authority\"\n",
    "best_water = pitt_pools[best_company]\n",
    "best_water.head()"
   ]
  },
  {
   "cell_type": "markdown",
   "metadata": {},
   "source": [
    "_____________________________________________________________________________________\n",
    "    ***************************************************************************"
   ]
  },
  {
   "cell_type": "markdown",
   "metadata": {},
   "source": [
    "Now lets make a list of the neighborhoods that met the criteria!"
   ]
  },
  {
   "cell_type": "markdown",
   "metadata": {},
   "source": [
    "     *********************************************************************************\n",
    "_________________________________________________________________________________________"
   ]
  },
  {
   "cell_type": "code",
   "execution_count": 244,
   "metadata": {},
   "outputs": [
    {
     "data": {
      "text/plain": [
       "Highland Park               2\n",
       "South Side Flats            1\n",
       "Greenfield                  1\n",
       "Brighton Heights            1\n",
       "Bedford Dwellings           1\n",
       "Mount Washington            1\n",
       "Squirrel Hill South         1\n",
       "Troy Hill                   1\n",
       "Beltzhoover                 1\n",
       "Perry North                 1\n",
       "Allegheny Center            1\n",
       "Shadyside                   1\n",
       "Bloomfield                  1\n",
       "Lincoln-Lemington-Belmar    1\n",
       "Homewood South              1\n",
       "Hazelwood                   1\n",
       "Polish Hill                 1\n",
       "Carrick                     1\n",
       "Name: neighborhood, dtype: int64"
      ]
     },
     "execution_count": 244,
     "metadata": {},
     "output_type": "execute_result"
    }
   ],
   "source": [
    "best_water[\"neighborhood\"].value_counts()"
   ]
  },
  {
   "cell_type": "markdown",
   "metadata": {},
   "source": [
    " _____________________________________________________________________________________\n",
    "    ***************************************************************************"
   ]
  },
  {
   "cell_type": "markdown",
   "metadata": {},
   "source": [
    "Now to make a visual detailing which neighborhood follows through."
   ]
  },
  {
   "cell_type": "markdown",
   "metadata": {},
   "source": [
    "     *********************************************************************************\n",
    "_________________________________________________________________________________________"
   ]
  },
  {
   "cell_type": "code",
   "execution_count": 245,
   "metadata": {},
   "outputs": [
    {
     "data": {
      "text/plain": [
       "<matplotlib.axes._subplots.AxesSubplot at 0x7fd71035a748>"
      ]
     },
     "execution_count": 245,
     "metadata": {},
     "output_type": "execute_result"
    },
    {
     "data": {
      "image/png": "[encoded data removed]",
      "text/plain": [
       "<Figure size 432x288 with 1 Axes>"
      ]
     },
     "metadata": {
      "needs_background": "light"
     },
     "output_type": "display_data"
    }
   ],
   "source": [
    "best_water[\"neighborhood\"].value_counts().head().plot(kind=\"bar\")"
   ]
  },
  {
   "cell_type": "markdown",
   "metadata": {},
   "source": [
    "As you can see South Slide Flats's two parks match the criteria, which is a good indication of \n",
    "both their consistancy and safety!"
   ]
  },
  {
   "cell_type": "markdown",
   "metadata": {},
   "source": [
    "_____________________________________________________________________________________\n",
    "    ***************************************************************************"
   ]
  },
  {
   "cell_type": "markdown",
   "metadata": {},
   "source": [
    "Now getting the arguably the most important part, space. A pool is only worth the title of king of pools if it has the space to back it up, keep in mind that the only ones being considered here are the ones that are type = pools, obvioulsy spray parks have the own point system that is worth simple because spray parks are objectively funner (also inclusive to those that don't know how to swim) and safer than pools :)"
   ]
  },
  {
   "cell_type": "markdown",
   "metadata": {},
   "source": [
    "     *********************************************************************************\n",
    "_________________________________________________________________________________________"
   ]
  },
  {
   "cell_type": "code",
   "execution_count": 246,
   "metadata": {},
   "outputs": [
    {
     "data": {
      "text/html": [
       "<div>\n",
       "<style scoped>\n",
       "    .dataframe tbody tr th:only-of-type {\n",
       "        vertical-align: middle;\n",
       "    }\n",
       "\n",
       "    .dataframe tbody tr th {\n",
       "        vertical-align: top;\n",
       "    }\n",
       "\n",
       "    .dataframe thead th {\n",
       "        text-align: right;\n",
       "    }\n",
       "</style>\n",
       "<table border=\"1\" class=\"dataframe\">\n",
       "  <thead>\n",
       "    <tr style=\"text-align: right;\">\n",
       "      <th></th>\n",
       "      <th>id</th>\n",
       "      <th>name</th>\n",
       "      <th>type</th>\n",
       "      <th>retired</th>\n",
       "      <th>water_source</th>\n",
       "      <th>capacity</th>\n",
       "      <th>image</th>\n",
       "      <th>neighborhood</th>\n",
       "      <th>council_district</th>\n",
       "      <th>ward</th>\n",
       "      <th>tract</th>\n",
       "      <th>public_works_division</th>\n",
       "      <th>pli_division</th>\n",
       "      <th>police_zone</th>\n",
       "      <th>fire_zone</th>\n",
       "      <th>latitude</th>\n",
       "      <th>longitude</th>\n",
       "    </tr>\n",
       "  </thead>\n",
       "  <tbody>\n",
       "    <tr>\n",
       "      <th>1</th>\n",
       "      <td>1003800828</td>\n",
       "      <td>Banksville</td>\n",
       "      <td>Pool</td>\n",
       "      <td>NaN</td>\n",
       "      <td>Pennsylvania American Water</td>\n",
       "      <td>166320.0</td>\n",
       "      <td>https://tools.wprdc.org/images/pittsburgh/pool...</td>\n",
       "      <td>Banksville</td>\n",
       "      <td>2</td>\n",
       "      <td>20</td>\n",
       "      <td>42003202300</td>\n",
       "      <td>5</td>\n",
       "      <td>20</td>\n",
       "      <td>6</td>\n",
       "      <td>4-9</td>\n",
       "      <td>40.414758</td>\n",
       "      <td>-80.040551</td>\n",
       "    </tr>\n",
       "    <tr>\n",
       "      <th>9</th>\n",
       "      <td>878134116</td>\n",
       "      <td>Homewood</td>\n",
       "      <td>Pool</td>\n",
       "      <td>NaN</td>\n",
       "      <td>Pittsburgh Water and Sewer Authority</td>\n",
       "      <td>171075.0</td>\n",
       "      <td>https://tools.wprdc.org/images/pittsburgh/pool...</td>\n",
       "      <td>Homewood South</td>\n",
       "      <td>9</td>\n",
       "      <td>13</td>\n",
       "      <td>42003130300</td>\n",
       "      <td>2</td>\n",
       "      <td>13</td>\n",
       "      <td>5</td>\n",
       "      <td>3-17</td>\n",
       "      <td>40.454310</td>\n",
       "      <td>-79.899891</td>\n",
       "    </tr>\n",
       "    <tr>\n",
       "      <th>10</th>\n",
       "      <td>2092220498</td>\n",
       "      <td>Jack Stack</td>\n",
       "      <td>Pool</td>\n",
       "      <td>NaN</td>\n",
       "      <td>Pittsburgh Water and Sewer Authority</td>\n",
       "      <td>205800.0</td>\n",
       "      <td>https://tools.wprdc.org/images/pittsburgh/pool...</td>\n",
       "      <td>Brighton Heights</td>\n",
       "      <td>1</td>\n",
       "      <td>27</td>\n",
       "      <td>42003270800</td>\n",
       "      <td>1</td>\n",
       "      <td>27</td>\n",
       "      <td>1</td>\n",
       "      <td>1-14</td>\n",
       "      <td>40.486884</td>\n",
       "      <td>-80.030632</td>\n",
       "    </tr>\n",
       "    <tr>\n",
       "      <th>11</th>\n",
       "      <td>778775283</td>\n",
       "      <td>Magee</td>\n",
       "      <td>Pool</td>\n",
       "      <td>NaN</td>\n",
       "      <td>Pittsburgh Water and Sewer Authority</td>\n",
       "      <td>195000.0</td>\n",
       "      <td>https://tools.wprdc.org/images/pittsburgh/pool...</td>\n",
       "      <td>Greenfield</td>\n",
       "      <td>5</td>\n",
       "      <td>15</td>\n",
       "      <td>42003151700</td>\n",
       "      <td>3</td>\n",
       "      <td>15</td>\n",
       "      <td>4</td>\n",
       "      <td>2-15</td>\n",
       "      <td>40.424814</td>\n",
       "      <td>-79.937006</td>\n",
       "    </tr>\n",
       "    <tr>\n",
       "      <th>12</th>\n",
       "      <td>23531050</td>\n",
       "      <td>McBride</td>\n",
       "      <td>Pool</td>\n",
       "      <td>NaN</td>\n",
       "      <td>Pennsylvania American Water</td>\n",
       "      <td>18000.0</td>\n",
       "      <td>https://tools.wprdc.org/images/pittsburgh/pool...</td>\n",
       "      <td>Lincoln Place</td>\n",
       "      <td>5</td>\n",
       "      <td>31</td>\n",
       "      <td>42003310200</td>\n",
       "      <td>3</td>\n",
       "      <td>31</td>\n",
       "      <td>4</td>\n",
       "      <td>4-20</td>\n",
       "      <td>40.370392</td>\n",
       "      <td>-79.907340</td>\n",
       "    </tr>\n",
       "  </tbody>\n",
       "</table>\n",
       "</div>"
      ],
      "text/plain": [
       "            id        name  type  retired  \\\n",
       "1   1003800828  Banksville  Pool      NaN   \n",
       "9    878134116    Homewood  Pool      NaN   \n",
       "10  2092220498  Jack Stack  Pool      NaN   \n",
       "11   778775283       Magee  Pool      NaN   \n",
       "12    23531050     McBride  Pool      NaN   \n",
       "\n",
       "                            water_source  capacity  \\\n",
       "1            Pennsylvania American Water  166320.0   \n",
       "9   Pittsburgh Water and Sewer Authority  171075.0   \n",
       "10  Pittsburgh Water and Sewer Authority  205800.0   \n",
       "11  Pittsburgh Water and Sewer Authority  195000.0   \n",
       "12           Pennsylvania American Water   18000.0   \n",
       "\n",
       "                                                image      neighborhood  \\\n",
       "1   https://tools.wprdc.org/images/pittsburgh/pool...        Banksville   \n",
       "9   https://tools.wprdc.org/images/pittsburgh/pool...    Homewood South   \n",
       "10  https://tools.wprdc.org/images/pittsburgh/pool...  Brighton Heights   \n",
       "11  https://tools.wprdc.org/images/pittsburgh/pool...        Greenfield   \n",
       "12  https://tools.wprdc.org/images/pittsburgh/pool...     Lincoln Place   \n",
       "\n",
       "    council_district  ward        tract  public_works_division  pli_division  \\\n",
       "1                  2    20  42003202300                      5            20   \n",
       "9                  9    13  42003130300                      2            13   \n",
       "10                 1    27  42003270800                      1            27   \n",
       "11                 5    15  42003151700                      3            15   \n",
       "12                 5    31  42003310200                      3            31   \n",
       "\n",
       "    police_zone fire_zone   latitude  longitude  \n",
       "1             6       4-9  40.414758 -80.040551  \n",
       "9             5      3-17  40.454310 -79.899891  \n",
       "10            1      1-14  40.486884 -80.030632  \n",
       "11            4      2-15  40.424814 -79.937006  \n",
       "12            4      4-20  40.370392 -79.907340  "
      ]
     },
     "execution_count": 246,
     "metadata": {},
     "output_type": "execute_result"
    }
   ],
   "source": [
    "spacious_pools = pitt_pools[\"capacity\"] <= 250000\n",
    "better_pools = pitt_pools[spacious_pools]\n",
    "better_pools.head()"
   ]
  },
  {
   "cell_type": "markdown",
   "metadata": {},
   "source": [
    "_____________________________________________________________________________________\n",
    "    ***************************************************************************"
   ]
  },
  {
   "cell_type": "markdown",
   "metadata": {},
   "source": [
    "Once again let us make a list with the data we have and let their true sea-through (pun intened) colors show!"
   ]
  },
  {
   "cell_type": "markdown",
   "metadata": {},
   "source": [
    "    *********************************************************************************\n",
    "_________________________________________________________________________________________"
   ]
  },
  {
   "cell_type": "code",
   "execution_count": 247,
   "metadata": {},
   "outputs": [
    {
     "data": {
      "text/plain": [
       "South Side Flats       2\n",
       "Perry North            1\n",
       "Greenfield             1\n",
       "Westwood               1\n",
       "Polish Hill            1\n",
       "Homewood South         1\n",
       "Brighton Heights       1\n",
       "Lincoln Place          1\n",
       "Squirrel Hill South    1\n",
       "Banksville             1\n",
       "Carrick                1\n",
       "Name: neighborhood, dtype: int64"
      ]
     },
     "execution_count": 247,
     "metadata": {},
     "output_type": "execute_result"
    }
   ],
   "source": [
    "better_pools[\"neighborhood\"].value_counts()"
   ]
  },
  {
   "cell_type": "markdown",
   "metadata": {},
   "source": [
    "_____________________________________________________________________________________\n",
    "    ***************************************************************************"
   ]
  },
  {
   "cell_type": "markdown",
   "metadata": {},
   "source": [
    "Looking Good!, Last but not least let us this fun inducing data in an easier format to digest!"
   ]
  },
  {
   "cell_type": "markdown",
   "metadata": {},
   "source": [
    "     *********************************************************************************\n",
    "_________________________________________________________________________________________"
   ]
  },
  {
   "cell_type": "code",
   "execution_count": 248,
   "metadata": {},
   "outputs": [
    {
     "data": {
      "text/plain": [
       "<matplotlib.axes._subplots.AxesSubplot at 0x7fd7103490f0>"
      ]
     },
     "execution_count": 248,
     "metadata": {},
     "output_type": "execute_result"
    },
    {
     "data": {
      "image/png": "[encoded data removed]",
      "text/plain": [
       "<Figure size 432x288 with 1 Axes>"
      ]
     },
     "metadata": {
      "needs_background": "light"
     },
     "output_type": "display_data"
    }
   ],
   "source": [
    "better_pools[\"neighborhood\"].value_counts().head().plot(kind=\"bar\")"
   ]
  },
  {
   "cell_type": "markdown",
   "metadata": {},
   "source": [
    "Now we'll filter out a dataframe of all the Spray Parks."
   ]
  },
  {
   "cell_type": "code",
   "execution_count": 249,
   "metadata": {},
   "outputs": [
    {
     "data": {
      "text/html": [
       "<div>\n",
       "<style scoped>\n",
       "    .dataframe tbody tr th:only-of-type {\n",
       "        vertical-align: middle;\n",
       "    }\n",
       "\n",
       "    .dataframe tbody tr th {\n",
       "        vertical-align: top;\n",
       "    }\n",
       "\n",
       "    .dataframe thead th {\n",
       "        text-align: right;\n",
       "    }\n",
       "</style>\n",
       "<table border=\"1\" class=\"dataframe\">\n",
       "  <thead>\n",
       "    <tr style=\"text-align: right;\">\n",
       "      <th></th>\n",
       "      <th>id</th>\n",
       "      <th>name</th>\n",
       "      <th>type</th>\n",
       "      <th>retired</th>\n",
       "      <th>water_source</th>\n",
       "      <th>capacity</th>\n",
       "      <th>image</th>\n",
       "      <th>neighborhood</th>\n",
       "      <th>council_district</th>\n",
       "      <th>ward</th>\n",
       "      <th>tract</th>\n",
       "      <th>public_works_division</th>\n",
       "      <th>pli_division</th>\n",
       "      <th>police_zone</th>\n",
       "      <th>fire_zone</th>\n",
       "      <th>latitude</th>\n",
       "      <th>longitude</th>\n",
       "    </tr>\n",
       "  </thead>\n",
       "  <tbody>\n",
       "    <tr>\n",
       "      <th>2</th>\n",
       "      <td>1688544652</td>\n",
       "      <td>Beechview Spray Park</td>\n",
       "      <td>Spray Park</td>\n",
       "      <td>NaN</td>\n",
       "      <td>Pennsylvania American Water</td>\n",
       "      <td>NaN</td>\n",
       "      <td>https://tools.wprdc.org/images/pittsburgh/pool...</td>\n",
       "      <td>Beechview</td>\n",
       "      <td>4</td>\n",
       "      <td>19</td>\n",
       "      <td>42003191600</td>\n",
       "      <td>5</td>\n",
       "      <td>19</td>\n",
       "      <td>6</td>\n",
       "      <td>4-28</td>\n",
       "      <td>40.414989</td>\n",
       "      <td>-80.019170</td>\n",
       "    </tr>\n",
       "    <tr>\n",
       "      <th>4</th>\n",
       "      <td>1287441950</td>\n",
       "      <td>Burgwin Spray Park</td>\n",
       "      <td>Spray Park</td>\n",
       "      <td>NaN</td>\n",
       "      <td>Pittsburgh Water and Sewer Authority</td>\n",
       "      <td>NaN</td>\n",
       "      <td>https://tools.wprdc.org/images/pittsburgh/pool...</td>\n",
       "      <td>Hazelwood</td>\n",
       "      <td>5</td>\n",
       "      <td>15</td>\n",
       "      <td>42003562300</td>\n",
       "      <td>3</td>\n",
       "      <td>15</td>\n",
       "      <td>4</td>\n",
       "      <td>2-13</td>\n",
       "      <td>40.405065</td>\n",
       "      <td>-79.936896</td>\n",
       "    </tr>\n",
       "    <tr>\n",
       "      <th>5</th>\n",
       "      <td>168387727</td>\n",
       "      <td>Cowley Spray Park</td>\n",
       "      <td>Spray Park</td>\n",
       "      <td>NaN</td>\n",
       "      <td>Pittsburgh Water and Sewer Authority</td>\n",
       "      <td>NaN</td>\n",
       "      <td>https://tools.wprdc.org/images/pittsburgh/pool...</td>\n",
       "      <td>Troy Hill</td>\n",
       "      <td>1</td>\n",
       "      <td>24</td>\n",
       "      <td>42003240600</td>\n",
       "      <td>1</td>\n",
       "      <td>24</td>\n",
       "      <td>1</td>\n",
       "      <td>1-2</td>\n",
       "      <td>40.458739</td>\n",
       "      <td>-79.988366</td>\n",
       "    </tr>\n",
       "    <tr>\n",
       "      <th>6</th>\n",
       "      <td>1569871328</td>\n",
       "      <td>East Hills Spray Park</td>\n",
       "      <td>Spray Park</td>\n",
       "      <td>NaN</td>\n",
       "      <td>Wilkinsburg Penn</td>\n",
       "      <td>NaN</td>\n",
       "      <td>https://tools.wprdc.org/images/pittsburgh/pool...</td>\n",
       "      <td>East Hills</td>\n",
       "      <td>9</td>\n",
       "      <td>13</td>\n",
       "      <td>42003130600</td>\n",
       "      <td>2</td>\n",
       "      <td>13</td>\n",
       "      <td>5</td>\n",
       "      <td>3-19</td>\n",
       "      <td>40.453091</td>\n",
       "      <td>-79.871036</td>\n",
       "    </tr>\n",
       "    <tr>\n",
       "      <th>13</th>\n",
       "      <td>1622961249</td>\n",
       "      <td>Mellon Spray Park</td>\n",
       "      <td>Spray Park</td>\n",
       "      <td>NaN</td>\n",
       "      <td>Pittsburgh Water and Sewer Authority</td>\n",
       "      <td>NaN</td>\n",
       "      <td>https://tools.wprdc.org/images/pittsburgh/pool...</td>\n",
       "      <td>Shadyside</td>\n",
       "      <td>8</td>\n",
       "      <td>7</td>\n",
       "      <td>42003070800</td>\n",
       "      <td>2</td>\n",
       "      <td>7</td>\n",
       "      <td>4</td>\n",
       "      <td>3-13</td>\n",
       "      <td>40.454020</td>\n",
       "      <td>-79.915647</td>\n",
       "    </tr>\n",
       "  </tbody>\n",
       "</table>\n",
       "</div>"
      ],
      "text/plain": [
       "            id                   name        type  retired  \\\n",
       "2   1688544652   Beechview Spray Park  Spray Park      NaN   \n",
       "4   1287441950     Burgwin Spray Park  Spray Park      NaN   \n",
       "5    168387727      Cowley Spray Park  Spray Park      NaN   \n",
       "6   1569871328  East Hills Spray Park  Spray Park      NaN   \n",
       "13  1622961249      Mellon Spray Park  Spray Park      NaN   \n",
       "\n",
       "                            water_source  capacity  \\\n",
       "2            Pennsylvania American Water       NaN   \n",
       "4   Pittsburgh Water and Sewer Authority       NaN   \n",
       "5   Pittsburgh Water and Sewer Authority       NaN   \n",
       "6                       Wilkinsburg Penn       NaN   \n",
       "13  Pittsburgh Water and Sewer Authority       NaN   \n",
       "\n",
       "                                                image neighborhood  \\\n",
       "2   https://tools.wprdc.org/images/pittsburgh/pool...    Beechview   \n",
       "4   https://tools.wprdc.org/images/pittsburgh/pool...    Hazelwood   \n",
       "5   https://tools.wprdc.org/images/pittsburgh/pool...    Troy Hill   \n",
       "6   https://tools.wprdc.org/images/pittsburgh/pool...   East Hills   \n",
       "13  https://tools.wprdc.org/images/pittsburgh/pool...    Shadyside   \n",
       "\n",
       "    council_district  ward        tract  public_works_division  pli_division  \\\n",
       "2                  4    19  42003191600                      5            19   \n",
       "4                  5    15  42003562300                      3            15   \n",
       "5                  1    24  42003240600                      1            24   \n",
       "6                  9    13  42003130600                      2            13   \n",
       "13                 8     7  42003070800                      2             7   \n",
       "\n",
       "    police_zone fire_zone   latitude  longitude  \n",
       "2             6      4-28  40.414989 -80.019170  \n",
       "4             4      2-13  40.405065 -79.936896  \n",
       "5             1       1-2  40.458739 -79.988366  \n",
       "6             5      3-19  40.453091 -79.871036  \n",
       "13            4      3-13  40.454020 -79.915647  "
      ]
     },
     "execution_count": 249,
     "metadata": {},
     "output_type": "execute_result"
    }
   ],
   "source": [
    "spray_park = pitt_pools[\"type\"] == \"Spray Park\"\n",
    "spray_parks = pitt_pools[spray_park]\n",
    "\n",
    "spray_parks.head()"
   ]
  },
  {
   "cell_type": "code",
   "execution_count": 250,
   "metadata": {},
   "outputs": [
    {
     "data": {
      "text/plain": [
       "East Hills                  1\n",
       "Beltzhoover                 1\n",
       "Beechview                   1\n",
       "Hazelwood                   1\n",
       "Lincoln-Lemington-Belmar    1\n",
       "South Side Slopes           1\n",
       "Troy Hill                   1\n",
       "Shadyside                   1\n",
       "Name: neighborhood, dtype: int64"
      ]
     },
     "execution_count": 250,
     "metadata": {},
     "output_type": "execute_result"
    }
   ],
   "source": [
    "spray_parks[\"neighborhood\"].value_counts()"
   ]
  },
  {
   "cell_type": "code",
   "execution_count": 251,
   "metadata": {},
   "outputs": [
    {
     "data": {
      "text/plain": [
       "<matplotlib.axes._subplots.AxesSubplot at 0x7fd7102a58d0>"
      ]
     },
     "execution_count": 251,
     "metadata": {},
     "output_type": "execute_result"
    },
    {
     "data": {
      "image/png": "[encoded data removed]",
      "text/plain": [
       "<Figure size 432x288 with 1 Axes>"
      ]
     },
     "metadata": {
      "needs_background": "light"
     },
     "output_type": "display_data"
    }
   ],
   "source": [
    "spray_parks[\"neighborhood\"].value_counts().head().plot(kind=\"bar\")"
   ]
  },
  {
   "cell_type": "markdown",
   "metadata": {},
   "source": [
    "Lastly, we'll filter out a dataframe of pools from the dataset."
   ]
  },
  {
   "cell_type": "code",
   "execution_count": 252,
   "metadata": {},
   "outputs": [
    {
     "data": {
      "text/html": [
       "<div>\n",
       "<style scoped>\n",
       "    .dataframe tbody tr th:only-of-type {\n",
       "        vertical-align: middle;\n",
       "    }\n",
       "\n",
       "    .dataframe tbody tr th {\n",
       "        vertical-align: top;\n",
       "    }\n",
       "\n",
       "    .dataframe thead th {\n",
       "        text-align: right;\n",
       "    }\n",
       "</style>\n",
       "<table border=\"1\" class=\"dataframe\">\n",
       "  <thead>\n",
       "    <tr style=\"text-align: right;\">\n",
       "      <th></th>\n",
       "      <th>id</th>\n",
       "      <th>name</th>\n",
       "      <th>type</th>\n",
       "      <th>retired</th>\n",
       "      <th>water_source</th>\n",
       "      <th>capacity</th>\n",
       "      <th>image</th>\n",
       "      <th>neighborhood</th>\n",
       "      <th>council_district</th>\n",
       "      <th>ward</th>\n",
       "      <th>tract</th>\n",
       "      <th>public_works_division</th>\n",
       "      <th>pli_division</th>\n",
       "      <th>police_zone</th>\n",
       "      <th>fire_zone</th>\n",
       "      <th>latitude</th>\n",
       "      <th>longitude</th>\n",
       "    </tr>\n",
       "  </thead>\n",
       "  <tbody>\n",
       "    <tr>\n",
       "      <th>0</th>\n",
       "      <td>899591542</td>\n",
       "      <td>Ammon</td>\n",
       "      <td>Pool</td>\n",
       "      <td>NaN</td>\n",
       "      <td>Pittsburgh Water and Sewer Authority</td>\n",
       "      <td>538000.0</td>\n",
       "      <td>https://tools.wprdc.org/images/pittsburgh/pool...</td>\n",
       "      <td>Bedford Dwellings</td>\n",
       "      <td>6</td>\n",
       "      <td>5</td>\n",
       "      <td>42003050900</td>\n",
       "      <td>3</td>\n",
       "      <td>5</td>\n",
       "      <td>2</td>\n",
       "      <td>2-5</td>\n",
       "      <td>40.448720</td>\n",
       "      <td>-79.978325</td>\n",
       "    </tr>\n",
       "    <tr>\n",
       "      <th>1</th>\n",
       "      <td>1003800828</td>\n",
       "      <td>Banksville</td>\n",
       "      <td>Pool</td>\n",
       "      <td>NaN</td>\n",
       "      <td>Pennsylvania American Water</td>\n",
       "      <td>166320.0</td>\n",
       "      <td>https://tools.wprdc.org/images/pittsburgh/pool...</td>\n",
       "      <td>Banksville</td>\n",
       "      <td>2</td>\n",
       "      <td>20</td>\n",
       "      <td>42003202300</td>\n",
       "      <td>5</td>\n",
       "      <td>20</td>\n",
       "      <td>6</td>\n",
       "      <td>4-9</td>\n",
       "      <td>40.414758</td>\n",
       "      <td>-80.040551</td>\n",
       "    </tr>\n",
       "    <tr>\n",
       "      <th>3</th>\n",
       "      <td>1533382756</td>\n",
       "      <td>Bloomfield</td>\n",
       "      <td>Pool</td>\n",
       "      <td>NaN</td>\n",
       "      <td>Pittsburgh Water and Sewer Authority</td>\n",
       "      <td>335000.0</td>\n",
       "      <td>https://tools.wprdc.org/images/pittsburgh/pool...</td>\n",
       "      <td>Bloomfield</td>\n",
       "      <td>7</td>\n",
       "      <td>8</td>\n",
       "      <td>42003080200</td>\n",
       "      <td>2</td>\n",
       "      <td>8</td>\n",
       "      <td>5</td>\n",
       "      <td>3-1</td>\n",
       "      <td>40.461989</td>\n",
       "      <td>-79.953310</td>\n",
       "    </tr>\n",
       "    <tr>\n",
       "      <th>7</th>\n",
       "      <td>1475037865</td>\n",
       "      <td>Highland - Children</td>\n",
       "      <td>Pool</td>\n",
       "      <td>NaN</td>\n",
       "      <td>Pittsburgh Water and Sewer Authority</td>\n",
       "      <td>NaN</td>\n",
       "      <td>https://tools.wprdc.org/images/pittsburgh/pool...</td>\n",
       "      <td>Highland Park</td>\n",
       "      <td>7</td>\n",
       "      <td>11</td>\n",
       "      <td>42003980100</td>\n",
       "      <td>2</td>\n",
       "      <td>11</td>\n",
       "      <td>5</td>\n",
       "      <td>3-9</td>\n",
       "      <td>40.482011</td>\n",
       "      <td>-79.911280</td>\n",
       "    </tr>\n",
       "    <tr>\n",
       "      <th>8</th>\n",
       "      <td>5446687</td>\n",
       "      <td>Highland - Main</td>\n",
       "      <td>Pool</td>\n",
       "      <td>NaN</td>\n",
       "      <td>Pittsburgh Water and Sewer Authority</td>\n",
       "      <td>560242.0</td>\n",
       "      <td>https://tools.wprdc.org/images/pittsburgh/pool...</td>\n",
       "      <td>Highland Park</td>\n",
       "      <td>7</td>\n",
       "      <td>11</td>\n",
       "      <td>42003980100</td>\n",
       "      <td>2</td>\n",
       "      <td>11</td>\n",
       "      <td>5</td>\n",
       "      <td>3-9</td>\n",
       "      <td>40.482170</td>\n",
       "      <td>-79.910927</td>\n",
       "    </tr>\n",
       "  </tbody>\n",
       "</table>\n",
       "</div>"
      ],
      "text/plain": [
       "           id                 name  type  retired  \\\n",
       "0   899591542                Ammon  Pool      NaN   \n",
       "1  1003800828           Banksville  Pool      NaN   \n",
       "3  1533382756           Bloomfield  Pool      NaN   \n",
       "7  1475037865  Highland - Children  Pool      NaN   \n",
       "8     5446687      Highland - Main  Pool      NaN   \n",
       "\n",
       "                           water_source  capacity  \\\n",
       "0  Pittsburgh Water and Sewer Authority  538000.0   \n",
       "1           Pennsylvania American Water  166320.0   \n",
       "3  Pittsburgh Water and Sewer Authority  335000.0   \n",
       "7  Pittsburgh Water and Sewer Authority       NaN   \n",
       "8  Pittsburgh Water and Sewer Authority  560242.0   \n",
       "\n",
       "                                               image       neighborhood  \\\n",
       "0  https://tools.wprdc.org/images/pittsburgh/pool...  Bedford Dwellings   \n",
       "1  https://tools.wprdc.org/images/pittsburgh/pool...         Banksville   \n",
       "3  https://tools.wprdc.org/images/pittsburgh/pool...         Bloomfield   \n",
       "7  https://tools.wprdc.org/images/pittsburgh/pool...      Highland Park   \n",
       "8  https://tools.wprdc.org/images/pittsburgh/pool...      Highland Park   \n",
       "\n",
       "   council_district  ward        tract  public_works_division  pli_division  \\\n",
       "0                 6     5  42003050900                      3             5   \n",
       "1                 2    20  42003202300                      5            20   \n",
       "3                 7     8  42003080200                      2             8   \n",
       "7                 7    11  42003980100                      2            11   \n",
       "8                 7    11  42003980100                      2            11   \n",
       "\n",
       "   police_zone fire_zone   latitude  longitude  \n",
       "0            2       2-5  40.448720 -79.978325  \n",
       "1            6       4-9  40.414758 -80.040551  \n",
       "3            5       3-1  40.461989 -79.953310  \n",
       "7            5       3-9  40.482011 -79.911280  \n",
       "8            5       3-9  40.482170 -79.910927  "
      ]
     },
     "execution_count": 252,
     "metadata": {},
     "output_type": "execute_result"
    }
   ],
   "source": [
    "pool = pitt_pools[\"type\"] == \"Pool\"\n",
    "pools = pitt_pools[pool]\n",
    "\n",
    "pools.head()"
   ]
  },
  {
   "cell_type": "code",
   "execution_count": 253,
   "metadata": {},
   "outputs": [
    {
     "data": {
      "text/plain": [
       "South Side Flats       2\n",
       "Highland Park          2\n",
       "Brighton Heights       1\n",
       "Bedford Dwellings      1\n",
       "Bloomfield             1\n",
       "Allegheny Center       1\n",
       "Lincoln Place          1\n",
       "Sheraden               1\n",
       "Greenfield             1\n",
       "Perry North            1\n",
       "Brookline              1\n",
       "Westwood               1\n",
       "Banksville             1\n",
       "Homewood South         1\n",
       "Squirrel Hill South    1\n",
       "Mount Washington       1\n",
       "Polish Hill            1\n",
       "Carrick                1\n",
       "Name: neighborhood, dtype: int64"
      ]
     },
     "execution_count": 253,
     "metadata": {},
     "output_type": "execute_result"
    }
   ],
   "source": [
    "pools[\"neighborhood\"].value_counts()"
   ]
  },
  {
   "cell_type": "code",
   "execution_count": 254,
   "metadata": {},
   "outputs": [
    {
     "data": {
      "text/plain": [
       "<matplotlib.axes._subplots.AxesSubplot at 0x7fd71028bc88>"
      ]
     },
     "execution_count": 254,
     "metadata": {},
     "output_type": "execute_result"
    },
    {
     "data": {
      "image/png": "[encoded data removed]",
      "text/plain": [
       "<Figure size 432x288 with 1 Axes>"
      ]
     },
     "metadata": {
      "needs_background": "light"
     },
     "output_type": "display_data"
    }
   ],
   "source": [
    "pools[\"neighborhood\"].value_counts().head().plot(kind=\"bar\")"
   ]
  },
  {
   "cell_type": "markdown",
   "metadata": {},
   "source": [
    "And there you have it folks!"
   ]
  },
  {
   "cell_type": "markdown",
   "metadata": {},
   "source": [
    "## Evaluation\n",
    "\n",
    "Now that we have everything that we will be evaluating we can start creating our metric and find out for sure which neighborhood is the best!\n",
    "\n",
    "First, lets head back to the **playing field** data sets:\n",
    "\n",
    "For this we want to give the each neighborhood a point per playing field in general, but award and extra 0.25 points if they have lights and an extra 0.5 points if they have both a rectangular and diamond field. This gives us the equation:\n",
    "\n",
    "`P + (0.25)L + (0.5)B = F` \n",
    "\n",
    "Where `P` is the total number of fields, `L` is the number of fields with lights, `B` is the number of fields with both rectangular and diamond, and `F` is our final field value."
   ]
  },
  {
   "cell_type": "markdown",
   "metadata": {},
   "source": [
    "First we'll create a dataframe with the neighborhood playing field count."
   ]
  },
  {
   "cell_type": "code",
   "execution_count": 255,
   "metadata": {},
   "outputs": [
    {
     "name": "stdout",
     "output_type": "stream",
     "text": [
      "Brighton Heights            7\n",
      "South Side Slopes           6\n",
      "Brookline                   6\n",
      "Squirrel Hill South         5\n",
      "Carrick                     5\n",
      "Hazelwood                   4\n",
      "Lower Lawrenceville         4\n",
      "Highland Park               4\n",
      "Mount Washington            3\n",
      "Beechview                   3\n",
      "Sheraden                    3\n",
      "Troy Hill                   3\n",
      "Beltzhoover                 3\n",
      "Shadyside                   3\n",
      "Morningside                 3\n",
      "Crafton Heights             2\n",
      "Banksville                  2\n",
      "Spring Hill-City View       2\n",
      "Lincoln-Lemington-Belmar    2\n",
      "Manchester                  2\n",
      "South Oakland               2\n",
      "Elliott                     2\n",
      "Greenfield                  2\n",
      "Central Lawrenceville       2\n",
      "South Side Flats            2\n",
      "Regent Square               2\n",
      "Bedford Dwellings           2\n",
      "Perry North                 2\n",
      "Allegheny Center            2\n",
      "Westwood                    2\n",
      "East Liberty                1\n",
      "Polish Hill                 1\n",
      "Homewood South              1\n",
      "Oakwood                     1\n",
      "Perry South                 1\n",
      "East Hills                  1\n",
      "West End                    1\n",
      "Terrace Village             1\n",
      "Squirrel Hill North         1\n",
      "Lincoln Place               1\n",
      "Fineview                    1\n",
      "Central Oakland             1\n",
      "Spring Garden               1\n",
      "Marshall-Shadeland          1\n",
      "Upper Lawrenceville         1\n",
      "Garfield                    1\n",
      "Windgap                     1\n",
      "Allentown                   1\n",
      "Arlington                   1\n",
      "Stanton Heights             1\n",
      "Larimer                     1\n",
      "Name: neighborhood, dtype: int64\n"
     ]
    }
   ],
   "source": [
    "df1 = playing_fields[\"neighborhood\"].value_counts()\n",
    "print(df1)"
   ]
  },
  {
   "cell_type": "markdown",
   "metadata": {},
   "source": [
    "Next we'll apply our coefficient to the `fields_with_lights` dataframe."
   ]
  },
  {
   "cell_type": "code",
   "execution_count": 256,
   "metadata": {},
   "outputs": [
    {
     "name": "stdout",
     "output_type": "stream",
     "text": [
      "South Side Slopes           1.00\n",
      "Carrick                     0.75\n",
      "Morningside                 0.75\n",
      "Brookline                   0.75\n",
      "Troy Hill                   0.75\n",
      "Mount Washington            0.75\n",
      "Greenfield                  0.50\n",
      "Crafton Heights             0.50\n",
      "Squirrel Hill South         0.50\n",
      "Lower Lawrenceville         0.50\n",
      "Bedford Dwellings           0.50\n",
      "Elliott                     0.50\n",
      "Westwood                    0.50\n",
      "Central Lawrenceville       0.50\n",
      "Beechview                   0.50\n",
      "Manchester                  0.25\n",
      "Homewood South              0.25\n",
      "Perry South                 0.25\n",
      "Sheraden                    0.25\n",
      "Shadyside                   0.25\n",
      "Perry North                 0.25\n",
      "Beltzhoover                 0.25\n",
      "Terrace Village             0.25\n",
      "Fineview                    0.25\n",
      "Banksville                  0.25\n",
      "Spring Hill-City View       0.25\n",
      "Hazelwood                   0.25\n",
      "South Oakland               0.25\n",
      "Windgap                     0.25\n",
      "Garfield                    0.25\n",
      "Lincoln-Lemington-Belmar    0.25\n",
      "Polish Hill                 0.25\n",
      "Name: neighborhood, dtype: float64\n"
     ]
    }
   ],
   "source": [
    "df2 = fields_with_lights[\"neighborhood\"].value_counts()\n",
    "df2 = df2.multiply(0.25)\n",
    "print(df2)"
   ]
  },
  {
   "cell_type": "markdown",
   "metadata": {},
   "source": [
    "And again for multipurpose fields."
   ]
  },
  {
   "cell_type": "code",
   "execution_count": 257,
   "metadata": {},
   "outputs": [
    {
     "name": "stdout",
     "output_type": "stream",
     "text": [
      "Morningside              1.5\n",
      "Highland Park            1.0\n",
      "Westwood                 1.0\n",
      "Brookline                1.0\n",
      "Central Lawrenceville    1.0\n",
      "South Side Flats         0.5\n",
      "Polish Hill              0.5\n",
      "Lower Lawrenceville      0.5\n",
      "Terrace Village          0.5\n",
      "West End                 0.5\n",
      "Elliott                  0.5\n",
      "Sheraden                 0.5\n",
      "Homewood South           0.5\n",
      "Allegheny Center         0.5\n",
      "Beltzhoover              0.5\n",
      "Name: neighborhood, dtype: float64\n"
     ]
    }
   ],
   "source": [
    "df3 = multi_purpose[\"neighborhood\"].value_counts()\n",
    "df3 = df3.multiply(0.5)\n",
    "print(df3)"
   ]
  },
  {
   "cell_type": "markdown",
   "metadata": {},
   "source": [
    "Finally we just add to together our three factors into a final dataframe and plot it."
   ]
  },
  {
   "cell_type": "code",
   "execution_count": 258,
   "metadata": {},
   "outputs": [
    {
     "name": "stdout",
     "output_type": "stream",
     "text": [
      "Brookline                   7.75\n",
      "South Side Slopes           7.00\n",
      "Brighton Heights            7.00\n",
      "Carrick                     5.75\n",
      "Squirrel Hill South         5.50\n",
      "Morningside                 5.25\n",
      "Highland Park               5.00\n",
      "Lower Lawrenceville         5.00\n",
      "Hazelwood                   4.25\n",
      "Beltzhoover                 3.75\n",
      "Troy Hill                   3.75\n",
      "Mount Washington            3.75\n",
      "Sheraden                    3.75\n",
      "Beechview                   3.50\n",
      "Westwood                    3.50\n",
      "Central Lawrenceville       3.50\n",
      "Shadyside                   3.25\n",
      "Elliott                     3.00\n",
      "Crafton Heights             2.50\n",
      "Greenfield                  2.50\n",
      "Bedford Dwellings           2.50\n",
      "Allegheny Center            2.50\n",
      "South Side Flats            2.50\n",
      "Spring Hill-City View       2.25\n",
      "South Oakland               2.25\n",
      "Manchester                  2.25\n",
      "Perry North                 2.25\n",
      "Lincoln-Lemington-Belmar    2.25\n",
      "Banksville                  2.25\n",
      "Regent Square               2.00\n",
      "Polish Hill                 1.75\n",
      "Homewood South              1.75\n",
      "Terrace Village             1.75\n",
      "West End                    1.50\n",
      "Perry South                 1.25\n",
      "Garfield                    1.25\n",
      "Fineview                    1.25\n",
      "Windgap                     1.25\n",
      "Stanton Heights             1.00\n",
      "Arlington                   1.00\n",
      "Allentown                   1.00\n",
      "Upper Lawrenceville         1.00\n",
      "Oakwood                     1.00\n",
      "Squirrel Hill North         1.00\n",
      "Spring Garden               1.00\n",
      "Central Oakland             1.00\n",
      "East Hills                  1.00\n",
      "Marshall-Shadeland          1.00\n",
      "Larimer                     1.00\n",
      "Lincoln Place               1.00\n",
      "East Liberty                1.00\n",
      "Name: neighborhood, dtype: float64\n"
     ]
    }
   ],
   "source": [
    "fields_final = df1.add(df2, fill_value=0).add(df3, fill_value=0)\n",
    "fields_final = fields_final.sort_values(ascending=False)\n",
    "print(fields_final)"
   ]
  },
  {
   "cell_type": "code",
   "execution_count": 259,
   "metadata": {},
   "outputs": [
    {
     "data": {
      "text/plain": [
       "<matplotlib.axes._subplots.AxesSubplot at 0x7fd7101f4668>"
      ]
     },
     "execution_count": 259,
     "metadata": {},
     "output_type": "execute_result"
    },
    {
     "data": {
      "image/png": "[encoded data removed]",
      "text/plain": [
       "<Figure size 432x288 with 1 Axes>"
      ]
     },
     "metadata": {
      "needs_background": "light"
     },
     "output_type": "display_data"
    }
   ],
   "source": [
    "fields_final.head(10).plot(kind=\"bar\")"
   ]
  },
  {
   "cell_type": "markdown",
   "metadata": {},
   "source": [
    "So after evaluating playing fields we find Brookline on top surprisingly after not being first in any of the three factors, followed closely by South Side Slopes and Brighton Heights which are tied in second.\n",
    "\n",
    "Now we'll do the same for `Playgrounds` and lastly `Pools`."
   ]
  },
  {
   "cell_type": "markdown",
   "metadata": {},
   "source": [
    "Looking at `Playgrounds`:\n",
    "\n",
    "We want to base the scoring off of the number of playground equipment in each neighborhood, while awarding an extra half point per ADA accessible equipment. This gives us the equations of:\n",
    "\n",
    "`E + (0.5)A`\n",
    "\n",
    "Where `E` is Playground Equipment and `A` is ADA accessible equipment. However, the `Playground Equipment` dataset had one last neighborhood than the `Playground` dataset, so we would like to account for that with this equation:\n",
    "\n",
    "`P + (E-P) + (0.25)A`\n",
    "\n",
    "Where `P` is total playgrounds. `(E-P)` will allow us to account for that neighborhood only present in `Playgrounds` while not double counting for the other neighborhoods, we do this by setting `fill_value = 1` when we subtract for the final playground scores. Now we'll just do the same as before, creating dataframes and applying the arithmetic of our equation."
   ]
  },
  {
   "cell_type": "markdown",
   "metadata": {},
   "source": [
    "Playgrounds:"
   ]
  },
  {
   "cell_type": "code",
   "execution_count": 260,
   "metadata": {},
   "outputs": [
    {
     "name": "stdout",
     "output_type": "stream",
     "text": [
      "Squirrel Hill South         8\n",
      "South Side Slopes           5\n",
      "Beechview                   5\n",
      "Sheraden                    4\n",
      "Highland Park               4\n",
      "Allegheny Center            4\n",
      "Mount Washington            3\n",
      "Hazelwood                   3\n",
      "South Oakland               3\n",
      "Elliott                     3\n",
      "Beltzhoover                 3\n",
      "Crawford-Roberts            3\n",
      "Carrick                     3\n",
      "Garfield                    2\n",
      "Manchester                  2\n",
      "Central Northside           2\n",
      "Bloomfield                  2\n",
      "East Liberty                2\n",
      "Lincoln Place               2\n",
      "Marshall-Shadeland          2\n",
      "Lincoln-Lemington-Belmar    2\n",
      "Troy Hill                   2\n",
      "Brighton Heights            2\n",
      "Crafton Heights             2\n",
      "Greenfield                  2\n",
      "Upper Lawrenceville         2\n",
      "South Side Flats            2\n",
      "Morningside                 2\n",
      "Brookline                   2\n",
      "Terrace Village             1\n",
      "                           ..\n",
      "Perry North                 1\n",
      "Esplen                      1\n",
      "Bluff                       1\n",
      "Spring Hill-City View       1\n",
      "New Homestead               1\n",
      "Perry South                 1\n",
      "Fairywood                   1\n",
      "Upper Hill                  1\n",
      "Squirrel Hill North         1\n",
      "Allentown                   1\n",
      "West Oakland                1\n",
      "Polish Hill                 1\n",
      "Spring Garden               1\n",
      "Swisshelm Park              1\n",
      "Middle Hill                 1\n",
      "Bedford Dwellings           1\n",
      "Strip District              1\n",
      "Larimer                     1\n",
      "Regent Square               1\n",
      "Homewood West               1\n",
      "Stanton Heights             1\n",
      "Hays                        1\n",
      "Fineview                    1\n",
      "Westwood                    1\n",
      "Lower Lawrenceville         1\n",
      "Homewood North              1\n",
      "Banksville                  1\n",
      "Point Breeze North          1\n",
      "Shadyside                   1\n",
      "Bon Air                     1\n",
      "Name: neighborhood, Length: 67, dtype: int64\n"
     ]
    }
   ],
   "source": [
    "df1 = playgrounds[\"neighborhood\"].value_counts()\n",
    "print(df1)"
   ]
  },
  {
   "cell_type": "markdown",
   "metadata": {},
   "source": [
    "Playground Equipment:"
   ]
  },
  {
   "cell_type": "code",
   "execution_count": 276,
   "metadata": {},
   "outputs": [
    {
     "name": "stdout",
     "output_type": "stream",
     "text": [
      "Squirrel Hill South         32\n",
      "Beechview                   21\n",
      "Allegheny Center            15\n",
      "South Side Slopes           14\n",
      "Sheraden                    13\n",
      "Hazelwood                   13\n",
      "Mount Washington            10\n",
      "Highland Park               10\n",
      "Regent Square                9\n",
      "Garfield                     9\n",
      "Lincoln Place                9\n",
      "East Liberty                 8\n",
      "Fineview                     8\n",
      "Brighton Heights             8\n",
      "Carrick                      7\n",
      "Brookline                    7\n",
      "Beltzhoover                  7\n",
      "Bloomfield                   7\n",
      "Greenfield                   7\n",
      "Manchester                   7\n",
      "Elliott                      7\n",
      "Troy Hill                    7\n",
      "South Oakland                7\n",
      "Lincoln-Lemington-Belmar     6\n",
      "Banksville                   6\n",
      "Swisshelm Park               6\n",
      "Perry North                  6\n",
      "Crawford-Roberts             6\n",
      "Crafton Heights              5\n",
      "Marshall-Shadeland           5\n",
      "                            ..\n",
      "Oakwood                      4\n",
      "Homewood West                4\n",
      "Terrace Village              4\n",
      "Duquesne Heights             4\n",
      "Polish Hill                  4\n",
      "Central Northside            4\n",
      "Allentown                    4\n",
      "Fairywood                    4\n",
      "Upper Lawrenceville          4\n",
      "West End                     3\n",
      "Perry South                  3\n",
      "Spring Hill-City View        3\n",
      "Bon Air                      3\n",
      "Point Breeze North           3\n",
      "Hays                         3\n",
      "Central Lawrenceville        3\n",
      "Homewood North               3\n",
      "Stanton Heights              3\n",
      "Larimer                      3\n",
      "Bedford Dwellings            3\n",
      "Spring Garden                3\n",
      "Middle Hill                  3\n",
      "Lower Lawrenceville          2\n",
      "Esplen                       2\n",
      "Central Oakland              2\n",
      "Bluff                        2\n",
      "Westwood                     2\n",
      "East Carnegie                2\n",
      "Strip District               1\n",
      "West Oakland                 1\n",
      "Name: neighborhood, Length: 66, dtype: int64\n"
     ]
    }
   ],
   "source": [
    "df2 = playground_equipment[\"neighborhood\"].value_counts()\n",
    "print(df2)"
   ]
  },
  {
   "cell_type": "markdown",
   "metadata": {},
   "source": [
    "ADA Accessible:"
   ]
  },
  {
   "cell_type": "code",
   "execution_count": 262,
   "metadata": {},
   "outputs": [
    {
     "name": "stdout",
     "output_type": "stream",
     "text": [
      "Squirrel Hill South         3.5\n",
      "South Side Slopes           2.0\n",
      "Beechview                   2.0\n",
      "Mount Washington            1.5\n",
      "Sheraden                    1.5\n",
      "Elliott                     1.5\n",
      "Highland Park               1.5\n",
      "Brighton Heights            1.0\n",
      "Fineview                    1.0\n",
      "Lincoln-Lemington-Belmar    1.0\n",
      "South Side Flats            1.0\n",
      "Carrick                     1.0\n",
      "Hazelwood                   1.0\n",
      "Beltzhoover                 1.0\n",
      "Greenfield                  1.0\n",
      "Bloomfield                  1.0\n",
      "Manchester                  1.0\n",
      "Morningside                 1.0\n",
      "East Liberty                1.0\n",
      "Crawford-Roberts            1.0\n",
      "Duquesne Heights            0.5\n",
      "Homewood West               0.5\n",
      "Windgap                     0.5\n",
      "Marshall-Shadeland          0.5\n",
      "South Oakland               0.5\n",
      "Central Lawrenceville       0.5\n",
      "Spring Hill-City View       0.5\n",
      "West End                    0.5\n",
      "Upper Hill                  0.5\n",
      "Lincoln Place               0.5\n",
      "Perry South                 0.5\n",
      "New Homestead               0.5\n",
      "Point Breeze North          0.5\n",
      "Terrace Village             0.5\n",
      "Stanton Heights             0.5\n",
      "Shadyside                   0.5\n",
      "Upper Lawrenceville         0.5\n",
      "Banksville                  0.5\n",
      "Homewood North              0.5\n",
      "Garfield                    0.5\n",
      "Troy Hill                   0.5\n",
      "Allentown                   0.5\n",
      "Oakwood                     0.5\n",
      "Allegheny Center            0.5\n",
      "Polish Hill                 0.5\n",
      "Regent Square               0.5\n",
      "Spring Garden               0.5\n",
      "Perry North                 0.5\n",
      "Swisshelm Park              0.5\n",
      "Bedford Dwellings           0.5\n",
      "Bluff                       0.5\n",
      "Fairywood                   0.5\n",
      "Crafton Heights             0.5\n",
      "Middle Hill                 0.5\n",
      "East Carnegie               0.5\n",
      "Lower Lawrenceville         0.5\n",
      "Bon Air                     0.5\n",
      "Name: neighborhood, dtype: float64\n"
     ]
    }
   ],
   "source": [
    "df3 = accessible_playgrounds[\"neighborhood\"].value_counts()\n",
    "df3 = df3.multiply(0.5)\n",
    "print(df3)"
   ]
  },
  {
   "cell_type": "code",
   "execution_count": 263,
   "metadata": {},
   "outputs": [
    {
     "name": "stdout",
     "output_type": "stream",
     "text": [
      "Squirrel Hill South         35.5\n",
      "Beechview                   23.0\n",
      "South Side Slopes           16.0\n",
      "Allegheny Center            15.5\n",
      "Sheraden                    14.5\n",
      "Hazelwood                   14.0\n",
      "Highland Park               11.5\n",
      "Mount Washington            11.5\n",
      "Garfield                     9.5\n",
      "Lincoln Place                9.5\n",
      "Regent Square                9.5\n",
      "Brighton Heights             9.0\n",
      "East Liberty                 9.0\n",
      "Fineview                     9.0\n",
      "Elliott                      8.5\n",
      "Greenfield                   8.0\n",
      "Carrick                      8.0\n",
      "Bloomfield                   8.0\n",
      "Beltzhoover                  8.0\n",
      "Manchester                   8.0\n",
      "South Oakland                7.5\n",
      "Troy Hill                    7.5\n",
      "Crawford-Roberts             7.0\n",
      "Brookline                    7.0\n",
      "Lincoln-Lemington-Belmar     7.0\n",
      "Perry North                  6.5\n",
      "Banksville                   6.5\n",
      "Swisshelm Park               6.5\n",
      "South Side Flats             6.0\n",
      "Morningside                  6.0\n",
      "                            ... \n",
      "Upper Lawrenceville          4.5\n",
      "Terrace Village              4.5\n",
      "Duquesne Heights             4.5\n",
      "Fairywood                    4.5\n",
      "Oakwood                      4.5\n",
      "Polish Hill                  4.5\n",
      "Homewood West                4.5\n",
      "Central Northside            4.0\n",
      "Spring Garden                3.5\n",
      "Middle Hill                  3.5\n",
      "Perry South                  3.5\n",
      "Bedford Dwellings            3.5\n",
      "West End                     3.5\n",
      "Bon Air                      3.5\n",
      "Point Breeze North           3.5\n",
      "Spring Hill-City View        3.5\n",
      "Central Lawrenceville        3.5\n",
      "Homewood North               3.5\n",
      "Stanton Heights              3.5\n",
      "Larimer                      3.0\n",
      "Hays                         3.0\n",
      "Bluff                        2.5\n",
      "Lower Lawrenceville          2.5\n",
      "East Carnegie                2.5\n",
      "Central Oakland              2.0\n",
      "Westwood                     2.0\n",
      "Esplen                       2.0\n",
      "Strip District               1.0\n",
      "West Oakland                 1.0\n",
      "Squirrel Hill North          1.0\n",
      "Name: neighborhood, Length: 67, dtype: float64\n"
     ]
    }
   ],
   "source": [
    "playgrounds_final = df2.subtract(df1, fill_value=1).add(df1, fill_value=0).add(df3, fill_value=0)\n",
    "playgrounds_final = playgrounds_final.sort_values(ascending=False)\n",
    "print(playgrounds_final)"
   ]
  },
  {
   "cell_type": "code",
   "execution_count": 264,
   "metadata": {},
   "outputs": [
    {
     "data": {
      "text/plain": [
       "<matplotlib.axes._subplots.AxesSubplot at 0x7fd710168cc0>"
      ]
     },
     "execution_count": 264,
     "metadata": {},
     "output_type": "execute_result"
    },
    {
     "data": {
      "image/png": "[encoded data removed]",
      "text/plain": [
       "<Figure size 432x288 with 1 Axes>"
      ]
     },
     "metadata": {
      "needs_background": "light"
     },
     "output_type": "display_data"
    }
   ],
   "source": [
    "playgrounds_final.head(10).plot(kind=\"bar\")"
   ]
  },
  {
   "cell_type": "markdown",
   "metadata": {},
   "source": [
    "Unlike **playing fields**, the is no sign of Brookeline in the top ten of **playgrounds*. Instead we see a strong showing from Squirrel Hill South and a pretty commanding second from Beechview.\n",
    "\n",
    "Finally lets evaluate `Pools`:\n",
    "\n",
    "We decided upon awarding every Spray Park 3 points, every pool 1 point with an added 2 points if it has a large capacity, and awarding an extra point to those whose water souce is of the best quality. Leaving us with the equation:\n",
    "\n",
    "`(3)S + P + (2)C + W`\n",
    "\n",
    "Where `S` is Spray Parks, `P` is pools, `C` is high capacity pools, and `W` is high quality water sources. Finally, we'll do the same as before."
   ]
  },
  {
   "cell_type": "markdown",
   "metadata": {},
   "source": [
    "Spray Parks:"
   ]
  },
  {
   "cell_type": "code",
   "execution_count": 265,
   "metadata": {},
   "outputs": [
    {
     "name": "stdout",
     "output_type": "stream",
     "text": [
      "East Hills                  3\n",
      "Beltzhoover                 3\n",
      "Beechview                   3\n",
      "Hazelwood                   3\n",
      "Lincoln-Lemington-Belmar    3\n",
      "South Side Slopes           3\n",
      "Troy Hill                   3\n",
      "Shadyside                   3\n",
      "Name: neighborhood, dtype: int64\n"
     ]
    }
   ],
   "source": [
    "df1 = spray_parks[\"neighborhood\"].value_counts()\n",
    "df1 = df1.multiply(3)\n",
    "print(df1)"
   ]
  },
  {
   "cell_type": "markdown",
   "metadata": {},
   "source": [
    "Pools:"
   ]
  },
  {
   "cell_type": "code",
   "execution_count": 266,
   "metadata": {},
   "outputs": [
    {
     "name": "stdout",
     "output_type": "stream",
     "text": [
      "South Side Flats       2\n",
      "Highland Park          2\n",
      "Brighton Heights       1\n",
      "Bedford Dwellings      1\n",
      "Bloomfield             1\n",
      "Allegheny Center       1\n",
      "Lincoln Place          1\n",
      "Sheraden               1\n",
      "Greenfield             1\n",
      "Perry North            1\n",
      "Brookline              1\n",
      "Westwood               1\n",
      "Banksville             1\n",
      "Homewood South         1\n",
      "Squirrel Hill South    1\n",
      "Mount Washington       1\n",
      "Polish Hill            1\n",
      "Carrick                1\n",
      "Name: neighborhood, dtype: int64\n"
     ]
    }
   ],
   "source": [
    "df2 = pools[\"neighborhood\"].value_counts()\n",
    "print(df2)"
   ]
  },
  {
   "cell_type": "markdown",
   "metadata": {},
   "source": [
    "High Capacity Pools:"
   ]
  },
  {
   "cell_type": "code",
   "execution_count": 267,
   "metadata": {},
   "outputs": [
    {
     "name": "stdout",
     "output_type": "stream",
     "text": [
      "South Side Flats       4\n",
      "Perry North            2\n",
      "Greenfield             2\n",
      "Westwood               2\n",
      "Polish Hill            2\n",
      "Homewood South         2\n",
      "Brighton Heights       2\n",
      "Lincoln Place          2\n",
      "Squirrel Hill South    2\n",
      "Banksville             2\n",
      "Carrick                2\n",
      "Name: neighborhood, dtype: int64\n"
     ]
    }
   ],
   "source": [
    "df3 = better_pools[\"neighborhood\"].value_counts()\n",
    "df3 = df3.multiply(2)\n",
    "print(df3)"
   ]
  },
  {
   "cell_type": "markdown",
   "metadata": {},
   "source": [
    "High Water Quality:"
   ]
  },
  {
   "cell_type": "code",
   "execution_count": 268,
   "metadata": {},
   "outputs": [
    {
     "name": "stdout",
     "output_type": "stream",
     "text": [
      "Highland Park               2\n",
      "South Side Flats            1\n",
      "Greenfield                  1\n",
      "Brighton Heights            1\n",
      "Bedford Dwellings           1\n",
      "Mount Washington            1\n",
      "Squirrel Hill South         1\n",
      "Troy Hill                   1\n",
      "Beltzhoover                 1\n",
      "Perry North                 1\n",
      "Allegheny Center            1\n",
      "Shadyside                   1\n",
      "Bloomfield                  1\n",
      "Lincoln-Lemington-Belmar    1\n",
      "Homewood South              1\n",
      "Hazelwood                   1\n",
      "Polish Hill                 1\n",
      "Carrick                     1\n",
      "Name: neighborhood, dtype: int64\n"
     ]
    }
   ],
   "source": [
    "df4 = best_water[\"neighborhood\"].value_counts()\n",
    "print(df4)"
   ]
  },
  {
   "cell_type": "markdown",
   "metadata": {},
   "source": [
    "Now that we created dataframes for each of our variables we just plug and chug."
   ]
  },
  {
   "cell_type": "code",
   "execution_count": 269,
   "metadata": {},
   "outputs": [
    {
     "name": "stdout",
     "output_type": "stream",
     "text": [
      "South Side Flats            7.0\n",
      "Highland Park               4.0\n",
      "Carrick                     4.0\n",
      "Squirrel Hill South         4.0\n",
      "Shadyside                   4.0\n",
      "Polish Hill                 4.0\n",
      "Perry North                 4.0\n",
      "Beltzhoover                 4.0\n",
      "Lincoln-Lemington-Belmar    4.0\n",
      "Brighton Heights            4.0\n",
      "Homewood South              4.0\n",
      "Troy Hill                   4.0\n",
      "Hazelwood                   4.0\n",
      "Greenfield                  4.0\n",
      "Banksville                  3.0\n",
      "Beechview                   3.0\n",
      "Westwood                    3.0\n",
      "East Hills                  3.0\n",
      "Lincoln Place               3.0\n",
      "South Side Slopes           3.0\n",
      "Bloomfield                  2.0\n",
      "Mount Washington            2.0\n",
      "Bedford Dwellings           2.0\n",
      "Allegheny Center            2.0\n",
      "Brookline                   1.0\n",
      "Sheraden                    1.0\n",
      "Name: neighborhood, dtype: float64\n"
     ]
    }
   ],
   "source": [
    "pools_final = df1.add(df2, fill_value=0).add(df3, fill_value=0).add(df4, fill_value=0)\n",
    "pools_final = pools_final.sort_values(ascending=False)\n",
    "print(pools_final)"
   ]
  },
  {
   "cell_type": "code",
   "execution_count": 270,
   "metadata": {},
   "outputs": [
    {
     "data": {
      "text/plain": [
       "<matplotlib.axes._subplots.AxesSubplot at 0x7fd7100ed048>"
      ]
     },
     "execution_count": 270,
     "metadata": {},
     "output_type": "execute_result"
    },
    {
     "data": {
      "image/png": "[encoded data removed]",
      "text/plain": [
       "<Figure size 432x288 with 1 Axes>"
      ]
     },
     "metadata": {
      "needs_background": "light"
     },
     "output_type": "display_data"
    }
   ],
   "source": [
    "pools_final.head(10).plot(kind=\"bar\")"
   ]
  },
  {
   "cell_type": "markdown",
   "metadata": {},
   "source": [
    "South side flats dominates the pools category, having two high capacity pools within it. Follow close behind by a bunch of neighborhoods at 4 since that is the maximum value for a neighborhood with one pool.\n",
    "\n",
    "### Final Equation\n",
    "\n",
    "At long last we are beginning to reach the finish line and finally crown the best neighborhood in Pittsburgh. We have each of the individual factors broken down and ranked according to how we defined their equations. Now we just have to create our final equation combining our three factors of Playing Fields, Playgrounds, and Pools to decide upon the best neighborhood for a kid to live in.\n",
    "\n",
    "We decide that we should weigh each of the three factors relatively the same, so to do this we will be scaling the `Pools` and `Playing Fields` up to contain a similar magnitude to the `Playgrounds`. Resulting in the following final equation.\n",
    "\n",
    "`(5)F + G + (5)P = H`\n",
    "\n",
    "Where `F` is our playing field results, `G` is our playground results, `P` is our pool results, and `H` is child happiness. All that's left to do now is apply those factors and add them all up and we'll have objectively solved the enigma of child happiness in Pittsburgh through our empirical formula."
   ]
  },
  {
   "cell_type": "code",
   "execution_count": 272,
   "metadata": {},
   "outputs": [
    {
     "name": "stdout",
     "output_type": "stream",
     "text": [
      "Squirrel Hill South         83.00\n",
      "South Side Slopes           66.00\n",
      "Brighton Heights            64.00\n",
      "Carrick                     56.75\n",
      "Highland Park               56.50\n",
      "Beechview                   55.50\n",
      "Hazelwood                   55.25\n",
      "South Side Flats            53.50\n",
      "Brookline                   50.75\n",
      "Beltzhoover                 46.75\n",
      "Troy Hill                   46.25\n",
      "Shadyside                   41.75\n",
      "Greenfield                  40.50\n",
      "Mount Washington            40.25\n",
      "Sheraden                    38.25\n",
      "Lincoln-Lemington-Belmar    38.25\n",
      "Allegheny Center            38.00\n",
      "Perry North                 37.75\n",
      "Westwood                    34.50\n",
      "Polish Hill                 33.25\n",
      "Banksville                  32.75\n",
      "Morningside                 32.25\n",
      "Lincoln Place               29.50\n",
      "Homewood South              28.75\n",
      "Lower Lawrenceville         27.50\n",
      "Bedford Dwellings           26.00\n",
      "Elliott                     23.50\n",
      "Central Lawrenceville       21.00\n",
      "East Hills                  20.00\n",
      "Regent Square               19.50\n",
      "                            ...  \n",
      "West End                    11.00\n",
      "Marshall-Shadeland          10.50\n",
      "Perry South                  9.75\n",
      "Oakwood                      9.50\n",
      "Allentown                    9.50\n",
      "Upper Lawrenceville          9.50\n",
      "Spring Garden                8.50\n",
      "Stanton Heights              8.50\n",
      "Larimer                      8.00\n",
      "Crawford-Roberts             7.00\n",
      "Central Oakland              7.00\n",
      "Swisshelm Park               6.50\n",
      "Squirrel Hill North          6.00\n",
      "New Homestead                5.50\n",
      "Upper Hill                   5.50\n",
      "Arlington                    5.00\n",
      "Duquesne Heights             4.50\n",
      "Fairywood                    4.50\n",
      "Homewood West                4.50\n",
      "Central Northside            4.00\n",
      "Bon Air                      3.50\n",
      "Point Breeze North           3.50\n",
      "Middle Hill                  3.50\n",
      "Homewood North               3.50\n",
      "Hays                         3.00\n",
      "Bluff                        2.50\n",
      "East Carnegie                2.50\n",
      "Esplen                       2.00\n",
      "Strip District               1.00\n",
      "West Oakland                 1.00\n",
      "Name: neighborhood, Length: 70, dtype: float64\n"
     ]
    }
   ],
   "source": [
    "pools_final = pools_final.multiply(5)\n",
    "fields_final = fields_final.multiply(5)\n",
    "\n",
    "happiness = pools_final.add(fields_final, fill_value=0).add(playgrounds_final, fill_value=0)\n",
    "happiness = happiness.sort_values(ascending=False)\n",
    "\n",
    "print(happiness)"
   ]
  },
  {
   "cell_type": "code",
   "execution_count": 273,
   "metadata": {},
   "outputs": [
    {
     "data": {
      "text/plain": [
       "<matplotlib.axes._subplots.AxesSubplot at 0x7fd7100b3cf8>"
      ]
     },
     "execution_count": 273,
     "metadata": {},
     "output_type": "execute_result"
    },
    {
     "data": {
      "image/png": "[encoded data removed]",
      "text/plain": [
       "<Figure size 432x288 with 1 Axes>"
      ]
     },
     "metadata": {
      "needs_background": "light"
     },
     "output_type": "display_data"
    }
   ],
   "source": [
    "happiness.head(10).plot(kind=\"bar\")"
   ]
  },
  {
   "cell_type": "markdown",
   "metadata": {},
   "source": [
    "## THE UNDISPUTED, INTERNATIONAL, LOCAL, CHILDHOOD HAPPINESS CENTER OF PITTSBURGH IS:\n",
    "\n",
    "# SQUIRREL HILL SOUTH"
   ]
  },
  {
   "cell_type": "code",
   "execution_count": null,
   "metadata": {},
   "outputs": [],
   "source": []
  }
 ],
 "metadata": {
  "kernelspec": {
   "display_name": "Python 3.7",
   "language": "python",
   "name": "python3"
  },
  "language_info": {
   "codemirror_mode": {
    "name": "ipython",
    "version": 3
   },
   "file_extension": ".py",
   "mimetype": "text/x-python",
   "name": "python",
   "nbconvert_exporter": "python",
   "pygments_lexer": "ipython3",
   "version": "3.7.0"
  }
 },
 "nbformat": 4,
 "nbformat_minor": 4
}
