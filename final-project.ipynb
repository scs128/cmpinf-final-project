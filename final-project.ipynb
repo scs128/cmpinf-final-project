{
 "cells": [
  {
   "cell_type": "markdown",
   "metadata": {},
   "source": [
    "**FINAL PROJECT**"
   ]
  },
  {
   "cell_type": "markdown",
   "metadata": {},
   "source": [
    "Ok, first we are going to get everything set up by importing the useful libraries (pandas, numpy, and matplot)."
   ]
  },
  {
   "cell_type": "code",
   "execution_count": 55,
   "metadata": {},
   "outputs": [],
   "source": [
    "import pandas as pd\n",
    "import numpy as np\n",
    "%matplotlib inline\n",
    "import matplotlib.pyplot as plt"
   ]
  },
  {
   "cell_type": "markdown",
   "metadata": {},
   "source": [
    "Awesome!\n",
    "\n",
    "The first metric we will be analyzing is playing fields.\n",
    "\n",
    "***Playing Fields***\n",
    "\n",
    "![playing fields](https://www.usu.edu/campusrec/images/ALF%20for%20tv%20small.jpg)\n",
    "\n",
    "Now, lets read in the data set for playing fields around Pittsburgh and take a look."
   ]
  },
  {
   "cell_type": "code",
   "execution_count": 56,
   "metadata": {},
   "outputs": [
    {
     "data": {
      "text/html": [
       "<div>\n",
       "<style scoped>\n",
       "    .dataframe tbody tr th:only-of-type {\n",
       "        vertical-align: middle;\n",
       "    }\n",
       "\n",
       "    .dataframe tbody tr th {\n",
       "        vertical-align: top;\n",
       "    }\n",
       "\n",
       "    .dataframe thead th {\n",
       "        text-align: right;\n",
       "    }\n",
       "</style>\n",
       "<table border=\"1\" class=\"dataframe\">\n",
       "  <thead>\n",
       "    <tr style=\"text-align: right;\">\n",
       "      <th></th>\n",
       "      <th>id</th>\n",
       "      <th>name</th>\n",
       "      <th>has_lights</th>\n",
       "      <th>park</th>\n",
       "      <th>field_usage</th>\n",
       "      <th>goal_post</th>\n",
       "      <th>infield_type</th>\n",
       "      <th>left_field_distance</th>\n",
       "      <th>center_field_distance</th>\n",
       "      <th>right_field_distance</th>\n",
       "      <th>...</th>\n",
       "      <th>neighborhood</th>\n",
       "      <th>council_district</th>\n",
       "      <th>ward</th>\n",
       "      <th>tract</th>\n",
       "      <th>public_works_division</th>\n",
       "      <th>pli_division</th>\n",
       "      <th>police_zone</th>\n",
       "      <th>fire_zone</th>\n",
       "      <th>latitude</th>\n",
       "      <th>longitude</th>\n",
       "    </tr>\n",
       "  </thead>\n",
       "  <tbody>\n",
       "    <tr>\n",
       "      <th>0</th>\n",
       "      <td>1914615260</td>\n",
       "      <td>Arlington Field 1</td>\n",
       "      <td>t</td>\n",
       "      <td>Arlington Park</td>\n",
       "      <td>Diamond Only</td>\n",
       "      <td>0</td>\n",
       "      <td>Skinned</td>\n",
       "      <td>160.0</td>\n",
       "      <td>230.0</td>\n",
       "      <td>290.0</td>\n",
       "      <td>...</td>\n",
       "      <td>South Side Slopes</td>\n",
       "      <td>3</td>\n",
       "      <td>16</td>\n",
       "      <td>42003160800</td>\n",
       "      <td>3</td>\n",
       "      <td>16</td>\n",
       "      <td>3</td>\n",
       "      <td>4-22</td>\n",
       "      <td>40.418314</td>\n",
       "      <td>-79.975007</td>\n",
       "    </tr>\n",
       "    <tr>\n",
       "      <th>1</th>\n",
       "      <td>1151740179</td>\n",
       "      <td>Armstrong</td>\n",
       "      <td>f</td>\n",
       "      <td>Armstrong Park</td>\n",
       "      <td>Diamond and Rectangular</td>\n",
       "      <td>0</td>\n",
       "      <td>Skinned</td>\n",
       "      <td>240.0</td>\n",
       "      <td>163.0</td>\n",
       "      <td>122.0</td>\n",
       "      <td>...</td>\n",
       "      <td>South Side Flats</td>\n",
       "      <td>3</td>\n",
       "      <td>17</td>\n",
       "      <td>42003170200</td>\n",
       "      <td>3</td>\n",
       "      <td>17</td>\n",
       "      <td>3</td>\n",
       "      <td>4-24</td>\n",
       "      <td>40.428074</td>\n",
       "      <td>-79.985662</td>\n",
       "    </tr>\n",
       "    <tr>\n",
       "      <th>2</th>\n",
       "      <td>971009139</td>\n",
       "      <td>Bandbox</td>\n",
       "      <td>f</td>\n",
       "      <td>Arsenal Park</td>\n",
       "      <td>Diamond Only</td>\n",
       "      <td>0</td>\n",
       "      <td>Skinned</td>\n",
       "      <td>135.0</td>\n",
       "      <td>200.0</td>\n",
       "      <td>150.0</td>\n",
       "      <td>...</td>\n",
       "      <td>Lower Lawrenceville</td>\n",
       "      <td>7</td>\n",
       "      <td>6</td>\n",
       "      <td>42003060300</td>\n",
       "      <td>2</td>\n",
       "      <td>6</td>\n",
       "      <td>2</td>\n",
       "      <td>3-3</td>\n",
       "      <td>40.466331</td>\n",
       "      <td>-79.961299</td>\n",
       "    </tr>\n",
       "    <tr>\n",
       "      <th>3</th>\n",
       "      <td>1581124728</td>\n",
       "      <td>Banksville</td>\n",
       "      <td>f</td>\n",
       "      <td>Banksville Park</td>\n",
       "      <td>Diamond Only</td>\n",
       "      <td>0</td>\n",
       "      <td>Skinned</td>\n",
       "      <td>304.0</td>\n",
       "      <td>354.0</td>\n",
       "      <td>373.0</td>\n",
       "      <td>...</td>\n",
       "      <td>Banksville</td>\n",
       "      <td>2</td>\n",
       "      <td>20</td>\n",
       "      <td>42003202300</td>\n",
       "      <td>5</td>\n",
       "      <td>20</td>\n",
       "      <td>6</td>\n",
       "      <td>4-9</td>\n",
       "      <td>40.413923</td>\n",
       "      <td>-80.039940</td>\n",
       "    </tr>\n",
       "    <tr>\n",
       "      <th>4</th>\n",
       "      <td>1052125703</td>\n",
       "      <td>Banksville School</td>\n",
       "      <td>t</td>\n",
       "      <td>Banksville School Park</td>\n",
       "      <td>Diamond Only</td>\n",
       "      <td>0</td>\n",
       "      <td>Skinned</td>\n",
       "      <td>180.0</td>\n",
       "      <td>175.0</td>\n",
       "      <td>185.0</td>\n",
       "      <td>...</td>\n",
       "      <td>Banksville</td>\n",
       "      <td>2</td>\n",
       "      <td>20</td>\n",
       "      <td>42003202300</td>\n",
       "      <td>5</td>\n",
       "      <td>20</td>\n",
       "      <td>6</td>\n",
       "      <td>4-9</td>\n",
       "      <td>40.407059</td>\n",
       "      <td>-80.037870</td>\n",
       "    </tr>\n",
       "  </tbody>\n",
       "</table>\n",
       "<p>5 rows × 21 columns</p>\n",
       "</div>"
      ],
      "text/plain": [
       "           id               name has_lights                    park  \\\n",
       "0  1914615260  Arlington Field 1          t          Arlington Park   \n",
       "1  1151740179          Armstrong          f          Armstrong Park   \n",
       "2   971009139            Bandbox          f            Arsenal Park   \n",
       "3  1581124728         Banksville          f         Banksville Park   \n",
       "4  1052125703  Banksville School          t  Banksville School Park   \n",
       "\n",
       "               field_usage  goal_post infield_type  left_field_distance  \\\n",
       "0             Diamond Only          0      Skinned                160.0   \n",
       "1  Diamond and Rectangular          0      Skinned                240.0   \n",
       "2             Diamond Only          0      Skinned                135.0   \n",
       "3             Diamond Only          0      Skinned                304.0   \n",
       "4             Diamond Only          0      Skinned                180.0   \n",
       "\n",
       "   center_field_distance  right_field_distance    ...      \\\n",
       "0                  230.0                 290.0    ...       \n",
       "1                  163.0                 122.0    ...       \n",
       "2                  200.0                 150.0    ...       \n",
       "3                  354.0                 373.0    ...       \n",
       "4                  175.0                 185.0    ...       \n",
       "\n",
       "          neighborhood council_district  ward        tract  \\\n",
       "0    South Side Slopes                3    16  42003160800   \n",
       "1     South Side Flats                3    17  42003170200   \n",
       "2  Lower Lawrenceville                7     6  42003060300   \n",
       "3           Banksville                2    20  42003202300   \n",
       "4           Banksville                2    20  42003202300   \n",
       "\n",
       "   public_works_division  pli_division  police_zone  fire_zone   latitude  \\\n",
       "0                      3            16            3       4-22  40.418314   \n",
       "1                      3            17            3       4-24  40.428074   \n",
       "2                      2             6            2        3-3  40.466331   \n",
       "3                      5            20            6        4-9  40.413923   \n",
       "4                      5            20            6        4-9  40.407059   \n",
       "\n",
       "   longitude  \n",
       "0 -79.975007  \n",
       "1 -79.985662  \n",
       "2 -79.961299  \n",
       "3 -80.039940  \n",
       "4 -80.037870  \n",
       "\n",
       "[5 rows x 21 columns]"
      ]
     },
     "execution_count": 56,
     "metadata": {},
     "output_type": "execute_result"
    }
   ],
   "source": [
    "playing_fields = pd.read_csv(\"https://data.wprdc.org/datastore/dump/6af89346-b971-41d5-af09-49cfdb4dfe23\")\n",
    "playing_fields.head()"
   ]
  },
  {
   "cell_type": "markdown",
   "metadata": {},
   "source": [
    "Ok everything looks good.\n",
    "\n",
    "Before we do anything else, why don't we get a better picture of the neighborhoods we are dealing with here."
   ]
  },
  {
   "cell_type": "code",
   "execution_count": 57,
   "metadata": {},
   "outputs": [
    {
     "data": {
      "text/plain": [
       "array(['South Side Slopes', 'South Side Flats', 'Lower Lawrenceville',\n",
       "       'Banksville', 'Allentown', 'Brighton Heights', 'Hazelwood',\n",
       "       'Lincoln-Lemington-Belmar', 'Windgap', 'Troy Hill',\n",
       "       'South Oakland', 'Brookline', 'Arlington', 'Mount Washington',\n",
       "       'Crafton Heights', 'East Hills', 'East Liberty', 'Highland Park',\n",
       "       'Squirrel Hill South', 'Upper Lawrenceville', 'Fineview',\n",
       "       'Regent Square', 'Garfield', 'Perry South', 'Perry North',\n",
       "       'Elliott', 'Beechview', 'Morningside', 'Central Lawrenceville',\n",
       "       'Bedford Dwellings', 'Terrace Village', 'Larimer', 'Beltzhoover',\n",
       "       'Greenfield', 'Manchester', 'Allegheny Center', 'Central Oakland',\n",
       "       'Lincoln Place', 'Sheraden', 'Shadyside', 'Spring Garden',\n",
       "       'Oakwood', 'Stanton Heights', 'Carrick', 'Marshall-Shadeland',\n",
       "       'Spring Hill-City View', 'West End', 'Polish Hill', 'Westwood',\n",
       "       'Squirrel Hill North', 'Homewood South'], dtype=object)"
      ]
     },
     "execution_count": 57,
     "metadata": {},
     "output_type": "execute_result"
    }
   ],
   "source": [
    "playing_fields[\"neighborhood\"].unique()"
   ]
  },
  {
   "cell_type": "markdown",
   "metadata": {},
   "source": [
    "That gives us the names of the individual neighborhoods, but what about knowing exactly how many we are working with.\n",
    "\n",
    "We can easily check this with a small change to the previous code"
   ]
  },
  {
   "cell_type": "code",
   "execution_count": 58,
   "metadata": {},
   "outputs": [
    {
     "data": {
      "text/plain": [
       "51"
      ]
     },
     "execution_count": 58,
     "metadata": {},
     "output_type": "execute_result"
    }
   ],
   "source": [
    "playing_fields[\"neighborhood\"].nunique()"
   ]
  },
  {
   "cell_type": "markdown",
   "metadata": {},
   "source": [
    "Ok, how about how many playing fields we need to consider."
   ]
  },
  {
   "cell_type": "code",
   "execution_count": 59,
   "metadata": {},
   "outputs": [
    {
     "data": {
      "text/plain": [
       "113"
      ]
     },
     "execution_count": 59,
     "metadata": {},
     "output_type": "execute_result"
    }
   ],
   "source": [
    "len(playing_fields)"
   ]
  },
  {
   "cell_type": "markdown",
   "metadata": {},
   "source": [
    "That's actually pretty good, especially considering that a significant amount of the data set covers urban regions, which makes it somewhat more difficult to find the land needed for playing fields.\n",
    "\n",
    "Now, lets breakdown the data set to analyze how the playing fields are distributed by neighborhood"
   ]
  },
  {
   "cell_type": "code",
   "execution_count": 60,
   "metadata": {},
   "outputs": [
    {
     "data": {
      "text/plain": [
       "Brighton Heights            7\n",
       "South Side Slopes           6\n",
       "Brookline                   6\n",
       "Squirrel Hill South         5\n",
       "Carrick                     5\n",
       "Highland Park               4\n",
       "Hazelwood                   4\n",
       "Lower Lawrenceville         4\n",
       "Beltzhoover                 3\n",
       "Shadyside                   3\n",
       "Troy Hill                   3\n",
       "Sheraden                    3\n",
       "Beechview                   3\n",
       "Morningside                 3\n",
       "Mount Washington            3\n",
       "Spring Hill-City View       2\n",
       "Manchester                  2\n",
       "Westwood                    2\n",
       "Perry North                 2\n",
       "Regent Square               2\n",
       "South Side Flats            2\n",
       "Allegheny Center            2\n",
       "Bedford Dwellings           2\n",
       "Banksville                  2\n",
       "Crafton Heights             2\n",
       "Central Lawrenceville       2\n",
       "South Oakland               2\n",
       "Elliott                     2\n",
       "Lincoln-Lemington-Belmar    2\n",
       "Greenfield                  2\n",
       "Lincoln Place               1\n",
       "East Liberty                1\n",
       "Marshall-Shadeland          1\n",
       "Arlington                   1\n",
       "Perry South                 1\n",
       "West End                    1\n",
       "Homewood South              1\n",
       "Upper Lawrenceville         1\n",
       "Spring Garden               1\n",
       "Garfield                    1\n",
       "Larimer                     1\n",
       "Fineview                    1\n",
       "Polish Hill                 1\n",
       "East Hills                  1\n",
       "Windgap                     1\n",
       "Oakwood                     1\n",
       "Stanton Heights             1\n",
       "Allentown                   1\n",
       "Central Oakland             1\n",
       "Squirrel Hill North         1\n",
       "Terrace Village             1\n",
       "Name: neighborhood, dtype: int64"
      ]
     },
     "execution_count": 60,
     "metadata": {},
     "output_type": "execute_result"
    }
   ],
   "source": [
    "playing_fields[\"neighborhood\"].value_counts()"
   ]
  },
  {
   "cell_type": "markdown",
   "metadata": {},
   "source": [
    "This gives us a solid idea of the distribution of playing fields across the various neighborhoods in Pittsburgh, but we can create a visual representation as well to add some more insight."
   ]
  },
  {
   "cell_type": "code",
   "execution_count": null,
   "metadata": {},
   "outputs": [],
   "source": [
    "playing_fields[\"neighborhood\"].value_counts().plot(kind=\"bar\")"
   ]
  },
  {
   "cell_type": "markdown",
   "metadata": {},
   "source": [
    "From both representations of the data, we see that there isn't a ton of variability in the amount of playing fields per neighborhood; however, there are definitely a few neighborhoods that stand out at the top, for instance Brighton Heights leading the pack with seven.\n",
    "\n",
    "Lets take a closer look at the top five."
   ]
  },
  {
   "cell_type": "code",
   "execution_count": null,
   "metadata": {},
   "outputs": [],
   "source": [
    "playing_fields[\"neighborhood\"].value_counts().head().plot(kind=\"bar\")"
   ]
  },
  {
   "cell_type": "markdown",
   "metadata": {},
   "source": [
    "Perfect, we have our top five comprised of Brighton Heights, South Side Slopes, Brookline, Squirrel Hill South, and Carrick. We could simply end our investigation here, but the data has a few quirks that we should consider.\n",
    "\n",
    "As we look through the data set, it seems designed to consider mainly baseball fields, with individual field locations classified by the shape(s)/usage of the field(s). Lets examine what types of fields we are working with. "
   ]
  },
  {
   "cell_type": "code",
   "execution_count": 11,
   "metadata": {},
   "outputs": [
    {
     "data": {
      "text/plain": [
       "array(['Diamond Only', 'Diamond and Rectangular', 'Rectangular Only'],\n",
       "      dtype=object)"
      ]
     },
     "execution_count": 11,
     "metadata": {},
     "output_type": "execute_result"
    }
   ],
   "source": [
    "playing_fields[\"field_usage\"].unique()"
   ]
  },
  {
   "cell_type": "markdown",
   "metadata": {},
   "source": [
    "So, there are fields used only for the diamond, rectangular fields that lack a diamond, and locations that are multi-purpose, offering both a rectangular field and a diamond. For these multi-purpose locations, the data set does not specify whether their mixed usage is because there are multiple fields at the location or that the singular field has all of the equipment and lines to be used for all kinds of activities. We will be assuming the later, that each piece of data corresponds to one field only, in order to avoid the complexities that accompany the other option.  \n",
    "\n",
    "Something else to consider is that the data set's design has left it impossible to gauge the size of rectangular fields, as the size of the fields is only indicated by the distance from home plate to left, center, and right field respectively. Obviously, this complicates things as their is no way to measure exactly how much land each neighborhood has dedicated to playing fields.\n",
    "\n",
    "Furthermore, the data set also contains a \"has_lights\" field that stipulates whether or not the field has lights, giving us another factor to consider. Playing fields with lights are arguably more valuable than those without, as they can be used for greater periods of time. \n",
    "\n",
    "So, how are we going to take these factors into account. By default, we will give all playing fields a value of 1. Fields that are multi-purpose will recieve an additional point of value on top of that. We will be giving fields with lights an additional .25 as well to account for the additional use they offer that fields without lights lack.  \n",
    "\n",
    "So, lets apply this to the data by generating two subsets of the original data that encompass multi-purpose fields and fields with lights"
   ]
  },
  {
   "cell_type": "code",
   "execution_count": 12,
   "metadata": {},
   "outputs": [
    {
     "data": {
      "text/plain": [
       "Morningside              3\n",
       "Central Lawrenceville    2\n",
       "Westwood                 2\n",
       "Highland Park            2\n",
       "Brookline                2\n",
       "Sheraden                 1\n",
       "Terrace Village          1\n",
       "Allegheny Center         1\n",
       "South Side Flats         1\n",
       "Lower Lawrenceville      1\n",
       "Homewood South           1\n",
       "Polish Hill              1\n",
       "West End                 1\n",
       "Beltzhoover              1\n",
       "Elliott                  1\n",
       "Name: neighborhood, dtype: int64"
      ]
     },
     "execution_count": 12,
     "metadata": {},
     "output_type": "execute_result"
    }
   ],
   "source": [
    "both_options = playing_fields[\"field_usage\"] == \"Diamond and Rectangular\"\n",
    "multi_purpose = playing_fields[both_options]\n",
    "multi_purpose[\"neighborhood\"].value_counts()"
   ]
  },
  {
   "cell_type": "markdown",
   "metadata": {},
   "source": [
    "This represents the number of fields in each neighborhood that are multi-purpose, meaning they have both a diamond and a rectangular field.\n",
    "\n",
    "We will factor this into the final equation to determine the best neighborhood in Pittsburgh.\n",
    "\n",
    "Here are some visuals for the data."
   ]
  },
  {
   "cell_type": "code",
   "execution_count": 13,
   "metadata": {},
   "outputs": [
    {
     "data": {
      "text/plain": [
       "<matplotlib.axes._subplots.AxesSubplot at 0x7ff8de0930f0>"
      ]
     },
     "execution_count": 13,
     "metadata": {},
     "output_type": "execute_result"
    },
    {
     "data": {
      "image/png": "[encoded data removed]",
      "text/plain": [
       "<Figure size 432x288 with 1 Axes>"
      ]
     },
     "metadata": {
      "needs_background": "light"
     },
     "output_type": "display_data"
    }
   ],
   "source": [
    "multi_purpose[\"neighborhood\"].value_counts().plot(kind=\"bar\")"
   ]
  },
  {
   "cell_type": "code",
   "execution_count": 14,
   "metadata": {},
   "outputs": [
    {
     "data": {
      "text/plain": [
       "<matplotlib.axes._subplots.AxesSubplot at 0x7ff8de093d68>"
      ]
     },
     "execution_count": 14,
     "metadata": {},
     "output_type": "execute_result"
    },
    {
     "data": {
      "image/png": "[encoded data removed]",
      "text/plain": [
       "<Figure size 432x288 with 1 Axes>"
      ]
     },
     "metadata": {
      "needs_background": "light"
     },
     "output_type": "display_data"
    }
   ],
   "source": [
    "multi_purpose[\"neighborhood\"].value_counts().head().plot(kind=\"bar\")"
   ]
  },
  {
   "cell_type": "code",
   "execution_count": 15,
   "metadata": {},
   "outputs": [
    {
     "data": {
      "text/plain": [
       "South Side Slopes           4\n",
       "Carrick                     3\n",
       "Mount Washington            3\n",
       "Brookline                   3\n",
       "Troy Hill                   3\n",
       "Morningside                 3\n",
       "Beechview                   2\n",
       "Elliott                     2\n",
       "Crafton Heights             2\n",
       "Westwood                    2\n",
       "Lower Lawrenceville         2\n",
       "Bedford Dwellings           2\n",
       "Greenfield                  2\n",
       "Squirrel Hill South         2\n",
       "Central Lawrenceville       2\n",
       "Manchester                  1\n",
       "Perry South                 1\n",
       "Windgap                     1\n",
       "Beltzhoover                 1\n",
       "South Oakland               1\n",
       "Fineview                    1\n",
       "Sheraden                    1\n",
       "Shadyside                   1\n",
       "Lincoln-Lemington-Belmar    1\n",
       "Terrace Village             1\n",
       "Perry North                 1\n",
       "Banksville                  1\n",
       "Spring Hill-City View       1\n",
       "Polish Hill                 1\n",
       "Homewood South              1\n",
       "Garfield                    1\n",
       "Hazelwood                   1\n",
       "Name: neighborhood, dtype: int64"
      ]
     },
     "execution_count": 15,
     "metadata": {},
     "output_type": "execute_result"
    }
   ],
   "source": [
    "has_lights = playing_fields[\"has_lights\"] == \"t\"\n",
    "fields_with_lights = playing_fields[has_lights]\n",
    "fields_with_lights[\"neighborhood\"].value_counts()"
   ]
  },
  {
   "cell_type": "markdown",
   "metadata": {},
   "source": [
    "This represents the number of fields in each neighborhood that have lights.\n",
    "\n",
    "We will factor this into the final equation to determine the best neighborhood in Pittsburgh.\n",
    "\n",
    "Here are some visuals for the data."
   ]
  },
  {
   "cell_type": "code",
   "execution_count": 16,
   "metadata": {},
   "outputs": [
    {
     "data": {
      "text/plain": [
       "<matplotlib.axes._subplots.AxesSubplot at 0x7ff8ddf14d30>"
      ]
     },
     "execution_count": 16,
     "metadata": {},
     "output_type": "execute_result"
    },
    {
     "data": {
      "image/png": "[encoded data removed]",
      "text/plain": [
       "<Figure size 432x288 with 1 Axes>"
      ]
     },
     "metadata": {
      "needs_background": "light"
     },
     "output_type": "display_data"
    }
   ],
   "source": [
    "fields_with_lights[\"neighborhood\"].value_counts().plot(kind=\"bar\")"
   ]
  },
  {
   "cell_type": "code",
   "execution_count": 19,
   "metadata": {},
   "outputs": [
    {
     "data": {
      "text/plain": [
       "<matplotlib.axes._subplots.AxesSubplot at 0x7ff8dddf5c50>"
      ]
     },
     "execution_count": 19,
     "metadata": {},
     "output_type": "execute_result"
    },
    {
     "data": {
      "image/png": "[encoded data removed]",
      "text/plain": [
       "<Figure size 432x288 with 1 Axes>"
      ]
     },
     "metadata": {
      "needs_background": "light"
     },
     "output_type": "display_data"
    }
   ],
   "source": [
    "fields_with_lights[\"neighborhood\"].value_counts().head().plot(kind=\"bar\")"
   ]
  },
  {
   "cell_type": "markdown",
   "metadata": {},
   "source": [
    "Now lets step away from the playing fields and begin to look at playgrounds in Pittsburgh."
   ]
  },
  {
   "cell_type": "code",
   "execution_count": 24,
   "metadata": {},
   "outputs": [
    {
     "data": {
      "text/html": [
       "<div>\n",
       "<style scoped>\n",
       "    .dataframe tbody tr th:only-of-type {\n",
       "        vertical-align: middle;\n",
       "    }\n",
       "\n",
       "    .dataframe tbody tr th {\n",
       "        vertical-align: top;\n",
       "    }\n",
       "\n",
       "    .dataframe thead th {\n",
       "        text-align: right;\n",
       "    }\n",
       "</style>\n",
       "<table border=\"1\" class=\"dataframe\">\n",
       "  <thead>\n",
       "    <tr style=\"text-align: right;\">\n",
       "      <th></th>\n",
       "      <th>id</th>\n",
       "      <th>name</th>\n",
       "      <th>type</th>\n",
       "      <th>maintenance_responsibility</th>\n",
       "      <th>park</th>\n",
       "      <th>street</th>\n",
       "      <th>image</th>\n",
       "      <th>neighborhood</th>\n",
       "      <th>council_district</th>\n",
       "      <th>ward</th>\n",
       "      <th>tract</th>\n",
       "      <th>public_works_division</th>\n",
       "      <th>pli_division</th>\n",
       "      <th>police_zone</th>\n",
       "      <th>fire_zone</th>\n",
       "      <th>latitude</th>\n",
       "      <th>longitude</th>\n",
       "    </tr>\n",
       "  </thead>\n",
       "  <tbody>\n",
       "    <tr>\n",
       "      <th>0</th>\n",
       "      <td>731501774</td>\n",
       "      <td>Able Long Playground</td>\n",
       "      <td>NaN</td>\n",
       "      <td>Parks - Western</td>\n",
       "      <td>Able Long Park</td>\n",
       "      <td>COAST AVE</td>\n",
       "      <td>https://tools.wprdc.org/images/pittsburgh/play...</td>\n",
       "      <td>Beechview</td>\n",
       "      <td>4</td>\n",
       "      <td>19</td>\n",
       "      <td>42003192000</td>\n",
       "      <td>5</td>\n",
       "      <td>19</td>\n",
       "      <td>6</td>\n",
       "      <td>4-28</td>\n",
       "      <td>40.408365</td>\n",
       "      <td>-80.028445</td>\n",
       "    </tr>\n",
       "    <tr>\n",
       "      <th>1</th>\n",
       "      <td>1461276747</td>\n",
       "      <td>Albert Graham Playground</td>\n",
       "      <td>NaN</td>\n",
       "      <td>Parks - Schenley</td>\n",
       "      <td>Albert Turk Graham Park</td>\n",
       "      <td>FORESIDE PL</td>\n",
       "      <td>https://tools.wprdc.org/images/pittsburgh/play...</td>\n",
       "      <td>Crawford-Roberts</td>\n",
       "      <td>6</td>\n",
       "      <td>3</td>\n",
       "      <td>42003030500</td>\n",
       "      <td>3</td>\n",
       "      <td>3</td>\n",
       "      <td>2</td>\n",
       "      <td>2-1</td>\n",
       "      <td>40.440519</td>\n",
       "      <td>-79.984137</td>\n",
       "    </tr>\n",
       "    <tr>\n",
       "      <th>2</th>\n",
       "      <td>1860709784</td>\n",
       "      <td>Alpine Playground</td>\n",
       "      <td>NaN</td>\n",
       "      <td>Parks - Northern</td>\n",
       "      <td>Alpine Gardens Park</td>\n",
       "      <td>ALPINE AVE</td>\n",
       "      <td>https://tools.wprdc.org/images/pittsburgh/play...</td>\n",
       "      <td>Central Northside</td>\n",
       "      <td>6</td>\n",
       "      <td>25</td>\n",
       "      <td>42003250300</td>\n",
       "      <td>1</td>\n",
       "      <td>25</td>\n",
       "      <td>1</td>\n",
       "      <td>1-21</td>\n",
       "      <td>40.457707</td>\n",
       "      <td>-80.012952</td>\n",
       "    </tr>\n",
       "    <tr>\n",
       "      <th>3</th>\n",
       "      <td>1770671485</td>\n",
       "      <td>Alton Playground</td>\n",
       "      <td>NaN</td>\n",
       "      <td>Parks - Western</td>\n",
       "      <td>Alton Park</td>\n",
       "      <td>ANDICK WAY</td>\n",
       "      <td>https://tools.wprdc.org/images/pittsburgh/play...</td>\n",
       "      <td>Beechview</td>\n",
       "      <td>4</td>\n",
       "      <td>19</td>\n",
       "      <td>42003191600</td>\n",
       "      <td>5</td>\n",
       "      <td>19</td>\n",
       "      <td>6</td>\n",
       "      <td>4-28</td>\n",
       "      <td>40.414137</td>\n",
       "      <td>-80.021831</td>\n",
       "    </tr>\n",
       "    <tr>\n",
       "      <th>4</th>\n",
       "      <td>18942817</td>\n",
       "      <td>Ammon Playground</td>\n",
       "      <td>NaN</td>\n",
       "      <td>Parks - Schenley</td>\n",
       "      <td>Ammon Park</td>\n",
       "      <td>MEMORY LN</td>\n",
       "      <td>https://tools.wprdc.org/images/pittsburgh/play...</td>\n",
       "      <td>Bedford Dwellings</td>\n",
       "      <td>6</td>\n",
       "      <td>5</td>\n",
       "      <td>42003050900</td>\n",
       "      <td>3</td>\n",
       "      <td>5</td>\n",
       "      <td>2</td>\n",
       "      <td>2-5</td>\n",
       "      <td>40.449037</td>\n",
       "      <td>-79.978064</td>\n",
       "    </tr>\n",
       "  </tbody>\n",
       "</table>\n",
       "</div>"
      ],
      "text/plain": [
       "           id                      name  type maintenance_responsibility  \\\n",
       "0   731501774      Able Long Playground   NaN            Parks - Western   \n",
       "1  1461276747  Albert Graham Playground   NaN           Parks - Schenley   \n",
       "2  1860709784         Alpine Playground   NaN           Parks - Northern   \n",
       "3  1770671485          Alton Playground   NaN            Parks - Western   \n",
       "4    18942817          Ammon Playground   NaN           Parks - Schenley   \n",
       "\n",
       "                      park       street  \\\n",
       "0           Able Long Park    COAST AVE   \n",
       "1  Albert Turk Graham Park  FORESIDE PL   \n",
       "2      Alpine Gardens Park   ALPINE AVE   \n",
       "3               Alton Park   ANDICK WAY   \n",
       "4               Ammon Park    MEMORY LN   \n",
       "\n",
       "                                               image       neighborhood  \\\n",
       "0  https://tools.wprdc.org/images/pittsburgh/play...          Beechview   \n",
       "1  https://tools.wprdc.org/images/pittsburgh/play...   Crawford-Roberts   \n",
       "2  https://tools.wprdc.org/images/pittsburgh/play...  Central Northside   \n",
       "3  https://tools.wprdc.org/images/pittsburgh/play...          Beechview   \n",
       "4  https://tools.wprdc.org/images/pittsburgh/play...  Bedford Dwellings   \n",
       "\n",
       "   council_district  ward        tract  public_works_division  pli_division  \\\n",
       "0                 4    19  42003192000                      5            19   \n",
       "1                 6     3  42003030500                      3             3   \n",
       "2                 6    25  42003250300                      1            25   \n",
       "3                 4    19  42003191600                      5            19   \n",
       "4                 6     5  42003050900                      3             5   \n",
       "\n",
       "   police_zone fire_zone   latitude  longitude  \n",
       "0            6      4-28  40.408365 -80.028445  \n",
       "1            2       2-1  40.440519 -79.984137  \n",
       "2            1      1-21  40.457707 -80.012952  \n",
       "3            6      4-28  40.414137 -80.021831  \n",
       "4            2       2-5  40.449037 -79.978064  "
      ]
     },
     "execution_count": 24,
     "metadata": {},
     "output_type": "execute_result"
    }
   ],
   "source": [
    "playgrounds = pd.read_csv(\"https://data.wprdc.org/datastore/dump/47350364-44a8-4d15-b6e0-5f79ddff9367\")\n",
    "playgrounds.head()"
   ]
  },
  {
   "cell_type": "markdown",
   "metadata": {},
   "source": [
    "Let's check out the neighborhoods."
   ]
  },
  {
   "cell_type": "code",
   "execution_count": 25,
   "metadata": {},
   "outputs": [
    {
     "data": {
      "text/plain": [
       "array(['Beechview', 'Crawford-Roberts', 'Central Northside',\n",
       "       'Bedford Dwellings', 'South Side Slopes', 'South Side Flats',\n",
       "       'Lower Lawrenceville', 'Banksville', 'Homewood North', 'Bon Air',\n",
       "       'Central Oakland', 'Brighton Heights', 'Brookline', 'Hazelwood',\n",
       "       'Squirrel Hill South', 'Spring Garden', 'Lincoln-Lemington-Belmar',\n",
       "       'Windgap', 'Troy Hill', 'Westwood', 'Perry South', 'Homewood West',\n",
       "       'Allegheny Center', 'Strip District', 'Stanton Heights',\n",
       "       'Crafton Heights', 'West Oakland', 'East Carnegie',\n",
       "       'Duquesne Heights', 'East Liberty', 'Esplen', 'Fairywood',\n",
       "       'Highland Park', 'Upper Lawrenceville', 'Fineview',\n",
       "       'Regent Square', 'Garfield', 'Greenfield', 'South Oakland',\n",
       "       'Allentown', 'Hays', 'Elliott', 'Morningside', 'Terrace Village',\n",
       "       'Larimer', 'Carrick', 'Central Lawrenceville', 'Lincoln Place',\n",
       "       'Manchester', 'Marshall-Shadeland', 'Sheraden', 'Beltzhoover',\n",
       "       'Shadyside', 'Mount Washington', 'Oakwood', 'Bloomfield',\n",
       "       'Perry North', 'Upper Hill', 'New Homestead',\n",
       "       'Spring Hill-City View', 'Swisshelm Park', 'Bluff', 'Middle Hill',\n",
       "       'West End', 'Polish Hill', 'Point Breeze North',\n",
       "       'Squirrel Hill North'], dtype=object)"
      ]
     },
     "execution_count": 25,
     "metadata": {},
     "output_type": "execute_result"
    }
   ],
   "source": [
    "playgrounds[\"neighborhood\"].unique()"
   ]
  },
  {
   "cell_type": "markdown",
   "metadata": {},
   "source": [
    "That looks like quite a bit more than when we were looking at the playing fields. How many neighborhoods do we have here."
   ]
  },
  {
   "cell_type": "code",
   "execution_count": 26,
   "metadata": {},
   "outputs": [
    {
     "data": {
      "text/plain": [
       "67"
      ]
     },
     "execution_count": 26,
     "metadata": {},
     "output_type": "execute_result"
    }
   ],
   "source": [
    "playgrounds[\"neighborhood\"].nunique()"
   ]
  },
  {
   "cell_type": "markdown",
   "metadata": {},
   "source": [
    "There's 16 more neighborhoods here! We'll have to account for that later when deciding which neighborhood is the best for your kids.\n",
    "\n",
    "Now how many parks do we have exactly?"
   ]
  },
  {
   "cell_type": "code",
   "execution_count": 27,
   "metadata": {},
   "outputs": [
    {
     "data": {
      "text/plain": [
       "121"
      ]
     },
     "execution_count": 27,
     "metadata": {},
     "output_type": "execute_result"
    }
   ],
   "source": [
    "len(playgrounds)"
   ]
  },
  {
   "cell_type": "markdown",
   "metadata": {},
   "source": [
    "That's a fair amount of playgrounds, just some quick math would recommend just under an average of 2 playgrounds per neighborhood.\n",
    "\n",
    "Why don't we see how many playgrounds each neighborhood actually has?"
   ]
  },
  {
   "cell_type": "code",
   "execution_count": 29,
   "metadata": {},
   "outputs": [
    {
     "data": {
      "text/plain": [
       "Squirrel Hill South         8\n",
       "Beechview                   5\n",
       "South Side Slopes           5\n",
       "Allegheny Center            4\n",
       "Highland Park               4\n",
       "Sheraden                    4\n",
       "Crawford-Roberts            3\n",
       "Carrick                     3\n",
       "Beltzhoover                 3\n",
       "South Oakland               3\n",
       "Elliott                     3\n",
       "Mount Washington            3\n",
       "Hazelwood                   3\n",
       "Greenfield                  2\n",
       "Crafton Heights             2\n",
       "Lincoln Place               2\n",
       "Bloomfield                  2\n",
       "Troy Hill                   2\n",
       "Manchester                  2\n",
       "Brookline                   2\n",
       "Brighton Heights            2\n",
       "South Side Flats            2\n",
       "Marshall-Shadeland          2\n",
       "Upper Lawrenceville         2\n",
       "Lincoln-Lemington-Belmar    2\n",
       "Garfield                    2\n",
       "East Liberty                2\n",
       "Central Northside           2\n",
       "Morningside                 2\n",
       "Squirrel Hill North         1\n",
       "                           ..\n",
       "Shadyside                   1\n",
       "Regent Square               1\n",
       "East Carnegie               1\n",
       "Westwood                    1\n",
       "Homewood North              1\n",
       "New Homestead               1\n",
       "Central Lawrenceville       1\n",
       "Point Breeze North          1\n",
       "Spring Garden               1\n",
       "Hays                        1\n",
       "Polish Hill                 1\n",
       "Duquesne Heights            1\n",
       "Perry North                 1\n",
       "Swisshelm Park              1\n",
       "Allentown                   1\n",
       "Central Oakland             1\n",
       "Bon Air                     1\n",
       "Spring Hill-City View       1\n",
       "Stanton Heights             1\n",
       "Windgap                     1\n",
       "Fairywood                   1\n",
       "Lower Lawrenceville         1\n",
       "Banksville                  1\n",
       "Fineview                    1\n",
       "West Oakland                1\n",
       "Larimer                     1\n",
       "Terrace Village             1\n",
       "Bluff                       1\n",
       "Esplen                      1\n",
       "Strip District              1\n",
       "Name: neighborhood, Length: 67, dtype: int64"
      ]
     },
     "execution_count": 29,
     "metadata": {},
     "output_type": "execute_result"
    }
   ],
   "source": [
    "playgrounds[\"neighborhood\"].value_counts()"
   ]
  },
  {
   "cell_type": "markdown",
   "metadata": {},
   "source": [
    "How about we make that more visual."
   ]
  },
  {
   "cell_type": "code",
   "execution_count": 30,
   "metadata": {},
   "outputs": [
    {
     "data": {
      "text/plain": [
       "<matplotlib.axes._subplots.AxesSubplot at 0x7f91bdd200f0>"
      ]
     },
     "execution_count": 30,
     "metadata": {},
     "output_type": "execute_result"
    },
    {
     "data": {
      "image/png": "[encoded data removed]",
      "text/plain": [
       "<Figure size 432x288 with 1 Axes>"
      ]
     },
     "metadata": {
      "needs_background": "light"
     },
     "output_type": "display_data"
    }
   ],
   "source": [
    "playgrounds[\"neighborhood\"].value_counts().head().plot(kind=\"bar\")"
   ]
  },
  {
   "cell_type": "markdown",
   "metadata": {},
   "source": [
    "Wow! Immediately we see Squirrel Hill South with the most but a large margin, sitting on top with 8 playgrounds. Followed by Beechview and South Side Slopes tied with 5. So its safe to say Squirrel Hill South is the best neighborhood in terms of playgrounds, right?\n",
    "\n",
    "Not necessarily, a big aspect of playground is having thing for everyone. Luckily for us, we have another dataset on playground equipment and whether they are ADA accessible. For those who don't know the ADA is the American with Disabilities Act, and sets guidelines on the accessibilty requirements of public and commercial land in order to prohibit discrimination against the disabled.\n",
    "\n",
    "For example Chartiers Playground contains ADA accessible swings:\n",
    "![ ](https://tools.wprdc.org/images/pittsburgh/playgrounds/Chartiers_Playground.jpg)\n",
    "\n",
    "Now with this in mind lets pop our new database into pandas and run some of the same code one it."
   ]
  },
  {
   "cell_type": "code",
   "execution_count": 32,
   "metadata": {},
   "outputs": [
    {
     "data": {
      "text/html": [
       "<div>\n",
       "<style scoped>\n",
       "    .dataframe tbody tr th:only-of-type {\n",
       "        vertical-align: middle;\n",
       "    }\n",
       "\n",
       "    .dataframe tbody tr th {\n",
       "        vertical-align: top;\n",
       "    }\n",
       "\n",
       "    .dataframe thead th {\n",
       "        text-align: right;\n",
       "    }\n",
       "</style>\n",
       "<table border=\"1\" class=\"dataframe\">\n",
       "  <thead>\n",
       "    <tr style=\"text-align: right;\">\n",
       "      <th></th>\n",
       "      <th>id</th>\n",
       "      <th>name</th>\n",
       "      <th>equipment_type</th>\n",
       "      <th>manufacturer</th>\n",
       "      <th>safety_surface_type</th>\n",
       "      <th>ada_accessible</th>\n",
       "      <th>street_number</th>\n",
       "      <th>street</th>\n",
       "      <th>neighborhood</th>\n",
       "      <th>council_district</th>\n",
       "      <th>ward</th>\n",
       "      <th>tract</th>\n",
       "      <th>public_works_division</th>\n",
       "      <th>pli_division</th>\n",
       "      <th>police_zone</th>\n",
       "      <th>fire_zone</th>\n",
       "      <th>latitude</th>\n",
       "      <th>longitude</th>\n",
       "    </tr>\n",
       "  </thead>\n",
       "  <tbody>\n",
       "    <tr>\n",
       "      <th>0</th>\n",
       "      <td>1780722587</td>\n",
       "      <td>Able Long Playground</td>\n",
       "      <td>Play Area 2 to 5</td>\n",
       "      <td>Little Tykes</td>\n",
       "      <td>Pour in Place</td>\n",
       "      <td>f</td>\n",
       "      <td>211.0</td>\n",
       "      <td>Coast Ave</td>\n",
       "      <td>Beechview</td>\n",
       "      <td>4</td>\n",
       "      <td>19</td>\n",
       "      <td>42003192000</td>\n",
       "      <td>5</td>\n",
       "      <td>19</td>\n",
       "      <td>6</td>\n",
       "      <td>4-28</td>\n",
       "      <td>40.408381</td>\n",
       "      <td>-80.028520</td>\n",
       "    </tr>\n",
       "    <tr>\n",
       "      <th>1</th>\n",
       "      <td>702514290</td>\n",
       "      <td>North Ave. Playground</td>\n",
       "      <td>Play Area 2 to 5</td>\n",
       "      <td>Playworld</td>\n",
       "      <td>SofSurfaces</td>\n",
       "      <td>f</td>\n",
       "      <td>377.0</td>\n",
       "      <td>W North Ave</td>\n",
       "      <td>Allegheny Center</td>\n",
       "      <td>1</td>\n",
       "      <td>22</td>\n",
       "      <td>42003562700</td>\n",
       "      <td>1</td>\n",
       "      <td>22</td>\n",
       "      <td>1</td>\n",
       "      <td>1-7</td>\n",
       "      <td>40.454526</td>\n",
       "      <td>-80.010188</td>\n",
       "    </tr>\n",
       "    <tr>\n",
       "      <th>2</th>\n",
       "      <td>1267038491</td>\n",
       "      <td>Vietnam Veteran's Playground</td>\n",
       "      <td>Slide</td>\n",
       "      <td>Little Tykes</td>\n",
       "      <td>SofSurfaces</td>\n",
       "      <td>f</td>\n",
       "      <td>108.0</td>\n",
       "      <td>Panther Hollow Rd</td>\n",
       "      <td>Squirrel Hill South</td>\n",
       "      <td>5</td>\n",
       "      <td>14</td>\n",
       "      <td>42003980500</td>\n",
       "      <td>3</td>\n",
       "      <td>14</td>\n",
       "      <td>4</td>\n",
       "      <td>2-8</td>\n",
       "      <td>40.434185</td>\n",
       "      <td>-79.944323</td>\n",
       "    </tr>\n",
       "    <tr>\n",
       "      <th>3</th>\n",
       "      <td>14898932</td>\n",
       "      <td>Schenley Overlook Playground</td>\n",
       "      <td>Swing 2 Bays</td>\n",
       "      <td>Little Tykes</td>\n",
       "      <td>SofSurfaces</td>\n",
       "      <td>t</td>\n",
       "      <td>NaN</td>\n",
       "      <td>Overlook Dr</td>\n",
       "      <td>Squirrel Hill South</td>\n",
       "      <td>5</td>\n",
       "      <td>14</td>\n",
       "      <td>42003980500</td>\n",
       "      <td>3</td>\n",
       "      <td>14</td>\n",
       "      <td>4</td>\n",
       "      <td>2-8</td>\n",
       "      <td>40.432130</td>\n",
       "      <td>-79.947774</td>\n",
       "    </tr>\n",
       "    <tr>\n",
       "      <th>4</th>\n",
       "      <td>204832406</td>\n",
       "      <td>Schenley Overlook Playground</td>\n",
       "      <td>Slide</td>\n",
       "      <td>Little Tykes</td>\n",
       "      <td>SofSurfaces</td>\n",
       "      <td>f</td>\n",
       "      <td>NaN</td>\n",
       "      <td>Overlook Dr</td>\n",
       "      <td>Squirrel Hill South</td>\n",
       "      <td>5</td>\n",
       "      <td>14</td>\n",
       "      <td>42003980500</td>\n",
       "      <td>3</td>\n",
       "      <td>14</td>\n",
       "      <td>4</td>\n",
       "      <td>2-8</td>\n",
       "      <td>40.432215</td>\n",
       "      <td>-79.947817</td>\n",
       "    </tr>\n",
       "  </tbody>\n",
       "</table>\n",
       "</div>"
      ],
      "text/plain": [
       "           id                          name    equipment_type  manufacturer  \\\n",
       "0  1780722587          Able Long Playground  Play Area 2 to 5  Little Tykes   \n",
       "1   702514290         North Ave. Playground  Play Area 2 to 5     Playworld   \n",
       "2  1267038491  Vietnam Veteran's Playground             Slide  Little Tykes   \n",
       "3    14898932  Schenley Overlook Playground      Swing 2 Bays  Little Tykes   \n",
       "4   204832406  Schenley Overlook Playground             Slide  Little Tykes   \n",
       "\n",
       "  safety_surface_type ada_accessible  street_number             street  \\\n",
       "0       Pour in Place              f          211.0          Coast Ave   \n",
       "1         SofSurfaces              f          377.0        W North Ave   \n",
       "2         SofSurfaces              f          108.0  Panther Hollow Rd   \n",
       "3         SofSurfaces              t            NaN        Overlook Dr   \n",
       "4         SofSurfaces              f            NaN        Overlook Dr   \n",
       "\n",
       "          neighborhood  council_district  ward        tract  \\\n",
       "0            Beechview                 4    19  42003192000   \n",
       "1     Allegheny Center                 1    22  42003562700   \n",
       "2  Squirrel Hill South                 5    14  42003980500   \n",
       "3  Squirrel Hill South                 5    14  42003980500   \n",
       "4  Squirrel Hill South                 5    14  42003980500   \n",
       "\n",
       "   public_works_division  pli_division  police_zone fire_zone   latitude  \\\n",
       "0                      5            19            6      4-28  40.408381   \n",
       "1                      1            22            1       1-7  40.454526   \n",
       "2                      3            14            4       2-8  40.434185   \n",
       "3                      3            14            4       2-8  40.432130   \n",
       "4                      3            14            4       2-8  40.432215   \n",
       "\n",
       "   longitude  \n",
       "0 -80.028520  \n",
       "1 -80.010188  \n",
       "2 -79.944323  \n",
       "3 -79.947774  \n",
       "4 -79.947817  "
      ]
     },
     "execution_count": 32,
     "metadata": {},
     "output_type": "execute_result"
    }
   ],
   "source": [
    "playground_equipment = pd.read_csv(\"https://data.wprdc.org/datastore/dump/e39ef76e-0a11-47c8-a86f-a37f55db7a2b\")\n",
    "playground_equipment.head()"
   ]
  },
  {
   "cell_type": "code",
   "execution_count": 35,
   "metadata": {},
   "outputs": [
    {
     "data": {
      "text/plain": [
       "array(['Beechview', 'Allegheny Center', 'Squirrel Hill South', 'Windgap',\n",
       "       'Perry South', 'Crafton Heights', 'Fineview', 'Terrace Village',\n",
       "       'Hazelwood', 'Lincoln Place', 'Sheraden', 'Brookline', 'Oakwood',\n",
       "       'New Homestead', 'South Side Slopes', 'Upper Hill',\n",
       "       'Brighton Heights', 'Allentown', 'East Liberty', 'Highland Park',\n",
       "       'Central Northside', 'Bloomfield', 'Mount Washington', 'Shadyside',\n",
       "       'Westwood', 'Hays', 'Polish Hill', 'Central Oakland',\n",
       "       'Lincoln-Lemington-Belmar', 'Esplen', 'Greenfield',\n",
       "       'Crawford-Roberts', 'Bedford Dwellings', 'Marshall-Shadeland',\n",
       "       'Beltzhoover', 'West Oakland', 'Elliott', 'Spring Garden',\n",
       "       'Homewood West', 'Strip District', 'Stanton Heights',\n",
       "       'East Carnegie', 'Upper Lawrenceville', 'South Oakland',\n",
       "       'Morningside', 'South Side Flats', 'Central Lawrenceville',\n",
       "       'Manchester', 'Garfield', 'Lower Lawrenceville', 'Carrick',\n",
       "       'Spring Hill-City View', 'Bluff', 'Middle Hill', 'Banksville',\n",
       "       'West End', 'Point Breeze North', 'Troy Hill', 'Larimer',\n",
       "       'Duquesne Heights', 'Homewood North', 'Swisshelm Park', 'Bon Air',\n",
       "       'Regent Square', 'Fairywood', 'Perry North'], dtype=object)"
      ]
     },
     "execution_count": 35,
     "metadata": {},
     "output_type": "execute_result"
    }
   ],
   "source": [
    "playground_equipment[\"neighborhood\"].unique()"
   ]
  },
  {
   "cell_type": "code",
   "execution_count": 37,
   "metadata": {},
   "outputs": [
    {
     "data": {
      "text/plain": [
       "66"
      ]
     },
     "execution_count": 37,
     "metadata": {},
     "output_type": "execute_result"
    }
   ],
   "source": [
    "playground_equipment[\"neighborhood\"].nunique()"
   ]
  },
  {
   "cell_type": "markdown",
   "metadata": {},
   "source": [
    "Uh oh, it seems we have one less neighborhood. That's okay, we'll assume that playground has no ADA accessible equipement when we get to the end."
   ]
  },
  {
   "cell_type": "code",
   "execution_count": 38,
   "metadata": {},
   "outputs": [
    {
     "data": {
      "text/plain": [
       "Squirrel Hill South         32\n",
       "Beechview                   21\n",
       "Allegheny Center            15\n",
       "South Side Slopes           14\n",
       "Sheraden                    13\n",
       "Hazelwood                   13\n",
       "Highland Park               10\n",
       "Mount Washington            10\n",
       "Lincoln Place                9\n",
       "Regent Square                9\n",
       "Garfield                     9\n",
       "Brighton Heights             8\n",
       "East Liberty                 8\n",
       "Fineview                     8\n",
       "Manchester                   7\n",
       "Greenfield                   7\n",
       "Troy Hill                    7\n",
       "Beltzhoover                  7\n",
       "Carrick                      7\n",
       "Bloomfield                   7\n",
       "Brookline                    7\n",
       "Elliott                      7\n",
       "South Oakland                7\n",
       "Banksville                   6\n",
       "Lincoln-Lemington-Belmar     6\n",
       "Perry North                  6\n",
       "Swisshelm Park               6\n",
       "Crawford-Roberts             6\n",
       "Shadyside                    5\n",
       "Windgap                      5\n",
       "                            ..\n",
       "Fairywood                    4\n",
       "Allentown                    4\n",
       "Duquesne Heights             4\n",
       "Central Northside            4\n",
       "Polish Hill                  4\n",
       "Upper Lawrenceville          4\n",
       "Homewood West                4\n",
       "Terrace Village              4\n",
       "Oakwood                      4\n",
       "Homewood North               3\n",
       "Spring Hill-City View        3\n",
       "West End                     3\n",
       "Perry South                  3\n",
       "Central Lawrenceville        3\n",
       "Stanton Heights              3\n",
       "Hays                         3\n",
       "Spring Garden                3\n",
       "Bon Air                      3\n",
       "Larimer                      3\n",
       "Middle Hill                  3\n",
       "Bedford Dwellings            3\n",
       "Point Breeze North           3\n",
       "Westwood                     2\n",
       "Esplen                       2\n",
       "Central Oakland              2\n",
       "Bluff                        2\n",
       "Lower Lawrenceville          2\n",
       "East Carnegie                2\n",
       "West Oakland                 1\n",
       "Strip District               1\n",
       "Name: neighborhood, Length: 66, dtype: int64"
      ]
     },
     "execution_count": 38,
     "metadata": {},
     "output_type": "execute_result"
    }
   ],
   "source": [
    "playground_equipment[\"neighborhood\"].value_counts()"
   ]
  },
  {
   "cell_type": "code",
   "execution_count": 39,
   "metadata": {},
   "outputs": [
    {
     "data": {
      "text/plain": [
       "<matplotlib.axes._subplots.AxesSubplot at 0x7f91bdd00d30>"
      ]
     },
     "execution_count": 39,
     "metadata": {},
     "output_type": "execute_result"
    },
    {
     "data": {
      "image/png": "[encoded data removed]",
      "text/plain": [
       "<Figure size 432x288 with 1 Axes>"
      ]
     },
     "metadata": {
      "needs_background": "light"
     },
     "output_type": "display_data"
    }
   ],
   "source": [
    "playground_equipment[\"neighborhood\"].value_counts().head().plot(kind=\"bar\")"
   ]
  },
  {
   "cell_type": "markdown",
   "metadata": {},
   "source": [
    "So now we've arrived with a new graph featuring similar faces from the earlier graph. We still see Squirrel Hill South dominating the competition though. However, we have not filtered out the ADA accessible yet. So lets do that."
   ]
  },
  {
   "cell_type": "code",
   "execution_count": 45,
   "metadata": {},
   "outputs": [
    {
     "data": {
      "text/html": [
       "<div>\n",
       "<style scoped>\n",
       "    .dataframe tbody tr th:only-of-type {\n",
       "        vertical-align: middle;\n",
       "    }\n",
       "\n",
       "    .dataframe tbody tr th {\n",
       "        vertical-align: top;\n",
       "    }\n",
       "\n",
       "    .dataframe thead th {\n",
       "        text-align: right;\n",
       "    }\n",
       "</style>\n",
       "<table border=\"1\" class=\"dataframe\">\n",
       "  <thead>\n",
       "    <tr style=\"text-align: right;\">\n",
       "      <th></th>\n",
       "      <th>id</th>\n",
       "      <th>name</th>\n",
       "      <th>equipment_type</th>\n",
       "      <th>manufacturer</th>\n",
       "      <th>safety_surface_type</th>\n",
       "      <th>ada_accessible</th>\n",
       "      <th>street_number</th>\n",
       "      <th>street</th>\n",
       "      <th>neighborhood</th>\n",
       "      <th>council_district</th>\n",
       "      <th>ward</th>\n",
       "      <th>tract</th>\n",
       "      <th>public_works_division</th>\n",
       "      <th>pli_division</th>\n",
       "      <th>police_zone</th>\n",
       "      <th>fire_zone</th>\n",
       "      <th>latitude</th>\n",
       "      <th>longitude</th>\n",
       "    </tr>\n",
       "  </thead>\n",
       "  <tbody>\n",
       "    <tr>\n",
       "      <th>3</th>\n",
       "      <td>14898932</td>\n",
       "      <td>Schenley Overlook Playground</td>\n",
       "      <td>Swing 2 Bays</td>\n",
       "      <td>Little Tykes</td>\n",
       "      <td>SofSurfaces</td>\n",
       "      <td>t</td>\n",
       "      <td>NaN</td>\n",
       "      <td>Overlook Dr</td>\n",
       "      <td>Squirrel Hill South</td>\n",
       "      <td>5</td>\n",
       "      <td>14</td>\n",
       "      <td>42003980500</td>\n",
       "      <td>3</td>\n",
       "      <td>14</td>\n",
       "      <td>4</td>\n",
       "      <td>2-8</td>\n",
       "      <td>40.432130</td>\n",
       "      <td>-79.947774</td>\n",
       "    </tr>\n",
       "    <tr>\n",
       "      <th>6</th>\n",
       "      <td>1387089430</td>\n",
       "      <td>Chartiers Playground</td>\n",
       "      <td>Swing 2 Bays</td>\n",
       "      <td>Little Tykes</td>\n",
       "      <td>SofSurfaces</td>\n",
       "      <td>t</td>\n",
       "      <td>3783.0</td>\n",
       "      <td>Chartiers Ave</td>\n",
       "      <td>Windgap</td>\n",
       "      <td>2</td>\n",
       "      <td>28</td>\n",
       "      <td>42003563000</td>\n",
       "      <td>5</td>\n",
       "      <td>28</td>\n",
       "      <td>6</td>\n",
       "      <td>1-16</td>\n",
       "      <td>40.457218</td>\n",
       "      <td>-80.075070</td>\n",
       "    </tr>\n",
       "    <tr>\n",
       "      <th>10</th>\n",
       "      <td>1811257536</td>\n",
       "      <td>Cross and Strauss Playground</td>\n",
       "      <td>Swing 2 Bays</td>\n",
       "      <td>Little Tykes</td>\n",
       "      <td>Pour in Place</td>\n",
       "      <td>t</td>\n",
       "      <td>NaN</td>\n",
       "      <td>Cross St</td>\n",
       "      <td>Perry South</td>\n",
       "      <td>6</td>\n",
       "      <td>26</td>\n",
       "      <td>42003261400</td>\n",
       "      <td>1</td>\n",
       "      <td>26</td>\n",
       "      <td>1</td>\n",
       "      <td>1-12</td>\n",
       "      <td>40.465189</td>\n",
       "      <td>-80.020173</td>\n",
       "    </tr>\n",
       "    <tr>\n",
       "      <th>15</th>\n",
       "      <td>490747758</td>\n",
       "      <td>Dunbar Playground</td>\n",
       "      <td>Swing 2 Bays</td>\n",
       "      <td>Playworld</td>\n",
       "      <td>Pour in Place</td>\n",
       "      <td>t</td>\n",
       "      <td>1201.0</td>\n",
       "      <td>Clairhaven St</td>\n",
       "      <td>Crafton Heights</td>\n",
       "      <td>2</td>\n",
       "      <td>28</td>\n",
       "      <td>42003281500</td>\n",
       "      <td>5</td>\n",
       "      <td>28</td>\n",
       "      <td>6</td>\n",
       "      <td>1-18</td>\n",
       "      <td>40.439321</td>\n",
       "      <td>-80.051894</td>\n",
       "    </tr>\n",
       "    <tr>\n",
       "      <th>18</th>\n",
       "      <td>595152426</td>\n",
       "      <td>Fineview Playground</td>\n",
       "      <td>Swing 2 Bays</td>\n",
       "      <td>Playworld</td>\n",
       "      <td>Greenpark Breakfall</td>\n",
       "      <td>t</td>\n",
       "      <td>NaN</td>\n",
       "      <td>Fineview Ave</td>\n",
       "      <td>Fineview</td>\n",
       "      <td>1</td>\n",
       "      <td>25</td>\n",
       "      <td>42003250900</td>\n",
       "      <td>1</td>\n",
       "      <td>25</td>\n",
       "      <td>1</td>\n",
       "      <td>1-10</td>\n",
       "      <td>40.461713</td>\n",
       "      <td>-80.003621</td>\n",
       "    </tr>\n",
       "  </tbody>\n",
       "</table>\n",
       "</div>"
      ],
      "text/plain": [
       "            id                          name equipment_type  manufacturer  \\\n",
       "3     14898932  Schenley Overlook Playground   Swing 2 Bays  Little Tykes   \n",
       "6   1387089430          Chartiers Playground   Swing 2 Bays  Little Tykes   \n",
       "10  1811257536  Cross and Strauss Playground   Swing 2 Bays  Little Tykes   \n",
       "15   490747758             Dunbar Playground   Swing 2 Bays     Playworld   \n",
       "18   595152426           Fineview Playground   Swing 2 Bays     Playworld   \n",
       "\n",
       "    safety_surface_type ada_accessible  street_number         street  \\\n",
       "3           SofSurfaces              t            NaN    Overlook Dr   \n",
       "6           SofSurfaces              t         3783.0  Chartiers Ave   \n",
       "10        Pour in Place              t            NaN       Cross St   \n",
       "15        Pour in Place              t         1201.0  Clairhaven St   \n",
       "18  Greenpark Breakfall              t            NaN   Fineview Ave   \n",
       "\n",
       "           neighborhood  council_district  ward        tract  \\\n",
       "3   Squirrel Hill South                 5    14  42003980500   \n",
       "6               Windgap                 2    28  42003563000   \n",
       "10          Perry South                 6    26  42003261400   \n",
       "15      Crafton Heights                 2    28  42003281500   \n",
       "18             Fineview                 1    25  42003250900   \n",
       "\n",
       "    public_works_division  pli_division  police_zone fire_zone   latitude  \\\n",
       "3                       3            14            4       2-8  40.432130   \n",
       "6                       5            28            6      1-16  40.457218   \n",
       "10                      1            26            1      1-12  40.465189   \n",
       "15                      5            28            6      1-18  40.439321   \n",
       "18                      1            25            1      1-10  40.461713   \n",
       "\n",
       "    longitude  \n",
       "3  -79.947774  \n",
       "6  -80.075070  \n",
       "10 -80.020173  \n",
       "15 -80.051894  \n",
       "18 -80.003621  "
      ]
     },
     "execution_count": 45,
     "metadata": {},
     "output_type": "execute_result"
    }
   ],
   "source": [
    "accessible = playground_equipment[\"ada_accessible\"] == \"t\"\n",
    "accessible_playgrounds = playground_equipment[accessible]\n",
    "\n",
    "accessible_playgrounds.head()"
   ]
  },
  {
   "cell_type": "code",
   "execution_count": 47,
   "metadata": {},
   "outputs": [
    {
     "data": {
      "text/plain": [
       "Squirrel Hill South         7\n",
       "Beechview                   4\n",
       "South Side Slopes           4\n",
       "Mount Washington            3\n",
       "Highland Park               3\n",
       "Sheraden                    3\n",
       "Elliott                     3\n",
       "East Liberty                2\n",
       "Carrick                     2\n",
       "Manchester                  2\n",
       "Bloomfield                  2\n",
       "South Side Flats            2\n",
       "Crawford-Roberts            2\n",
       "Hazelwood                   2\n",
       "Beltzhoover                 2\n",
       "Lincoln-Lemington-Belmar    2\n",
       "Brighton Heights            2\n",
       "Fineview                    2\n",
       "Morningside                 2\n",
       "Greenfield                  2\n",
       "Lincoln Place               1\n",
       "Duquesne Heights            1\n",
       "Polish Hill                 1\n",
       "West End                    1\n",
       "Bon Air                     1\n",
       "Garfield                    1\n",
       "Allegheny Center            1\n",
       "Oakwood                     1\n",
       "Allentown                   1\n",
       "Crafton Heights             1\n",
       "Spring Garden               1\n",
       "Perry South                 1\n",
       "Point Breeze North          1\n",
       "Central Lawrenceville       1\n",
       "South Oakland               1\n",
       "New Homestead               1\n",
       "Middle Hill                 1\n",
       "Shadyside                   1\n",
       "Upper Hill                  1\n",
       "Regent Square               1\n",
       "Marshall-Shadeland          1\n",
       "Homewood North              1\n",
       "Stanton Heights             1\n",
       "Bedford Dwellings           1\n",
       "Windgap                     1\n",
       "Fairywood                   1\n",
       "Lower Lawrenceville         1\n",
       "Banksville                  1\n",
       "Swisshelm Park              1\n",
       "Terrace Village             1\n",
       "Homewood West               1\n",
       "Bluff                       1\n",
       "Perry North                 1\n",
       "Troy Hill                   1\n",
       "Spring Hill-City View       1\n",
       "Upper Lawrenceville         1\n",
       "East Carnegie               1\n",
       "Name: neighborhood, dtype: int64"
      ]
     },
     "execution_count": 47,
     "metadata": {},
     "output_type": "execute_result"
    }
   ],
   "source": [
    "accessible_playgrounds[\"neighborhood\"].value_counts()"
   ]
  },
  {
   "cell_type": "code",
   "execution_count": 48,
   "metadata": {},
   "outputs": [
    {
     "data": {
      "text/plain": [
       "<matplotlib.axes._subplots.AxesSubplot at 0x7f91bdd94780>"
      ]
     },
     "execution_count": 48,
     "metadata": {},
     "output_type": "execute_result"
    },
    {
     "data": {
      "image/png": "[encoded data removed]",
      "text/plain": [
       "<Figure size 432x288 with 1 Axes>"
      ]
     },
     "metadata": {
      "needs_background": "light"
     },
     "output_type": "display_data"
    }
   ],
   "source": [
    "accessible_playgrounds[\"neighborhood\"].value_counts().head().plot(kind=\"bar\")"
   ]
  },
  {
   "cell_type": "markdown",
   "metadata": {},
   "source": [
    "Even within ADA accessible playground equipment Squirrel Hill South remains on top, surprisingly we also see South Side Slopes return to its spot tied with Beechview in second after if dropped initially while looking at total playground equipment. Squirrel Hill South's numbers within each category will definitely earn it the top spot for playgrounds."
   ]
  },
  {
   "cell_type": "code",
   "execution_count": null,
   "metadata": {},
   "outputs": [],
   "source": []
  }
 ],
 "metadata": {
  "kernelspec": {
   "display_name": "Python 3.7",
   "language": "python",
   "name": "python3"
  },
  "language_info": {
   "codemirror_mode": {
    "name": "ipython",
    "version": 3
   },
   "file_extension": ".py",
   "mimetype": "text/x-python",
   "name": "python",
   "nbconvert_exporter": "python",
   "pygments_lexer": "ipython3",
   "version": "3.7.0"
  }
 },
 "nbformat": 4,
 "nbformat_minor": 4
}
